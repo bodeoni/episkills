{
 "metadata": {
  "name": "",
  "signature": "sha256:54a377c3bff0fb6f3afa0bfcdf8fa644fccae5baf760007612f2fc1e3ceea851"
 },
 "nbformat": 3,
 "nbformat_minor": 0,
 "worksheets": [
  {
   "cells": [
    {
     "cell_type": "markdown",
     "metadata": {},
     "source": [
      "# Lesson 2 - homework\n",
      "Begin by grabbing the data from: https://raw.githubusercontent.com/fivethirtyeight/data/master/congress-age/congress-terms.csv\n",
      "\n",
      "Use any resources you want (coworkers, internet).\n",
      "\n",
      "Here's a line to get you started (but don't forget something else needs to come first...):"
     ]
    },
    {
     "cell_type": "code",
     "collapsed": false,
     "input": [
      "congress = pd.read_table('https://raw.githubusercontent.com/fivethirtyeight/data/master/congress-age/congress-terms.csv', \\\n",
      "                         sep=',', error_bad_lines=False, infer_datetime_format=True, parse_dates=True)"
     ],
     "language": "python",
     "metadata": {},
     "outputs": []
    },
    {
     "cell_type": "markdown",
     "metadata": {},
     "source": [
      "## Basics\n",
      "\n",
      "1. What is the youngest age? The oldest? The mean?\n",
      "2. Plot the distribution of ages in a histogram.\n",
      "3. How many lines are in this data? How many columns?\n",
      "4. How many Republicans are there? Democrats? What are the percentages?"
     ]
    },
    {
     "cell_type": "code",
     "collapsed": false,
     "input": [],
     "language": "python",
     "metadata": {},
     "outputs": []
    },
    {
     "cell_type": "markdown",
     "metadata": {},
     "source": [
      "## Intermediate\n",
      "1. Is there a difference in mean age between the House and the Senate? What is the min and max for each group?\n",
      "2. What is the name and state of the youngest person overall? The top 5 youngest people?\n",
      "3. What are the top 3 most common first names? How many people are named Robert?\n",
      "4. Let's pretend Jon is a misspelling of John. Replace all the Jon names with John."
     ]
    },
    {
     "cell_type": "code",
     "collapsed": false,
     "input": [],
     "language": "python",
     "metadata": {},
     "outputs": []
    },
    {
     "cell_type": "markdown",
     "metadata": {},
     "source": [
      "## Advanced\n",
      "These may go above and beyond what we've learned in class. Feel free to Google.\n",
      "\n",
      "1. Has the mean age changed over time? (Bonus points if you use the term start date. If you get stuck, use the congress variable instead.)\n",
      "2. Produce a bar plot that shows, in order, the mean age by each state.\n",
      "3. Produce a line plot that shows the mean age of both house representatives and senators in Maryland over time.\n",
      "4. Select out all the people who had a term start date after your birth year (or some other year). Did any of them also serve in the years BEFORE your birth year? Who are they? How many terms did they serve?"
     ]
    },
    {
     "cell_type": "code",
     "collapsed": false,
     "input": [],
     "language": "python",
     "metadata": {},
     "outputs": []
    }
   ],
   "metadata": {}
  }
 ]
}