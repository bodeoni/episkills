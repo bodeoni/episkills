{
 "metadata": {
  "name": "",
  "signature": "sha256:d6faeb47f71872133d818c88280e64e899c47d795d861b4ac9d06f72fd8ea56d"
 },
 "nbformat": 3,
 "nbformat_minor": 0,
 "worksheets": [
  {
   "cells": [
    {
     "cell_type": "markdown",
     "metadata": {},
     "source": [
      "# Homework 3"
     ]
    },
    {
     "cell_type": "markdown",
     "metadata": {},
     "source": [
      "Notes: This homework is hard. It is intentionally vague, because I want you to think through all the steps that go into completing this goal. When you're working on your own problems, you know what you want the result to be, but it's up to you to identify and execute each step."
     ]
    },
    {
     "cell_type": "markdown",
     "metadata": {},
     "source": [
      "1. You are teaching an epidemiology class. You want to generate an example line list of 50 cases to share with your students. Write a function to generate a fake line list with the following fields: age, sex, exposure (yes, no, unknown). Numpy's random choice and random integer functions can help you.\n",
      "2. You are teaching your students about contact tracing. They get 10 points for finding patients with the exposure, and 5 points for finding patients without an exposure, and 1 point for finding patients with unknown exposure. Write a function to tally the number of points they get for their data set.\n",
      "3. Execute steps 1 and 2 three thousand times. What is the mean of all those scores? (Make sure you get different scores each time, or else something isn't working correctly)\n",
      "4. How could you complete question 2 using a data frame instead of a loop?"
     ]
    },
    {
     "cell_type": "code",
     "collapsed": false,
     "input": [
      "import numpy as np"
     ],
     "language": "python",
     "metadata": {},
     "outputs": []
    },
    {
     "cell_type": "code",
     "collapsed": false,
     "input": [
      "def generate_list(length):\n",
      "    cases = {}\n",
      "    \n",
      "    for i in range(length):\n",
      "        sex = np.random.choice(['m', 'f'])\n",
      "        exp = np.random.choice(['y', 'n', 'u'])\n",
      "        age = np.random.randint(0, 100)\n",
      "        cases[i] = {'sex':sex, 'exposure':exp, 'age':age}\n",
      "        \n",
      "    return cases"
     ],
     "language": "python",
     "metadata": {},
     "outputs": []
    },
    {
     "cell_type": "code",
     "collapsed": false,
     "input": [
      "def count_points(list_list):\n",
      "    points = 0\n",
      "    for k, v in line_list.iteritems():\n",
      "        if line_list[k]['exposure'] == 'y':\n",
      "            points += 10\n",
      "        elif line_list[k]['exposure'] == 'n':\n",
      "            points += 5\n",
      "            line_list[k]['exposure']\n",
      "        elif line_list[k]['exposure'] == 'u':\n",
      "            points += 1\n",
      "        print line_list[k]['exposure']\n",
      "            \n",
      "    return points"
     ],
     "language": "python",
     "metadata": {},
     "outputs": [],
     "prompt_number": 56
    },
    {
     "cell_type": "code",
     "collapsed": false,
     "input": [
      "point_keeper = []\n",
      "for i in range(3):\n",
      "    cases = generate_list(50)\n",
      "    points = count_points(cases)\n",
      "    point_keeper.append(points)"
     ],
     "language": "python",
     "metadata": {},
     "outputs": [
      {
       "output_type": "stream",
       "stream": "stdout",
       "text": [
        "y\n",
        "n\n",
        "n\n",
        "y\n",
        "n\n",
        "n\n",
        "n\n",
        "y\n",
        "y\n",
        "y\n",
        "n\n",
        "y\n",
        "n\n",
        "y\n",
        "n\n",
        "y\n",
        "n\n",
        "y\n",
        "n\n",
        "n\n",
        "n\n",
        "n\n",
        "n\n",
        "n\n",
        "n\n",
        "y\n",
        "n\n",
        "n\n",
        "y\n",
        "n\n",
        "n\n",
        "n\n",
        "y\n",
        "y\n",
        "y\n",
        "n\n",
        "y\n",
        "n\n",
        "y\n",
        "n\n",
        "y\n",
        "n\n",
        "y\n",
        "n\n",
        "n\n",
        "n\n",
        "n\n",
        "n\n",
        "n\n",
        "n\n",
        "y\n",
        "n\n",
        "n\n",
        "y\n",
        "n\n",
        "n\n",
        "n\n",
        "y\n",
        "y\n",
        "y\n",
        "n\n",
        "y\n",
        "n\n",
        "y\n",
        "n\n",
        "y\n",
        "n\n",
        "y\n",
        "n\n",
        "n\n",
        "n\n",
        "n\n",
        "n\n",
        "n\n",
        "n\n"
       ]
      }
     ],
     "prompt_number": 57
    },
    {
     "cell_type": "code",
     "collapsed": false,
     "input": [
      "np.mean(point_keeper)"
     ],
     "language": "python",
     "metadata": {},
     "outputs": [
      {
       "metadata": {},
       "output_type": "pyout",
       "prompt_number": 47,
       "text": [
        "170.0"
       ]
      }
     ],
     "prompt_number": 47
    },
    {
     "cell_type": "code",
     "collapsed": false,
     "input": [],
     "language": "python",
     "metadata": {},
     "outputs": []
    }
   ],
   "metadata": {}
  }
 ]
}