{
 "metadata": {
  "name": "",
  "signature": "sha256:368bc36b1d93b61a13c314488b0da1bf59c474eb988df707fa59481d47e8463b"
 },
 "nbformat": 3,
 "nbformat_minor": 0,
 "worksheets": [
  {
   "cells": [
    {
     "cell_type": "markdown",
     "metadata": {},
     "source": [
      "# Homework 3 answers"
     ]
    },
    {
     "cell_type": "markdown",
     "metadata": {},
     "source": [
      "1. You are teaching an epidemiology class. You want to generate an example line list to share with your students. Write a function to generate a fake line list with the following fields: age, sex, exposure (yes or no). Numpy's random choice and random integer functions can help you.\n",
      "2. You are teaching your students about contact tracing. They get 10 points for finding patients with the exposure, and 5 points for finding patients without an exposure. Write a function to tally the number of points they get for their data set.\n",
      "3. Write a loop to automatically execute steps 1 and 2 five times. Keep track of the scores. What is the mean of those scores?\n",
      "4. How could you complete exercise 2 using a data frame instead of a loop?"
     ]
    },
    {
     "cell_type": "code",
     "collapsed": false,
     "input": [
      "import numpy as np"
     ],
     "language": "python",
     "metadata": {},
     "outputs": [],
     "prompt_number": 1
    },
    {
     "cell_type": "code",
     "collapsed": false,
     "input": [
      "def generate_list(length):\n",
      "    cases = {}\n",
      "    \n",
      "    for i in range(length):\n",
      "        sex = np.random.choice(['m', 'f'])\n",
      "        exp = np.random.choice(['y', 'n', 'u'])\n",
      "        age = np.random.randint(0, 100)\n",
      "        cases[i] = {'sex':sex, 'exposure':exp, 'age':age}\n",
      "        \n",
      "    return cases"
     ],
     "language": "python",
     "metadata": {},
     "outputs": [],
     "prompt_number": 2
    },
    {
     "cell_type": "code",
     "collapsed": false,
     "input": [
      "def count_points(line_list):\n",
      "    points = 0\n",
      "    for k, v in line_list.iteritems():\n",
      "        if line_list[k]['exposure'] == 'y':\n",
      "            points += 10\n",
      "        elif line_list[k]['exposure'] == 'n':\n",
      "            points += 5\n",
      "            line_list[k]['exposure']\n",
      "        elif line_list[k]['exposure'] == 'u':\n",
      "            points += 1\n",
      "            \n",
      "    return points"
     ],
     "language": "python",
     "metadata": {},
     "outputs": [],
     "prompt_number": 6
    },
    {
     "cell_type": "code",
     "collapsed": false,
     "input": [
      "point_keeper = []\n",
      "for i in range(3):\n",
      "    cases = generate_list(50)\n",
      "    points = count_points(cases)\n",
      "    point_keeper.append(points)"
     ],
     "language": "python",
     "metadata": {},
     "outputs": [],
     "prompt_number": 7
    },
    {
     "cell_type": "code",
     "collapsed": false,
     "input": [
      "np.mean(point_keeper)"
     ],
     "language": "python",
     "metadata": {},
     "outputs": [
      {
       "metadata": {},
       "output_type": "pyout",
       "prompt_number": 8,
       "text": [
        "259.66666666666669"
       ]
      }
     ],
     "prompt_number": 8
    },
    {
     "cell_type": "code",
     "collapsed": false,
     "input": [],
     "language": "python",
     "metadata": {},
     "outputs": []
    }
   ],
   "metadata": {}
  }
 ]
}