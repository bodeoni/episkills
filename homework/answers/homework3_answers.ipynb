{
 "metadata": {
  "name": "",
  "signature": "sha256:eef76c44be0c10b38e8a972623ab3608e097d27b1595212c50e7f643ae1949bb"
 },
 "nbformat": 3,
 "nbformat_minor": 0,
 "worksheets": [
  {
   "cells": [
    {
     "cell_type": "markdown",
     "metadata": {},
     "source": [
      "# Homework 3 answers"
     ]
    },
    {
     "cell_type": "markdown",
     "metadata": {},
     "source": [
      "1. You are teaching an epidemiology class. You want to generate an example line list to share with your students. Write a function to generate a fake line list with the following fields: age, sex, exposure (yes or no). Numpy's random choice and random integer functions can help you.\n",
      "2. You are teaching your students about contact tracing. They get 10 points for finding patients with the exposure, and 5 points for finding patients without an exposure. Write a function to tally the number of points they get for their data set.\n",
      "3. Write a loop to automatically execute steps 1 and 2 five times. Keep track of the scores. What is the mean of those scores?\n",
      "4. How could you complete exercise 2 using a data frame instead of a loop?"
     ]
    },
    {
     "cell_type": "code",
     "collapsed": false,
     "input": [
      "import numpy as np"
     ],
     "language": "python",
     "metadata": {},
     "outputs": [],
     "prompt_number": 1
    },
    {
     "cell_type": "markdown",
     "metadata": {},
     "source": [
      "There are lots of different ways to complete this task, all (or most, at least) equally valid. I chose to generate each case one by one. I started by defining a function that takes as an input the number of cases I want to generate (I call it length). The it iterates through each of those cases-to-be, and randomly selects the attributes I'm interested in. I then put these newly chosen attributes into a dictionary, inside the loop. That dictionary gets appended to a dictionary outside the loops (here called cases, which is a nested dictionary), to keep track of all my cases. Then I return that nested dictionary."
     ]
    },
    {
     "cell_type": "code",
     "collapsed": false,
     "input": [
      "def generate_list(length):\n",
      "    cases = {}\n",
      "    \n",
      "    for i in range(length):\n",
      "        sex = np.random.choice(['m', 'f'])\n",
      "        exp = np.random.choice(['y', 'n', 'u'])\n",
      "        age = np.random.randint(0, 100)\n",
      "        cases[i] = {'sex':sex, 'exposure':exp, 'age':age}\n",
      "        \n",
      "    return cases"
     ],
     "language": "python",
     "metadata": {},
     "outputs": [],
     "prompt_number": 2
    },
    {
     "cell_type": "markdown",
     "metadata": {},
     "source": [
      "The second question asks you to keep track of the number of points your students get for completing contract tracing. Once again, there are a lot of ways to do this. I started by creating a function that accepts the aforementioned line list (nested dictionary)  as an argument. Then it loops through that line list. Remember that dictionaries require a special syntax to be used in for loops. You must iterate through both keys and value ({key:value}), here denoted as k, v. You must also tack .iteritems() onto the end of your dictionary object.\n",
      "\n",
      "For each line in my line list, I access the key that keeps track of whether or not the patient is exposed. Because this is a nested dictionary, I have several layers to wade through. You'll see below that my syntax is line_list[k]['exposure']. Another way to think about that is entire_line_list[this person][this person's exposure].\n",
      "\n",
      "I then use an if-then statement to assign the correct number of points. Exposed patients get 10 points, non-exposed patients get 5 points, etc. I keep track of the tally using a points object outside my loop. I use the += sign to increment my points, which is  the same thing as typing points = points + 10.\n",
      "\n",
      "Notice the control flow (if + elif + elif) that I used here. This is an easy case because no patients fall into more than one category. You could have used if + if + if and it would have worked fine. Of you could use if + elif + else, but else is always used by itself so you would delete the rest of the line. In situations where more than one sorting category could be true, you want to be careful to use the correct control flow. Spend time checking to make sure that the code is executing like you want it to.\n",
      "\n",
      "I end by returning my points object."
     ]
    },
    {
     "cell_type": "code",
     "collapsed": false,
     "input": [
      "def count_points(line_list):\n",
      "    points = 0\n",
      "    \n",
      "    # for each row in my dictionary\n",
      "    for k, v in line_list.iteritems():\n",
      "        if line_list[k]['exposure'] == 'y': #if exposure is yes, add 10\n",
      "            points += 10\n",
      "        elif line_list[k]['exposure'] == 'n':\n",
      "            points += 5\n",
      "        elif line_list[k]['exposure'] == 'u':\n",
      "            points += 1\n",
      "            \n",
      "    return points"
     ],
     "language": "python",
     "metadata": {},
     "outputs": [],
     "prompt_number": 5
    },
    {
     "cell_type": "markdown",
     "metadata": {},
     "source": [
      "Okay so I've written functions to do the things I want. Now to actuallly *do* those things, I call my function. Don't forget to give the output a variable name (I use cases below), and to pass in the required argument (the number of cases you want to be generated)."
     ]
    },
    {
     "cell_type": "code",
     "collapsed": false,
     "input": [
      "cases = generate_list(length=3)"
     ],
     "language": "python",
     "metadata": {},
     "outputs": [],
     "prompt_number": 6
    },
    {
     "cell_type": "markdown",
     "metadata": {},
     "source": [
      "In the second function I describe how to access a nested dictionary. Here's a real live example of how that works. Let's look at the entire line list (here I made it very short, just 3 cases, for demonstrative purposes)."
     ]
    },
    {
     "cell_type": "code",
     "collapsed": false,
     "input": [
      "cases"
     ],
     "language": "python",
     "metadata": {},
     "outputs": [
      {
       "metadata": {},
       "output_type": "pyout",
       "prompt_number": 7,
       "text": [
        "{0: {'age': 87, 'exposure': 'n', 'sex': 'f'},\n",
        " 1: {'age': 70, 'exposure': 'n', 'sex': 'f'},\n",
        " 2: {'age': 76, 'exposure': 'y', 'sex': 'f'}}"
       ]
      }
     ],
     "prompt_number": 7
    },
    {
     "cell_type": "markdown",
     "metadata": {},
     "source": [
      "See how we start by selecting case #2, and then move to selecting the case's exposure?"
     ]
    },
    {
     "cell_type": "code",
     "collapsed": false,
     "input": [
      "cases[2]['exposure']"
     ],
     "language": "python",
     "metadata": {},
     "outputs": [
      {
       "metadata": {},
       "output_type": "pyout",
       "prompt_number": 8,
       "text": [
        "'y'"
       ]
      }
     ],
     "prompt_number": 8
    },
    {
     "cell_type": "markdown",
     "metadata": {},
     "source": [
      "Here's another one. Try changing the number and key yourself to see if it works like you expect it to."
     ]
    },
    {
     "cell_type": "code",
     "collapsed": false,
     "input": [
      "cases[0]['sex']"
     ],
     "language": "python",
     "metadata": {},
     "outputs": [
      {
       "metadata": {},
       "output_type": "pyout",
       "prompt_number": 9,
       "text": [
        "'f'"
       ]
      }
     ],
     "prompt_number": 9
    },
    {
     "cell_type": "markdown",
     "metadata": {},
     "source": [
      "Ok, on to question 3 - do the last steps five times and keep track of the mean number of points. The temptation here is to just copy/paste each line five times, and manually keep track of the results. Don't do this! Programming is about letting the computer do the work for you. Or, more specifically, it's about front-loading the work by writing the code, and then letting the computer do all subsequent work. You may think it'll be quicker to do it by hand (just this once!) but you are wrong. "
     ]
    },
    {
     "cell_type": "markdown",
     "metadata": {},
     "source": [
      "So, to complete this homework question, I write a for loop that will do something five times. The \"something\" I want done is 1) randomly generate a line list 2) tally the points for contact tracing that line list and 3) keep track of those points for each iteration."
     ]
    },
    {
     "cell_type": "code",
     "collapsed": false,
     "input": [
      "point_keeper = []\n",
      "for i in range(5):\n",
      "    cases = generate_list(length=50)\n",
      "    points = count_points(cases)\n",
      "    point_keeper.append(points)"
     ],
     "language": "python",
     "metadata": {},
     "outputs": [],
     "prompt_number": 10
    },
    {
     "cell_type": "markdown",
     "metadata": {},
     "source": [
      "The result is a list with point totals for each iteration."
     ]
    },
    {
     "cell_type": "code",
     "collapsed": false,
     "input": [
      "point_keeper"
     ],
     "language": "python",
     "metadata": {},
     "outputs": [
      {
       "metadata": {},
       "output_type": "pyout",
       "prompt_number": 11,
       "text": [
        "[240, 270, 208, 292, 235]"
       ]
      }
     ],
     "prompt_number": 11
    },
    {
     "cell_type": "markdown",
     "metadata": {},
     "source": [
      "And finally we can take the mean of that list using numpy's mean function."
     ]
    },
    {
     "cell_type": "code",
     "collapsed": false,
     "input": [
      "np.mean(point_keeper)"
     ],
     "language": "python",
     "metadata": {},
     "outputs": [
      {
       "metadata": {},
       "output_type": "pyout",
       "prompt_number": 12,
       "text": [
        "249.0"
       ]
      }
     ],
     "prompt_number": 12
    },
    {
     "cell_type": "markdown",
     "metadata": {},
     "source": [
      "Last but not least, I want to explore another way to complete these tasks, this time using pandas.\n",
      "\n",
      "Nested dictionaries, like our line list above, are handy because they convert seamlessly to pandas dataframes."
     ]
    },
    {
     "cell_type": "code",
     "collapsed": false,
     "input": [
      "import pandas as pd\n",
      "cases2 = pd.DataFrame(cases)"
     ],
     "language": "python",
     "metadata": {},
     "outputs": [],
     "prompt_number": 13
    },
    {
     "cell_type": "code",
     "collapsed": false,
     "input": [
      "cases2"
     ],
     "language": "python",
     "metadata": {},
     "outputs": [
      {
       "html": [
        "<div style=\"max-width:1500px;overflow:auto;\">\n",
        "<table border=\"1\" class=\"dataframe\">\n",
        "  <thead>\n",
        "    <tr style=\"text-align: right;\">\n",
        "      <th></th>\n",
        "      <th>0</th>\n",
        "      <th>1</th>\n",
        "      <th>2</th>\n",
        "      <th>3</th>\n",
        "      <th>4</th>\n",
        "      <th>5</th>\n",
        "      <th>6</th>\n",
        "      <th>7</th>\n",
        "      <th>8</th>\n",
        "      <th>9</th>\n",
        "      <th>...</th>\n",
        "      <th>40</th>\n",
        "      <th>41</th>\n",
        "      <th>42</th>\n",
        "      <th>43</th>\n",
        "      <th>44</th>\n",
        "      <th>45</th>\n",
        "      <th>46</th>\n",
        "      <th>47</th>\n",
        "      <th>48</th>\n",
        "      <th>49</th>\n",
        "    </tr>\n",
        "  </thead>\n",
        "  <tbody>\n",
        "    <tr>\n",
        "      <th>age</th>\n",
        "      <td>14</td>\n",
        "      <td>23</td>\n",
        "      <td>37</td>\n",
        "      <td>72</td>\n",
        "      <td>11</td>\n",
        "      <td>60</td>\n",
        "      <td>64</td>\n",
        "      <td>21</td>\n",
        "      <td>17</td>\n",
        "      <td>23</td>\n",
        "      <td>...</td>\n",
        "      <td>34</td>\n",
        "      <td>84</td>\n",
        "      <td>9</td>\n",
        "      <td>48</td>\n",
        "      <td>78</td>\n",
        "      <td>60</td>\n",
        "      <td>45</td>\n",
        "      <td>40</td>\n",
        "      <td>79</td>\n",
        "      <td>95</td>\n",
        "    </tr>\n",
        "    <tr>\n",
        "      <th>exposure</th>\n",
        "      <td>u</td>\n",
        "      <td>y</td>\n",
        "      <td>n</td>\n",
        "      <td>u</td>\n",
        "      <td>n</td>\n",
        "      <td>y</td>\n",
        "      <td>n</td>\n",
        "      <td>y</td>\n",
        "      <td>y</td>\n",
        "      <td>u</td>\n",
        "      <td>...</td>\n",
        "      <td>y</td>\n",
        "      <td>u</td>\n",
        "      <td>u</td>\n",
        "      <td>u</td>\n",
        "      <td>u</td>\n",
        "      <td>n</td>\n",
        "      <td>n</td>\n",
        "      <td>u</td>\n",
        "      <td>u</td>\n",
        "      <td>u</td>\n",
        "    </tr>\n",
        "    <tr>\n",
        "      <th>sex</th>\n",
        "      <td>f</td>\n",
        "      <td>f</td>\n",
        "      <td>f</td>\n",
        "      <td>m</td>\n",
        "      <td>m</td>\n",
        "      <td>f</td>\n",
        "      <td>m</td>\n",
        "      <td>m</td>\n",
        "      <td>f</td>\n",
        "      <td>m</td>\n",
        "      <td>...</td>\n",
        "      <td>f</td>\n",
        "      <td>m</td>\n",
        "      <td>f</td>\n",
        "      <td>m</td>\n",
        "      <td>f</td>\n",
        "      <td>m</td>\n",
        "      <td>f</td>\n",
        "      <td>m</td>\n",
        "      <td>m</td>\n",
        "      <td>m</td>\n",
        "    </tr>\n",
        "  </tbody>\n",
        "</table>\n",
        "<p>3 rows \u00d7 50 columns</p>\n",
        "</div>"
       ],
       "metadata": {},
       "output_type": "pyout",
       "prompt_number": 14,
       "text": [
        "          0   1   2   3   4   5   6   7   8   9  ...  40  41 42  43  44  45  \\\n",
        "age       14  23  37  72  11  60  64  21  17  23 ...  34  84  9  48  78  60   \n",
        "exposure   u   y   n   u   n   y   n   y   y   u ...   y   u  u   u   u   n   \n",
        "sex        f   f   f   m   m   f   m   m   f   m ...   f   m  f   m   f   m   \n",
        "\n",
        "          46  47  48  49  \n",
        "age       45  40  79  95  \n",
        "exposure   n   u   u   u  \n",
        "sex        f   m   m   m  \n",
        "\n",
        "[3 rows x 50 columns]"
       ]
      }
     ],
     "prompt_number": 14
    },
    {
     "cell_type": "markdown",
     "metadata": {},
     "source": [
      "Well, not so seamlessly. This dataframe would make more sense if we transposed it. That's easy enough, just append .T to your frame."
     ]
    },
    {
     "cell_type": "code",
     "collapsed": false,
     "input": [
      "cases2 = cases2.T"
     ],
     "language": "python",
     "metadata": {},
     "outputs": [],
     "prompt_number": 15
    },
    {
     "cell_type": "code",
     "collapsed": false,
     "input": [
      "cases2.head()"
     ],
     "language": "python",
     "metadata": {},
     "outputs": [
      {
       "html": [
        "<div style=\"max-width:1500px;overflow:auto;\">\n",
        "<table border=\"1\" class=\"dataframe\">\n",
        "  <thead>\n",
        "    <tr style=\"text-align: right;\">\n",
        "      <th></th>\n",
        "      <th>age</th>\n",
        "      <th>exposure</th>\n",
        "      <th>sex</th>\n",
        "    </tr>\n",
        "  </thead>\n",
        "  <tbody>\n",
        "    <tr>\n",
        "      <th>0</th>\n",
        "      <td>14</td>\n",
        "      <td>u</td>\n",
        "      <td>f</td>\n",
        "    </tr>\n",
        "    <tr>\n",
        "      <th>1</th>\n",
        "      <td>23</td>\n",
        "      <td>y</td>\n",
        "      <td>f</td>\n",
        "    </tr>\n",
        "    <tr>\n",
        "      <th>2</th>\n",
        "      <td>37</td>\n",
        "      <td>n</td>\n",
        "      <td>f</td>\n",
        "    </tr>\n",
        "    <tr>\n",
        "      <th>3</th>\n",
        "      <td>72</td>\n",
        "      <td>u</td>\n",
        "      <td>m</td>\n",
        "    </tr>\n",
        "    <tr>\n",
        "      <th>4</th>\n",
        "      <td>11</td>\n",
        "      <td>n</td>\n",
        "      <td>m</td>\n",
        "    </tr>\n",
        "  </tbody>\n",
        "</table>\n",
        "</div>"
       ],
       "metadata": {},
       "output_type": "pyout",
       "prompt_number": 16,
       "text": [
        "  age exposure sex\n",
        "0  14        u   f\n",
        "1  23        y   f\n",
        "2  37        n   f\n",
        "3  72        u   m\n",
        "4  11        n   m"
       ]
      }
     ],
     "prompt_number": 16
    },
    {
     "cell_type": "markdown",
     "metadata": {},
     "source": [
      "Now, a lazy way to compute the number of points a student woudl receive for contact tracing this data frame would be to tally the number of patients in each exposure category, and multiply that by the points received for each category..."
     ]
    },
    {
     "cell_type": "code",
     "collapsed": false,
     "input": [
      "cases2.exposure.value_counts()"
     ],
     "language": "python",
     "metadata": {},
     "outputs": [
      {
       "metadata": {},
       "output_type": "pyout",
       "prompt_number": 17,
       "text": [
        "u    20\n",
        "n    17\n",
        "y    13\n",
        "dtype: int64"
       ]
      }
     ],
     "prompt_number": 17
    },
    {
     "cell_type": "code",
     "collapsed": false,
     "input": [
      "cases2.exposure.value_counts() * [10, 1, 5]"
     ],
     "language": "python",
     "metadata": {},
     "outputs": [
      {
       "metadata": {},
       "output_type": "pyout",
       "prompt_number": 18,
       "text": [
        "u    200\n",
        "n     17\n",
        "y     65\n",
        "dtype: int64"
       ]
      }
     ],
     "prompt_number": 18
    },
    {
     "cell_type": "markdown",
     "metadata": {},
     "source": [
      "...and then sum them."
     ]
    },
    {
     "cell_type": "code",
     "collapsed": false,
     "input": [
      "sum(cases2.exposure.value_counts() * [5, 10, 1])"
     ],
     "language": "python",
     "metadata": {},
     "outputs": [
      {
       "metadata": {},
       "output_type": "pyout",
       "prompt_number": 19,
       "text": [
        "283"
       ]
      }
     ],
     "prompt_number": 19
    },
    {
     "cell_type": "markdown",
     "metadata": {},
     "source": [
      "But do you see how that could go wrong? If the order of your value counts changes, for example it switches from y, n, u to u, y, n, then your points tallies will be all wrong. And you won't know it, because the computer is doing just what you asked - multiplying some numbers by some other numbers. But they aren't the right numbers."
     ]
    },
    {
     "cell_type": "markdown",
     "metadata": {},
     "source": [
      "A more robust way to do it is to make sure you attached keys to each point value. Here I create a Series (which is simply a data frame that only contains one column) with the appropriate point tallies for each exposure status."
     ]
    },
    {
     "cell_type": "code",
     "collapsed": false,
     "input": [
      "points = pd.Series({'n':5, 'u':1, 'y':10,})\n",
      "points"
     ],
     "language": "python",
     "metadata": {},
     "outputs": [
      {
       "metadata": {},
       "output_type": "pyout",
       "prompt_number": 20,
       "text": [
        "n     5\n",
        "u     1\n",
        "y    10\n",
        "dtype: int64"
       ]
      }
     ],
     "prompt_number": 20
    },
    {
     "cell_type": "markdown",
     "metadata": {},
     "source": [
      "Now when I multiply my value counts by my points, I can be sure it's behaving exactly like I expect it to."
     ]
    },
    {
     "cell_type": "code",
     "collapsed": false,
     "input": [
      "cases2.exposure.value_counts() * points"
     ],
     "language": "python",
     "metadata": {},
     "outputs": [
      {
       "metadata": {},
       "output_type": "pyout",
       "prompt_number": 21,
       "text": [
        "n     85\n",
        "u     20\n",
        "y    130\n",
        "dtype: int64"
       ]
      }
     ],
     "prompt_number": 21
    },
    {
     "cell_type": "markdown",
     "metadata": {},
     "source": [
      "(and sum the tallies to complete the ask)"
     ]
    },
    {
     "cell_type": "code",
     "collapsed": false,
     "input": [
      "sum(cases2.exposure.value_counts() * points)"
     ],
     "language": "python",
     "metadata": {},
     "outputs": [
      {
       "metadata": {},
       "output_type": "pyout",
       "prompt_number": 22,
       "text": [
        "235"
       ]
      }
     ],
     "prompt_number": 22
    },
    {
     "cell_type": "code",
     "collapsed": false,
     "input": [],
     "language": "python",
     "metadata": {},
     "outputs": []
    }
   ],
   "metadata": {}
  }
 ]
}