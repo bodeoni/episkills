{
 "metadata": {
  "name": "",
  "signature": "sha256:53ffdd5ccb98f6e74fdd2e00e4ec9579bbe132bf99bee8e43d1f6fe52f03ab7d"
 },
 "nbformat": 3,
 "nbformat_minor": 0,
 "worksheets": [
  {
   "cells": [
    {
     "cell_type": "markdown",
     "metadata": {},
     "source": [
      "# Homework 3 answers"
     ]
    },
    {
     "cell_type": "markdown",
     "metadata": {},
     "source": [
      "1. You are teaching an epidemiology class. You want to generate an example line list to share with your students. Write a function to generate a fake line list with the following fields: age, sex, exposure (yes or no). Numpy's random choice and random integer functions can help you.\n",
      "2. You are teaching your students about contact tracing. They get 10 points for finding patients with the exposure, and 5 points for finding patients without an exposure. Write a function to tally the number of points they get for their data set.\n",
      "3. Write a loop to automatically execute steps 1 and 2 five times. Keep track of the scores. What is the mean of those scores?\n",
      "4. How could you complete exercise 2 using a data frame instead of a loop?"
     ]
    },
    {
     "cell_type": "code",
     "collapsed": false,
     "input": [],
     "language": "python",
     "metadata": {},
     "outputs": []
    }
   ],
   "metadata": {}
  }
 ]
}