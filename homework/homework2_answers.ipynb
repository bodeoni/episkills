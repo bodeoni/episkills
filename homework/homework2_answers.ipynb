{
 "metadata": {
  "name": "",
  "signature": "sha256:e6bc3d7c1cdf341d9eee39fa66310c313fbe70e27bdbd56869c7c44338eb8775"
 },
 "nbformat": 3,
 "nbformat_minor": 0,
 "worksheets": [
  {
   "cells": [
    {
     "cell_type": "markdown",
     "metadata": {},
     "source": [
      "# Lesson 2 - homework\n",
      "Begin by grabbing the data from: https://raw.githubusercontent.com/fivethirtyeight/data/master/congress-age/congress-terms.csv\n",
      "\n",
      "Here's a line to get you started (but don't forget something else needs to come first...):"
     ]
    },
    {
     "cell_type": "code",
     "collapsed": false,
     "input": [
      "import pandas as pd\n",
      "import seaborn as sns\n",
      "import numpy as np"
     ],
     "language": "python",
     "metadata": {},
     "outputs": [],
     "prompt_number": 1
    },
    {
     "cell_type": "code",
     "collapsed": false,
     "input": [
      "congress = pd.read_table('https://raw.githubusercontent.com/fivethirtyeight/data/master/congress-age/congress-terms.csv', \\\n",
      "                         sep=',', error_bad_lines=False, infer_datetime_format=True, parse_dates=True)"
     ],
     "language": "python",
     "metadata": {},
     "outputs": [
      {
       "output_type": "stream",
       "stream": "stderr",
       "text": [
        "Skipping line 7054: expected 13 fields, saw 14\n",
        "Skipping line 7581: expected 13 fields, saw 14\n",
        "Skipping line 8088: expected 13 fields, saw 14\n",
        "Skipping line 9719: expected 13 fields, saw 15\n",
        "Skipping line 10019: expected 13 fields, saw 15\n",
        "Skipping line 10235: expected 13 fields, saw 15\n",
        "Skipping line 10550: expected 13 fields, saw 15\n",
        "Skipping line 10641: expected 13 fields, saw 14\n",
        "Skipping line 10764: expected 13 fields, saw 15\n",
        "Skipping line 11075: expected 13 fields, saw 15\n",
        "Skipping line 11168: expected 13 fields, saw 14\n",
        "Skipping line 11290: expected 13 fields, saw 15\n",
        "Skipping line 11606: expected 13 fields, saw 15\n",
        "Skipping line 11697: expected 13 fields, saw 14\n",
        "Skipping line 12141: expected 13 fields, saw 15\n",
        "Skipping line 12230: expected 13 fields, saw 14\n",
        "Skipping line 12664: expected 13 fields, saw 15\n",
        "Skipping line 12738: expected 13 fields, saw 14\n",
        "\n"
       ]
      }
     ],
     "prompt_number": 2
    },
    {
     "cell_type": "markdown",
     "metadata": {},
     "source": [
      "## Starter\n",
      "\n",
      "1. What is the youngest age? The oldest? The mean?\n",
      "2. Plot the distribution of ages in a histogram.\n",
      "3. How many lines are in this data? How many columns?\n",
      "4. How many Republicans are there? Democrats? What proportion is each?"
     ]
    },
    {
     "cell_type": "code",
     "collapsed": false,
     "input": [
      "congress.age.min()"
     ],
     "language": "python",
     "metadata": {},
     "outputs": [
      {
       "metadata": {},
       "output_type": "pyout",
       "prompt_number": 5,
       "text": [
        "25.0"
       ]
      }
     ],
     "prompt_number": 5
    },
    {
     "cell_type": "code",
     "collapsed": false,
     "input": [
      "congress.age.max()"
     ],
     "language": "python",
     "metadata": {},
     "outputs": [
      {
       "metadata": {},
       "output_type": "pyout",
       "prompt_number": 6,
       "text": [
        "98.099999999999994"
       ]
      }
     ],
     "prompt_number": 6
    },
    {
     "cell_type": "code",
     "collapsed": false,
     "input": [
      "congress.age.mean()"
     ],
     "language": "python",
     "metadata": {},
     "outputs": [
      {
       "metadata": {},
       "output_type": "pyout",
       "prompt_number": 7,
       "text": [
        "53.31484127410431"
       ]
      }
     ],
     "prompt_number": 7
    },
    {
     "cell_type": "code",
     "collapsed": false,
     "input": [
      "congress.age.hist()"
     ],
     "language": "python",
     "metadata": {},
     "outputs": [
      {
       "metadata": {},
       "output_type": "pyout",
       "prompt_number": 8,
       "text": [
        "<matplotlib.axes._subplots.AxesSubplot at 0xc2cb1d0>"
       ]
      },
      {
       "metadata": {},
       "output_type": "display_data",
       "png": "[encoded data removed]",
       "text": [
        "<matplotlib.figure.Figure at 0xa2de630>"
       ]
      }
     ],
     "prompt_number": 8
    },
    {
     "cell_type": "code",
     "collapsed": false,
     "input": [
      "len(congress)"
     ],
     "language": "python",
     "metadata": {},
     "outputs": [
      {
       "metadata": {},
       "output_type": "pyout",
       "prompt_number": 9,
       "text": [
        "18617"
       ]
      }
     ],
     "prompt_number": 9
    },
    {
     "cell_type": "code",
     "collapsed": false,
     "input": [
      "len(congress.columns)"
     ],
     "language": "python",
     "metadata": {},
     "outputs": [
      {
       "metadata": {},
       "output_type": "pyout",
       "prompt_number": 10,
       "text": [
        "13"
       ]
      }
     ],
     "prompt_number": 10
    },
    {
     "cell_type": "code",
     "collapsed": false,
     "input": [
      "congress.party.value_counts()"
     ],
     "language": "python",
     "metadata": {},
     "outputs": [
      {
       "metadata": {},
       "output_type": "pyout",
       "prompt_number": 11,
       "text": [
        "D     10284\n",
        "R      8262\n",
        "I        63\n",
        "ID        4\n",
        "AL        3\n",
        "L         1\n",
        "dtype: int64"
       ]
      }
     ],
     "prompt_number": 11
    },
    {
     "cell_type": "code",
     "collapsed": false,
     "input": [
      "congress.party.value_counts(normalize=True)"
     ],
     "language": "python",
     "metadata": {},
     "outputs": [
      {
       "metadata": {},
       "output_type": "pyout",
       "prompt_number": 12,
       "text": [
        "D     0.552398\n",
        "R     0.443788\n",
        "I     0.003384\n",
        "ID    0.000215\n",
        "AL    0.000161\n",
        "L     0.000054\n",
        "dtype: float64"
       ]
      }
     ],
     "prompt_number": 12
    },
    {
     "cell_type": "markdown",
     "metadata": {},
     "source": [
      "## Intermediate\n",
      "1. Is there a difference in mean age between the House and the Senate? What is the min and max for each group?\n",
      "2. What is the name and state of the youngest person overall? The top 5 youngest people?\n",
      "3. What are the top 3 most common first names? How many people are named Robert?\n",
      "4. Let's pretend Jon is a misspelling of John. Replace all the Jon names with John."
     ]
    },
    {
     "cell_type": "code",
     "collapsed": false,
     "input": [
      "congress.groupby('chamber').agg({'age': [np.min, np.max, np.mean]})"
     ],
     "language": "python",
     "metadata": {},
     "outputs": [
      {
       "html": [
        "<div style=\"max-width:1500px;overflow:auto;\">\n",
        "<table border=\"1\" class=\"dataframe\">\n",
        "  <thead>\n",
        "    <tr>\n",
        "      <th></th>\n",
        "      <th colspan=\"3\" halign=\"left\">age</th>\n",
        "    </tr>\n",
        "    <tr>\n",
        "      <th></th>\n",
        "      <th>amin</th>\n",
        "      <th>amax</th>\n",
        "      <th>mean</th>\n",
        "    </tr>\n",
        "    <tr>\n",
        "      <th>chamber</th>\n",
        "      <th></th>\n",
        "      <th></th>\n",
        "      <th></th>\n",
        "    </tr>\n",
        "  </thead>\n",
        "  <tbody>\n",
        "    <tr>\n",
        "      <th>house</th>\n",
        "      <td>25.0</td>\n",
        "      <td>89.7</td>\n",
        "      <td>52.366850</td>\n",
        "    </tr>\n",
        "    <tr>\n",
        "      <th>senate</th>\n",
        "      <td>28.2</td>\n",
        "      <td>98.1</td>\n",
        "      <td>57.335529</td>\n",
        "    </tr>\n",
        "  </tbody>\n",
        "</table>\n",
        "</div>"
       ],
       "metadata": {},
       "output_type": "pyout",
       "prompt_number": 13,
       "text": [
        "          age                 \n",
        "         amin  amax       mean\n",
        "chamber                       \n",
        "house    25.0  89.7  52.366850\n",
        "senate   28.2  98.1  57.335529"
       ]
      }
     ],
     "prompt_number": 13
    },
    {
     "cell_type": "code",
     "collapsed": false,
     "input": [
      "congress[congress.age == congress.age.min()]"
     ],
     "language": "python",
     "metadata": {},
     "outputs": [
      {
       "html": [
        "<div style=\"max-width:1500px;overflow:auto;\">\n",
        "<table border=\"1\" class=\"dataframe\">\n",
        "  <thead>\n",
        "    <tr style=\"text-align: right;\">\n",
        "      <th></th>\n",
        "      <th>congress</th>\n",
        "      <th>chamber</th>\n",
        "      <th>bioguide</th>\n",
        "      <th>firstname</th>\n",
        "      <th>middlename</th>\n",
        "      <th>lastname</th>\n",
        "      <th>suffix</th>\n",
        "      <th>birthday</th>\n",
        "      <th>state</th>\n",
        "      <th>party</th>\n",
        "      <th>incumbent</th>\n",
        "      <th>termstart</th>\n",
        "      <th>age</th>\n",
        "    </tr>\n",
        "  </thead>\n",
        "  <tbody>\n",
        "    <tr>\n",
        "      <th>5422</th>\n",
        "      <td>89</td>\n",
        "      <td>house</td>\n",
        "      <td>J000151</td>\n",
        "      <td>Jed</td>\n",
        "      <td>Joseph</td>\n",
        "      <td>Johnson</td>\n",
        "      <td>Jr.</td>\n",
        "      <td>1939-12-27</td>\n",
        "      <td>OK</td>\n",
        "      <td>D</td>\n",
        "      <td>No</td>\n",
        "      <td>1965-01-04</td>\n",
        "      <td>25</td>\n",
        "    </tr>\n",
        "  </tbody>\n",
        "</table>\n",
        "</div>"
       ],
       "metadata": {},
       "output_type": "pyout",
       "prompt_number": 5,
       "text": [
        "      congress chamber bioguide firstname middlename lastname suffix  \\\n",
        "5422        89   house  J000151       Jed     Joseph  Johnson    Jr.   \n",
        "\n",
        "        birthday state party incumbent   termstart  age  \n",
        "5422  1939-12-27    OK     D        No  1965-01-04   25  "
       ]
      }
     ],
     "prompt_number": 5
    },
    {
     "cell_type": "code",
     "collapsed": false,
     "input": [
      "congress[congress.age == congress.age.min()]"
     ],
     "language": "python",
     "metadata": {},
     "outputs": [
      {
       "html": [
        "<div style=\"max-width:1500px;overflow:auto;\">\n",
        "<table border=\"1\" class=\"dataframe\">\n",
        "  <thead>\n",
        "    <tr style=\"text-align: right;\">\n",
        "      <th></th>\n",
        "      <th>congress</th>\n",
        "      <th>chamber</th>\n",
        "      <th>bioguide</th>\n",
        "      <th>firstname</th>\n",
        "      <th>middlename</th>\n",
        "      <th>lastname</th>\n",
        "      <th>suffix</th>\n",
        "      <th>birthday</th>\n",
        "      <th>state</th>\n",
        "      <th>party</th>\n",
        "      <th>incumbent</th>\n",
        "      <th>termstart</th>\n",
        "      <th>age</th>\n",
        "    </tr>\n",
        "  </thead>\n",
        "  <tbody>\n",
        "    <tr>\n",
        "      <th>5422</th>\n",
        "      <td>89</td>\n",
        "      <td>house</td>\n",
        "      <td>J000151</td>\n",
        "      <td>Jed</td>\n",
        "      <td>Joseph</td>\n",
        "      <td>Johnson</td>\n",
        "      <td>Jr.</td>\n",
        "      <td>1939-12-27</td>\n",
        "      <td>OK</td>\n",
        "      <td>D</td>\n",
        "      <td>No</td>\n",
        "      <td>1965-01-04</td>\n",
        "      <td>25</td>\n",
        "    </tr>\n",
        "  </tbody>\n",
        "</table>\n",
        "</div>"
       ],
       "metadata": {},
       "output_type": "pyout",
       "prompt_number": 15,
       "text": [
        "      congress chamber bioguide firstname middlename lastname suffix  \\\n",
        "5422        89   house  J000151       Jed     Joseph  Johnson    Jr.   \n",
        "\n",
        "        birthday state party incumbent   termstart  age  \n",
        "5422  1939-12-27    OK     D        No  1965-01-04   25  "
       ]
      }
     ],
     "prompt_number": 15
    },
    {
     "cell_type": "code",
     "collapsed": false,
     "input": [
      "caitlinslist = congress.age.order()[:5]\n",
      "ages"
     ],
     "language": "python",
     "metadata": {},
     "outputs": [
      {
       "metadata": {},
       "output_type": "pyout",
       "prompt_number": 7,
       "text": [
        "5422     25.0\n",
        "452      25.9\n",
        "8163     26.0\n",
        "8162     26.4\n",
        "15236    26.4\n",
        "Name: age, dtype: float64"
       ]
      }
     ],
     "prompt_number": 7
    },
    {
     "cell_type": "code",
     "collapsed": false,
     "input": [
      "congress[congress.age.isin(caitlinslist)]"
     ],
     "language": "python",
     "metadata": {},
     "outputs": [
      {
       "html": [
        "<div style=\"max-width:1500px;overflow:auto;\">\n",
        "<table border=\"1\" class=\"dataframe\">\n",
        "  <thead>\n",
        "    <tr style=\"text-align: right;\">\n",
        "      <th></th>\n",
        "      <th>congress</th>\n",
        "      <th>chamber</th>\n",
        "      <th>bioguide</th>\n",
        "      <th>firstname</th>\n",
        "      <th>middlename</th>\n",
        "      <th>lastname</th>\n",
        "      <th>suffix</th>\n",
        "      <th>birthday</th>\n",
        "      <th>state</th>\n",
        "      <th>party</th>\n",
        "      <th>incumbent</th>\n",
        "      <th>termstart</th>\n",
        "      <th>age</th>\n",
        "    </tr>\n",
        "  </thead>\n",
        "  <tbody>\n",
        "    <tr>\n",
        "      <th>452</th>\n",
        "      <td>80</td>\n",
        "      <td>house</td>\n",
        "      <td>B000401</td>\n",
        "      <td>Lloyd</td>\n",
        "      <td>Millard</td>\n",
        "      <td>Bentsen</td>\n",
        "      <td>Jr.</td>\n",
        "      <td>1921-02-11</td>\n",
        "      <td>TX</td>\n",
        "      <td>D</td>\n",
        "      <td>No</td>\n",
        "      <td>1947-01-03</td>\n",
        "      <td>25.9</td>\n",
        "    </tr>\n",
        "    <tr>\n",
        "      <th>5422</th>\n",
        "      <td>89</td>\n",
        "      <td>house</td>\n",
        "      <td>J000151</td>\n",
        "      <td>Jed</td>\n",
        "      <td>Joseph</td>\n",
        "      <td>Johnson</td>\n",
        "      <td>Jr.</td>\n",
        "      <td>1939-12-27</td>\n",
        "      <td>OK</td>\n",
        "      <td>D</td>\n",
        "      <td>No</td>\n",
        "      <td>1965-01-04</td>\n",
        "      <td>25.0</td>\n",
        "    </tr>\n",
        "    <tr>\n",
        "      <th>8162</th>\n",
        "      <td>94</td>\n",
        "      <td>house</td>\n",
        "      <td>E000175</td>\n",
        "      <td>David</td>\n",
        "      <td>Farnham</td>\n",
        "      <td>Emery</td>\n",
        "      <td>NaN</td>\n",
        "      <td>1948-09-01</td>\n",
        "      <td>ME</td>\n",
        "      <td>R</td>\n",
        "      <td>No</td>\n",
        "      <td>1975-01-14</td>\n",
        "      <td>26.4</td>\n",
        "    </tr>\n",
        "    <tr>\n",
        "      <th>8163</th>\n",
        "      <td>94</td>\n",
        "      <td>house</td>\n",
        "      <td>D000471</td>\n",
        "      <td>Thomas</td>\n",
        "      <td>Joseph</td>\n",
        "      <td>Downey</td>\n",
        "      <td>NaN</td>\n",
        "      <td>1949-01-28</td>\n",
        "      <td>NY</td>\n",
        "      <td>D</td>\n",
        "      <td>No</td>\n",
        "      <td>1975-01-14</td>\n",
        "      <td>26.0</td>\n",
        "    </tr>\n",
        "    <tr>\n",
        "      <th>15236</th>\n",
        "      <td>107</td>\n",
        "      <td>house</td>\n",
        "      <td>P000586</td>\n",
        "      <td>Adam</td>\n",
        "      <td>H.</td>\n",
        "      <td>Putnam</td>\n",
        "      <td>NaN</td>\n",
        "      <td>1974-07-31</td>\n",
        "      <td>FL</td>\n",
        "      <td>R</td>\n",
        "      <td>No</td>\n",
        "      <td>2001-01-03</td>\n",
        "      <td>26.4</td>\n",
        "    </tr>\n",
        "  </tbody>\n",
        "</table>\n",
        "</div>"
       ],
       "metadata": {},
       "output_type": "pyout",
       "prompt_number": 8,
       "text": [
        "       congress chamber bioguide firstname middlename lastname suffix  \\\n",
        "452          80   house  B000401     Lloyd    Millard  Bentsen    Jr.   \n",
        "5422         89   house  J000151       Jed     Joseph  Johnson    Jr.   \n",
        "8162         94   house  E000175     David    Farnham    Emery    NaN   \n",
        "8163         94   house  D000471    Thomas     Joseph   Downey    NaN   \n",
        "15236       107   house  P000586      Adam         H.   Putnam    NaN   \n",
        "\n",
        "         birthday state party incumbent   termstart   age  \n",
        "452    1921-02-11    TX     D        No  1947-01-03  25.9  \n",
        "5422   1939-12-27    OK     D        No  1965-01-04  25.0  \n",
        "8162   1948-09-01    ME     R        No  1975-01-14  26.4  \n",
        "8163   1949-01-28    NY     D        No  1975-01-14  26.0  \n",
        "15236  1974-07-31    FL     R        No  2001-01-03  26.4  "
       ]
      }
     ],
     "prompt_number": 8
    },
    {
     "cell_type": "code",
     "collapsed": false,
     "input": [
      "congress.firstname.value_counts().head()"
     ],
     "language": "python",
     "metadata": {},
     "outputs": [
      {
       "metadata": {},
       "output_type": "pyout",
       "prompt_number": 11,
       "text": [
        "John       1448\n",
        "William     935\n",
        "James       855\n",
        "Robert      753\n",
        "Thomas      512\n",
        "dtype: int64"
       ]
      }
     ],
     "prompt_number": 11
    },
    {
     "cell_type": "code",
     "collapsed": false,
     "input": [
      "congress.age[congress.firstname == 'Jane'].mean()"
     ],
     "language": "python",
     "metadata": {},
     "outputs": [
      {
       "metadata": {},
       "output_type": "pyout",
       "prompt_number": 15,
       "text": [
        "56.833333333333336"
       ]
      }
     ],
     "prompt_number": 15
    },
    {
     "cell_type": "code",
     "collapsed": false,
     "input": [
      "congress.replace(['Jon', 'Jonathon'], 'John').head()"
     ],
     "language": "python",
     "metadata": {},
     "outputs": [
      {
       "html": [
        "<div style=\"max-width:1500px;overflow:auto;\">\n",
        "<table border=\"1\" class=\"dataframe\">\n",
        "  <thead>\n",
        "    <tr style=\"text-align: right;\">\n",
        "      <th></th>\n",
        "      <th>congress</th>\n",
        "      <th>chamber</th>\n",
        "      <th>bioguide</th>\n",
        "      <th>firstname</th>\n",
        "      <th>middlename</th>\n",
        "      <th>lastname</th>\n",
        "      <th>suffix</th>\n",
        "      <th>birthday</th>\n",
        "      <th>state</th>\n",
        "      <th>party</th>\n",
        "      <th>incumbent</th>\n",
        "      <th>termstart</th>\n",
        "      <th>age</th>\n",
        "    </tr>\n",
        "  </thead>\n",
        "  <tbody>\n",
        "    <tr>\n",
        "      <th>0</th>\n",
        "      <td>80</td>\n",
        "      <td>house</td>\n",
        "      <td>M000112</td>\n",
        "      <td>Joseph</td>\n",
        "      <td>Jefferson</td>\n",
        "      <td>Mansfield</td>\n",
        "      <td>NaN</td>\n",
        "      <td>1861-02-09</td>\n",
        "      <td>TX</td>\n",
        "      <td>D</td>\n",
        "      <td>Yes</td>\n",
        "      <td>1947-01-03</td>\n",
        "      <td>85.9</td>\n",
        "    </tr>\n",
        "    <tr>\n",
        "      <th>1</th>\n",
        "      <td>80</td>\n",
        "      <td>house</td>\n",
        "      <td>D000448</td>\n",
        "      <td>Robert</td>\n",
        "      <td>Lee</td>\n",
        "      <td>Doughton</td>\n",
        "      <td>NaN</td>\n",
        "      <td>1863-11-07</td>\n",
        "      <td>NC</td>\n",
        "      <td>D</td>\n",
        "      <td>Yes</td>\n",
        "      <td>1947-01-03</td>\n",
        "      <td>83.2</td>\n",
        "    </tr>\n",
        "    <tr>\n",
        "      <th>2</th>\n",
        "      <td>80</td>\n",
        "      <td>house</td>\n",
        "      <td>S000001</td>\n",
        "      <td>Adolph</td>\n",
        "      <td>Joachim</td>\n",
        "      <td>Sabath</td>\n",
        "      <td>NaN</td>\n",
        "      <td>1866-04-04</td>\n",
        "      <td>IL</td>\n",
        "      <td>D</td>\n",
        "      <td>Yes</td>\n",
        "      <td>1947-01-03</td>\n",
        "      <td>80.7</td>\n",
        "    </tr>\n",
        "    <tr>\n",
        "      <th>3</th>\n",
        "      <td>80</td>\n",
        "      <td>house</td>\n",
        "      <td>E000023</td>\n",
        "      <td>Charles</td>\n",
        "      <td>Aubrey</td>\n",
        "      <td>Eaton</td>\n",
        "      <td>NaN</td>\n",
        "      <td>1868-03-29</td>\n",
        "      <td>NJ</td>\n",
        "      <td>R</td>\n",
        "      <td>Yes</td>\n",
        "      <td>1947-01-03</td>\n",
        "      <td>78.8</td>\n",
        "    </tr>\n",
        "    <tr>\n",
        "      <th>4</th>\n",
        "      <td>80</td>\n",
        "      <td>house</td>\n",
        "      <td>L000296</td>\n",
        "      <td>William</td>\n",
        "      <td>NaN</td>\n",
        "      <td>Lewis</td>\n",
        "      <td>NaN</td>\n",
        "      <td>1868-09-22</td>\n",
        "      <td>KY</td>\n",
        "      <td>R</td>\n",
        "      <td>No</td>\n",
        "      <td>1947-01-03</td>\n",
        "      <td>78.3</td>\n",
        "    </tr>\n",
        "  </tbody>\n",
        "</table>\n",
        "</div>"
       ],
       "metadata": {},
       "output_type": "pyout",
       "prompt_number": 16,
       "text": [
        "   congress chamber bioguide firstname middlename   lastname suffix  \\\n",
        "0        80   house  M000112    Joseph  Jefferson  Mansfield    NaN   \n",
        "1        80   house  D000448    Robert        Lee   Doughton    NaN   \n",
        "2        80   house  S000001    Adolph    Joachim     Sabath    NaN   \n",
        "3        80   house  E000023   Charles     Aubrey      Eaton    NaN   \n",
        "4        80   house  L000296   William        NaN      Lewis    NaN   \n",
        "\n",
        "     birthday state party incumbent   termstart   age  \n",
        "0  1861-02-09    TX     D       Yes  1947-01-03  85.9  \n",
        "1  1863-11-07    NC     D       Yes  1947-01-03  83.2  \n",
        "2  1866-04-04    IL     D       Yes  1947-01-03  80.7  \n",
        "3  1868-03-29    NJ     R       Yes  1947-01-03  78.8  \n",
        "4  1868-09-22    KY     R        No  1947-01-03  78.3  "
       ]
      }
     ],
     "prompt_number": 16
    },
    {
     "cell_type": "markdown",
     "metadata": {},
     "source": [
      "## Advanced\n",
      "\n",
      "These go above and beyond what we've learned in class. Feel free to Google.\n",
      "1. Produce a line plot that shows the mean age of both house representatives and senators (separate lines for each) in Maryland and Virginia over time.\n",
      "2. Produce a sorted horizontal bar plot that shows how much each state's mean age deviates from the overall mean age.\n",
      "3. Select out all the people who had a term start date after your birth year (or some other year). Did any of them also serve in the years before your birth year? Who are they? How many terms did they serve?\n",
      "4. See if you can determine using this data only how many congresspeople each state has. Have those numbers changed over time? Which states gained and lost the most representatives? See if you can make a heatmap of the changes with year (or congress) on the y axis, and state on the x axis. (hint: look at seaborn)."
     ]
    },
    {
     "cell_type": "code",
     "collapsed": false,
     "input": [
      "maryland = congress[congress.state == 'MD'] # | (congress.state == 'VA')]\n",
      "piv = maryland.pivot_table(values='age', index='termstart', columns='chamber')"
     ],
     "language": "python",
     "metadata": {},
     "outputs": [],
     "prompt_number": 17
    },
    {
     "cell_type": "code",
     "collapsed": false,
     "input": [
      "piv.plot()"
     ],
     "language": "python",
     "metadata": {},
     "outputs": [
      {
       "metadata": {},
       "output_type": "pyout",
       "prompt_number": 19,
       "text": [
        "<matplotlib.axes._subplots.AxesSubplot at 0xc3760b8>"
       ]
      },
      {
       "metadata": {},
       "output_type": "display_data",
       "png": "[encoded data removed]",
       "text": [
        "<matplotlib.figure.Figure at 0xc376a90>"
       ]
      }
     ],
     "prompt_number": 19
    },
    {
     "cell_type": "code",
     "collapsed": false,
     "input": [
      "state_ages = congress.groupby('state').agg({'age':np.mean})"
     ],
     "language": "python",
     "metadata": {},
     "outputs": [],
     "prompt_number": 22
    },
    {
     "cell_type": "code",
     "collapsed": false,
     "input": [
      "state_ages['overall'] = congress.age.mean()"
     ],
     "language": "python",
     "metadata": {},
     "outputs": [],
     "prompt_number": 25
    },
    {
     "cell_type": "code",
     "collapsed": false,
     "input": [
      "state_ages['difference'] = state_ages['age'] - state_ages['overall']\n",
      "state_ages.difference.order().plot(kind='barh')"
     ],
     "language": "python",
     "metadata": {},
     "outputs": [
      {
       "metadata": {},
       "output_type": "pyout",
       "prompt_number": 27,
       "text": [
        "<matplotlib.axes._subplots.AxesSubplot at 0xc9bc400>"
       ]
      },
      {
       "metadata": {},
       "output_type": "display_data",
       "png": "[encoded data removed]",
       "text": [
        "<matplotlib.figure.Figure at 0xc9221d0>"
       ]
      }
     ],
     "prompt_number": 27
    },
    {
     "cell_type": "code",
     "collapsed": false,
     "input": [
      "congress['fullname'] = congress['firstname'] + congress['middlename'] + congress['lastname']\n",
      "my_year = congress[congress.termstart > '1990-01-01']\n",
      "previous = congress[congress.termstart < '1990-01-01']"
     ],
     "language": "python",
     "metadata": {},
     "outputs": [],
     "prompt_number": 88
    },
    {
     "cell_type": "code",
     "collapsed": false,
     "input": [
      "my_year.fullname[my_year.fullname.isin(previous.fullname)].value_counts()[:5]"
     ],
     "language": "python",
     "metadata": {},
     "outputs": [
      {
       "metadata": {},
       "output_type": "pyout",
       "prompt_number": 98,
       "text": [
        "EdwardJ.Markey       13\n",
        "JamesM.Inhofe        13\n",
        "DonaldM.Payne        13\n",
        "RichardC.Shelby      13\n",
        "CharlesE.Grassley    12\n",
        "dtype: int64"
       ]
      }
     ],
     "prompt_number": 98
    },
    {
     "cell_type": "code",
     "collapsed": false,
     "input": [
      "piv = congress.pivot_table(values='chamber', columns='state', index='congress', aggfunc='count')\n",
      "pivdiff = piv.diff().T\n",
      "sns.heatmap(pivdiff)"
     ],
     "language": "python",
     "metadata": {},
     "outputs": [
      {
       "metadata": {},
       "output_type": "pyout",
       "prompt_number": 149,
       "text": [
        "<matplotlib.axes._subplots.AxesSubplot at 0x2d00dc50>"
       ]
      },
      {
       "metadata": {},
       "output_type": "display_data",
       "png": "[encoded data removed]",
       "text": [
        "<matplotlib.figure.Figure at 0x2c9061d0>"
       ]
      }
     ],
     "prompt_number": 149
    },
    {
     "cell_type": "code",
     "collapsed": false,
     "input": [],
     "language": "python",
     "metadata": {},
     "outputs": []
    }
   ],
   "metadata": {}
  }
 ]
}