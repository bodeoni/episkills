{
 "metadata": {
  "name": "",
  "signature": "sha256:cfdad5a8d83518731c56ad0fd364c9caf8f08a5460fb02d56aefb94bfad1a5a0"
 },
 "nbformat": 3,
 "nbformat_minor": 0,
 "worksheets": [
  {
   "cells": [
    {
     "cell_type": "markdown",
     "metadata": {},
     "source": [
      "# Homework 3"
     ]
    },
    {
     "cell_type": "markdown",
     "metadata": {},
     "source": [
      "Notes: This homework is hard. It is intentionally vague, because I want you to think through all the steps that go into completing this goal. When you're working on your own problems, you know what you want the result to be, but it's up to you to identify and execute each step."
     ]
    },
    {
     "cell_type": "markdown",
     "metadata": {},
     "source": [
      "1. You are teaching an epidemiology class. You want to generate an example line list of 50 cases to share with your students. Write a function to generate a fake line list with the following fields: age, sex, exposure (yes, no, unknown). Numpy's random choice and random integer functions can help you.\n",
      "2. You are teaching your students about contact tracing. They get 10 points for finding patients with the exposure, and 5 points for finding patients without an exposure, and 1 point for finding patients with unknown exposure. Write a function to tally the number of points they get for their data set.\n",
      "3. Execute steps 1 and 2 three thousand times. What is the mean of all those scores? (Make sure you get different scores each time, or else something isn't working correctly)\n",
      "4. How could you complete question 2 using a data frame instead of a loop?"
     ]
    },
    {
     "cell_type": "code",
     "collapsed": false,
     "input": [],
     "language": "python",
     "metadata": {},
     "outputs": []
    }
   ],
   "metadata": {}
  }
 ]
}