{
 "metadata": {
  "name": "",
  "signature": "sha256:15cc5c421fb2f7adf89a1171e7cabc99da7a824286dd5293280690551b7f61c0"
 },
 "nbformat": 3,
 "nbformat_minor": 0,
 "worksheets": [
  {
   "cells": [
    {
     "cell_type": "markdown",
     "metadata": {},
     "source": [
      "## Lesson 4 homework.\n",
      "\n",
      "No homework this week, because you didn't actually do the lesson 3 homework, did you? Go do it and make sure you understand every piece. "
     ]
    },
    {
     "cell_type": "code",
     "collapsed": false,
     "input": [],
     "language": "python",
     "metadata": {},
     "outputs": []
    }
   ],
   "metadata": {}
  }
 ]
}