{
 "metadata": {
  "name": "",
  "signature": "sha256:32a7b6d79dad303042882a9b6bd5fc836486f6cfab2455252488d4925b50e52e"
 },
 "nbformat": 3,
 "nbformat_minor": 0,
 "worksheets": [
  {
   "cells": [
    {
     "cell_type": "markdown",
     "metadata": {},
     "source": [
      "# Lesson 5 homework"
     ]
    },
    {
     "cell_type": "markdown",
     "metadata": {},
     "source": [
      "Pick a report or analysis that you perform regularly. Produce the graphics for it using the tools we learned in this week's lesson. Spend time making the graphics a little prettier than the default."
     ]
    }
   ],
   "metadata": {}
  }
 ]
}