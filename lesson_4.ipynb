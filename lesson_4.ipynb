{
 "metadata": {
  "name": "",
  "signature": "sha256:ff15e51ccd7ecca96acf54e98e8d0fdd52ca322b73c606440b24a5f5f85a3f49"
 },
 "nbformat": 3,
 "nbformat_minor": 0,
 "worksheets": [
  {
   "cells": [
    {
     "cell_type": "markdown",
     "metadata": {},
     "source": [
      "## Lesson 4\n",
      "\n",
      "Epidemiological analyses using the package **epipy**\n",
      "\n",
      "*To download:*\n",
      "\n",
      "* **Mac** users: Open Spotlight and search Terminal. When the terminal window pops up, type: pip install epipy\n",
      "* **Windows** users with Enthought Canopy installed: Navigate to your Windows Start Menu. Click All Folders, and then click the Enthought Canopy folder. This will not work if you use the Enthought Canopy shortcut, so make sure you go to All Folders first. When you have the Enthought Canopy folder open, click Canopy 64 bit Command Prompt.  Yours may say 32 instead of 64. In the window that opens, type: pip install epipy\n",
      "* **Linux** users: You know how to do this. Else follow the mac instructions.\n",
      "* **Advanced, i.e. github users** The dev version of epipy has some nice, newer functions. Install from git using instructions at https://github.com/cmrivers/epipy"
     ]
    },
    {
     "cell_type": "code",
     "collapsed": false,
     "input": [
      "import pandas as pd\n",
      "import epipy"
     ],
     "language": "python",
     "metadata": {},
     "outputs": [],
     "prompt_number": 1
    },
    {
     "cell_type": "markdown",
     "metadata": {},
     "source": [
      "### Get and clean data"
     ]
    },
    {
     "cell_type": "markdown",
     "metadata": {},
     "source": [
      "First we will generate a fake data set using the generate_example_data() function. If we pull up the documentation for that function by placing our cursor just inside the open parenthesis and hitting shift+tab, we can see that the function takes several arguments related to the duration and density of the outbreak. I chose the values you see below, but you can pick any values."
     ]
    },
    {
     "cell_type": "code",
     "collapsed": false,
     "input": [
      "df = epipy.generate_example_data(8, 150, 6, 6)"
     ],
     "language": "python",
     "metadata": {},
     "outputs": [],
     "prompt_number": 2
    },
    {
     "cell_type": "markdown",
     "metadata": {},
     "source": [
      "Let's take a peek at the first five records."
     ]
    },
    {
     "cell_type": "code",
     "collapsed": false,
     "input": [
      "df.head()"
     ],
     "language": "python",
     "metadata": {},
     "outputs": [
      {
       "html": [
        "<div style=\"max-width:1500px;overflow:auto;\">\n",
        "<table border=\"1\" class=\"dataframe\">\n",
        "  <thead>\n",
        "    <tr style=\"text-align: right;\">\n",
        "      <th></th>\n",
        "      <th>ID</th>\n",
        "      <th>Date</th>\n",
        "      <th>Cluster</th>\n",
        "      <th>sex</th>\n",
        "    </tr>\n",
        "  </thead>\n",
        "  <tbody>\n",
        "    <tr>\n",
        "      <th>0</th>\n",
        "      <td>0</td>\n",
        "      <td>2014-03-15</td>\n",
        "      <td>ClusterM</td>\n",
        "      <td>Female</td>\n",
        "    </tr>\n",
        "    <tr>\n",
        "      <th>1</th>\n",
        "      <td>1</td>\n",
        "      <td>2014-03-23</td>\n",
        "      <td>ClusterM</td>\n",
        "      <td>Male</td>\n",
        "    </tr>\n",
        "    <tr>\n",
        "      <th>2</th>\n",
        "      <td>2</td>\n",
        "      <td>2014-03-28</td>\n",
        "      <td>ClusterM</td>\n",
        "      <td>Female</td>\n",
        "    </tr>\n",
        "    <tr>\n",
        "      <th>3</th>\n",
        "      <td>3</td>\n",
        "      <td>2014-04-03</td>\n",
        "      <td>ClusterM</td>\n",
        "      <td>Male</td>\n",
        "    </tr>\n",
        "    <tr>\n",
        "      <th>4</th>\n",
        "      <td>4</td>\n",
        "      <td>2014-04-09</td>\n",
        "      <td>ClusterM</td>\n",
        "      <td>Female</td>\n",
        "    </tr>\n",
        "  </tbody>\n",
        "</table>\n",
        "</div>"
       ],
       "metadata": {},
       "output_type": "pyout",
       "prompt_number": 3,
       "text": [
        "   ID       Date   Cluster     sex\n",
        "0   0 2014-03-15  ClusterM  Female\n",
        "1   1 2014-03-23  ClusterM    Male\n",
        "2   2 2014-03-28  ClusterM  Female\n",
        "3   3 2014-04-03  ClusterM    Male\n",
        "4   4 2014-04-09  ClusterM  Female"
       ]
      }
     ],
     "prompt_number": 3
    },
    {
     "cell_type": "markdown",
     "metadata": {},
     "source": [
      "There are some functions I want to show you later in this lesson that require a little more variety in the available data. Here I will randomly generate data for a few new columns: age, health status, and whether or not the patient has comorbidities."
     ]
    },
    {
     "cell_type": "code",
     "collapsed": false,
     "input": [
      "df['Age'] = np.random.randint(0, 100, size=len(df))\n",
      "df['Age'] = df.Age.astype('float')\n",
      "df['Health status'] = np.random.choice(['Alive', 'Dead'], size=len(df))\n",
      "df['Comorbid'] = np.random.choice(['Yes', 'No'], size=len(df))\n",
      "df.tail()"
     ],
     "language": "python",
     "metadata": {},
     "outputs": [
      {
       "html": [
        "<div style=\"max-width:1500px;overflow:auto;\">\n",
        "<table border=\"1\" class=\"dataframe\">\n",
        "  <thead>\n",
        "    <tr style=\"text-align: right;\">\n",
        "      <th></th>\n",
        "      <th>ID</th>\n",
        "      <th>Date</th>\n",
        "      <th>Cluster</th>\n",
        "      <th>sex</th>\n",
        "      <th>Age</th>\n",
        "      <th>Health status</th>\n",
        "      <th>Comorbid</th>\n",
        "    </tr>\n",
        "  </thead>\n",
        "  <tbody>\n",
        "    <tr>\n",
        "      <th>40</th>\n",
        "      <td>40</td>\n",
        "      <td>2014-05-20</td>\n",
        "      <td>ClusterL</td>\n",
        "      <td>Female</td>\n",
        "      <td>11</td>\n",
        "      <td>Alive</td>\n",
        "      <td>No</td>\n",
        "    </tr>\n",
        "    <tr>\n",
        "      <th>41</th>\n",
        "      <td>41</td>\n",
        "      <td>2014-05-29</td>\n",
        "      <td>ClusterL</td>\n",
        "      <td>Female</td>\n",
        "      <td>61</td>\n",
        "      <td>Alive</td>\n",
        "      <td>No</td>\n",
        "    </tr>\n",
        "    <tr>\n",
        "      <th>42</th>\n",
        "      <td>42</td>\n",
        "      <td>2014-05-29</td>\n",
        "      <td>ClusterL</td>\n",
        "      <td>Female</td>\n",
        "      <td>12</td>\n",
        "      <td>Dead</td>\n",
        "      <td>Yes</td>\n",
        "    </tr>\n",
        "    <tr>\n",
        "      <th>43</th>\n",
        "      <td>43</td>\n",
        "      <td>2014-06-04</td>\n",
        "      <td>ClusterL</td>\n",
        "      <td>Male</td>\n",
        "      <td>12</td>\n",
        "      <td>Alive</td>\n",
        "      <td>Yes</td>\n",
        "    </tr>\n",
        "    <tr>\n",
        "      <th>44</th>\n",
        "      <td>44</td>\n",
        "      <td>2014-06-11</td>\n",
        "      <td>ClusterL</td>\n",
        "      <td>Female</td>\n",
        "      <td>63</td>\n",
        "      <td>Alive</td>\n",
        "      <td>Yes</td>\n",
        "    </tr>\n",
        "  </tbody>\n",
        "</table>\n",
        "</div>"
       ],
       "metadata": {},
       "output_type": "pyout",
       "prompt_number": 4,
       "text": [
        "    ID       Date   Cluster     sex  Age Health status Comorbid\n",
        "40  40 2014-05-20  ClusterL  Female   11         Alive       No\n",
        "41  41 2014-05-29  ClusterL  Female   61         Alive       No\n",
        "42  42 2014-05-29  ClusterL  Female   12          Dead      Yes\n",
        "43  43 2014-06-04  ClusterL    Male   12         Alive      Yes\n",
        "44  44 2014-06-11  ClusterL  Female   63         Alive      Yes"
       ]
      }
     ],
     "prompt_number": 4
    },
    {
     "cell_type": "markdown",
     "metadata": {},
     "source": [
      "### Summary statistics"
     ]
    },
    {
     "cell_type": "markdown",
     "metadata": {},
     "source": [
      "Summary() is a really useful function if you have the newest version of epipy installed (downloaded from github). If you downloaded from pip, it won't be available to you, which is why I commented it out using the # symbol. The summary() function takes a data frame as an argument, and displays summary statistics for each column in the data frame. For numeric columns it computes mean, median, etc. For categorical columns it tallies value frequencies. It will work with string dates but not datetimes, which is why in the line below I drop the date column."
     ]
    },
    {
     "cell_type": "code",
     "collapsed": false,
     "input": [
      "#epipy.summary(df.drop('Date', 1))"
     ],
     "language": "python",
     "metadata": {},
     "outputs": [
      {
       "output_type": "stream",
       "stream": "stdout",
       "text": [
        "----------------------------------\n",
        "ID \n",
        "\n",
        "count      45.000000\n",
        "missing     0.000000\n",
        "min         0.000000\n",
        "median     22.000000\n",
        "mean       22.000000\n",
        "std        13.133926\n",
        "max        44.000000\n",
        "dtype: float64\n",
        "----------------------------------\n",
        "Cluster \n",
        "\n",
        "          count      freq\n",
        "ClusterU      9  0.200000\n",
        "ClusterL      8  0.177778\n",
        "ClusterM      8  0.177778\n",
        "ClusterO      7  0.155556\n",
        "ClusterN      7  0.155556\n",
        "----------------------------------\n",
        "sex \n",
        "\n",
        "        count      freq\n",
        "Female     26  0.577778\n",
        "Male       19  0.422222\n",
        "----------------------------------\n",
        "Age \n",
        "\n",
        "count      45.000000\n",
        "missing     0.000000\n",
        "min         4.000000\n",
        "median     53.000000\n",
        "mean       49.066667\n",
        "std        30.911457\n",
        "max        98.000000\n",
        "dtype: float64\n",
        "----------------------------------\n",
        "Health status \n",
        "\n",
        "       count      freq\n",
        "Dead      23  0.511111\n",
        "Alive     22  0.488889\n",
        "----------------------------------\n",
        "Comorbid \n",
        "\n",
        "     count      freq\n",
        "Yes     28  0.622222\n",
        "No      17  0.377778\n",
        "----------------------------------\n",
        "binary_age \n",
        "\n",
        "count      45.000000\n",
        "missing     0.000000\n",
        "min         0.000000\n",
        "median      0.000000\n",
        "mean        0.444444\n",
        "std         0.502519\n",
        "max         1.000000\n",
        "dtype: float64\n"
       ]
      }
     ],
     "prompt_number": 29
    },
    {
     "cell_type": "markdown",
     "metadata": {},
     "source": [
      "The summary function can also take a \"by\" argument, which means you can generate summary statistics for a column stratified by another, categorical column. This produces the same result as a groupby object with aggregation (which we learned in earlier lessons), but it's a lot quicker and easier."
     ]
    },
    {
     "cell_type": "code",
     "collapsed": false,
     "input": [
      "#epipy.summary(df.Age, by=df.sex)"
     ],
     "language": "python",
     "metadata": {},
     "outputs": [
      {
       "html": [
        "<div style=\"max-width:1500px;overflow:auto;\">\n",
        "<table border=\"1\" class=\"dataframe\">\n",
        "  <thead>\n",
        "    <tr style=\"text-align: right;\">\n",
        "      <th></th>\n",
        "      <th>count</th>\n",
        "      <th>missing</th>\n",
        "      <th>min</th>\n",
        "      <th>median</th>\n",
        "      <th>mean</th>\n",
        "      <th>std</th>\n",
        "      <th>max</th>\n",
        "    </tr>\n",
        "  </thead>\n",
        "  <tbody>\n",
        "    <tr>\n",
        "      <th>Female</th>\n",
        "      <td>26</td>\n",
        "      <td>0</td>\n",
        "      <td>5</td>\n",
        "      <td>53.5</td>\n",
        "      <td>47.115385</td>\n",
        "      <td>30.726310</td>\n",
        "      <td>93</td>\n",
        "    </tr>\n",
        "    <tr>\n",
        "      <th>Male</th>\n",
        "      <td>19</td>\n",
        "      <td>0</td>\n",
        "      <td>4</td>\n",
        "      <td>53.0</td>\n",
        "      <td>51.736842</td>\n",
        "      <td>31.802939</td>\n",
        "      <td>98</td>\n",
        "    </tr>\n",
        "  </tbody>\n",
        "</table>\n",
        "</div>"
       ],
       "metadata": {},
       "output_type": "pyout",
       "prompt_number": 30,
       "text": [
        "        count  missing  min  median       mean        std  max\n",
        "Female     26        0    5    53.5  47.115385  30.726310   93\n",
        "Male       19        0    4    53.0  51.736842  31.802939   98"
       ]
      }
     ],
     "prompt_number": 30
    },
    {
     "cell_type": "markdown",
     "metadata": {},
     "source": [
      "Epidemiology relies heavily on 2x2 tables, which are used to evaluate how people who got sick (or dead, or have some other negative outcome) are similar or different to people who did not experience that outcome. The create_2x2 function will tabulate and organize your line list and produce a table, which can then be used for additional analyses. \n",
      "\n",
      "We start by assigning our table a variable name. I cleverly chose to call it 'table'. We then pass the function our data frame, and tell it what we want as our rows (the exposure or patient attribute column) and what we want as our columns (the outcome). Both of those variables must be BINARY, which means if you have more than two possible values for each of those columns, you will need to select out or recode the extra values. The third argument, row_order, is used to tell the function in which valye you want in row 1, and which value you want in row 2. Same for column order."
     ]
    },
    {
     "cell_type": "markdown",
     "metadata": {},
     "source": [
      "### Odds ratios etc."
     ]
    },
    {
     "cell_type": "code",
     "collapsed": false,
     "input": [
      "table = epipy.create_2x2(df, row='sex', column='Health status',  row_order=['Male', 'Female'], col_order=['Dead', 'Alive'])"
     ],
     "language": "python",
     "metadata": {},
     "outputs": [],
     "prompt_number": 7
    },
    {
     "cell_type": "code",
     "collapsed": false,
     "input": [
      "table"
     ],
     "language": "python",
     "metadata": {},
     "outputs": [
      {
       "html": [
        "<div style=\"max-width:1500px;overflow:auto;\">\n",
        "<table border=\"1\" class=\"dataframe\">\n",
        "  <thead>\n",
        "    <tr style=\"text-align: right;\">\n",
        "      <th></th>\n",
        "      <th>Dead</th>\n",
        "      <th>Alive</th>\n",
        "      <th>All</th>\n",
        "    </tr>\n",
        "  </thead>\n",
        "  <tbody>\n",
        "    <tr>\n",
        "      <th>Male</th>\n",
        "      <td>10</td>\n",
        "      <td>9</td>\n",
        "      <td>19</td>\n",
        "    </tr>\n",
        "    <tr>\n",
        "      <th>Female</th>\n",
        "      <td>13</td>\n",
        "      <td>13</td>\n",
        "      <td>26</td>\n",
        "    </tr>\n",
        "    <tr>\n",
        "      <th>All</th>\n",
        "      <td>23</td>\n",
        "      <td>22</td>\n",
        "      <td>45</td>\n",
        "    </tr>\n",
        "  </tbody>\n",
        "</table>\n",
        "</div>"
       ],
       "metadata": {},
       "output_type": "pyout",
       "prompt_number": 8,
       "text": [
        "        Dead  Alive  All\n",
        "Male      10      9   19\n",
        "Female    13     13   26\n",
        "All       23     22   45"
       ]
      }
     ],
     "prompt_number": 8
    },
    {
     "cell_type": "markdown",
     "metadata": {},
     "source": [
      "Then you can simply pass your table object into the analyze_2x2 function and get a variety of statistics out, including the relative risk and odds ratio. Alternatively, there are functions for each of these separately, if you would like to keep track of the results as a variable.\n",
      "\n",
      "The results of this analysis show that sex is not a risk factor for death. We know this because our confidence interval includes 1. This outcome is not surprising, since our data are randomly generated..."
     ]
    },
    {
     "cell_type": "code",
     "collapsed": false,
     "input": [
      "epipy.analyze_2x2(table)"
     ],
     "language": "python",
     "metadata": {},
     "outputs": [
      {
       "output_type": "stream",
       "stream": "stdout",
       "text": [
        "Odds ratio: 1.11 (95% CI: (0.34, 3.63))\n",
        "Relative risk: 1.05 (95% CI: (0.59, 1.87))\n",
        "\n",
        "Attributable risk: 0.026 (95% CI: (-0.27, 0.32))\n",
        "Attributable risk percent: 5.0% (95% CI: (-6.24, 16.237))\n",
        "Population attributable risk: 0.011\n",
        "Population attributable risk percent: 2.17% \n",
        "\n",
        "Chi square: 0.0304243811109\n",
        "p value: 0.999885461384\n"
       ]
      }
     ],
     "prompt_number": 9
    },
    {
     "cell_type": "code",
     "collapsed": false,
     "input": [
      "sex_odds_ratio = epipy.odds_ratio(table)\n",
      "sex_odds_ratio"
     ],
     "language": "python",
     "metadata": {},
     "outputs": [
      {
       "output_type": "stream",
       "stream": "stdout",
       "text": [
        "Odds ratio: 1.11 (95% CI: (0.34, 3.63))\n"
       ]
      },
      {
       "metadata": {},
       "output_type": "pyout",
       "prompt_number": 10,
       "text": [
        "(1.11, (0.34, 3.63))"
       ]
      }
     ],
     "prompt_number": 10
    },
    {
     "cell_type": "markdown",
     "metadata": {},
     "source": [
      "For our next analyses, instead of just patient sex, we are going to evaluate multiple risk factors, including age and presence/absence of underlying comorbidities. Because age is a continuous variable and 2x2 tables only make sense with binary variables, I'm going to make a new column that tracks whether the patient is younger than or older than 60."
     ]
    },
    {
     "cell_type": "code",
     "collapsed": false,
     "input": [
      "df['binary_age'] = 0\n",
      "df['binary_age'][df['Age'] > 60] = 1"
     ],
     "language": "python",
     "metadata": {},
     "outputs": [
      {
       "output_type": "stream",
       "stream": "stderr",
       "text": [
        "-c:2: SettingWithCopyWarning: \n",
        "A value is trying to be set on a copy of a slice from a DataFrame\n",
        "\n",
        "See the the caveats in the documentation: http://pandas.pydata.org/pandas-docs/stable/indexing.html#indexing-view-versus-copy\n"
       ]
      }
     ],
     "prompt_number": 11
    },
    {
     "cell_type": "code",
     "collapsed": false,
     "input": [
      "df.binary_age.value_counts()"
     ],
     "language": "python",
     "metadata": {},
     "outputs": [
      {
       "metadata": {},
       "output_type": "pyout",
       "prompt_number": 12,
       "text": [
        "0    25\n",
        "1    20\n",
        "dtype: int64"
       ]
      }
     ],
     "prompt_number": 12
    },
    {
     "cell_type": "markdown",
     "metadata": {},
     "source": [
      "Just like in the create_2x2 examble, I must specify the order I want the function to evaluate my risk factors. I do that using a dictionary with column names as keys (the word before the colon), and the desired order as values (the word after the colon... \"values\" means a lot of different things in Python, apparently). Then I pass my data frame, the names of my risk columns in a list, the name of my outcome column, my new dictionary, and the order for my outcome column.\n",
      "\n",
      "The result prints out odds ratios and confidence intervals for each of the risk columns I evaluated. It also produces a plot with all of the risk columns displayed. In this example none of our risk factors are significant, so the plot is all gray. If there are significant risk factors, odds ratios > 1 are colored red, and odds ratios < 1 are blue."
     ]
    },
    {
     "cell_type": "code",
     "collapsed": false,
     "input": [
      "risk_order = {'sex':['Male', 'Female'], 'binary_age':[1, 0], 'Comorbid':['Yes', 'No']}\n",
      "fig, ax = epipy.or_plot(df, ['sex', 'binary_age', 'Comorbid'], 'Health status', risk_order, ['Dead', 'Alive'])"
     ],
     "language": "python",
     "metadata": {},
     "outputs": [
      {
       "output_type": "stream",
       "stream": "stdout",
       "text": [
        "sex:\n",
        "Odds ratio: 1.11 (95% CI: (0.34, 3.63))\n",
        "\n",
        "\n",
        "binary_age:\n",
        "Odds ratio: 1.32 (95% CI: (0.41, 4.31))\n",
        "\n",
        "\n",
        "Comorbid:\n",
        "Odds ratio: 0.89 (95% CI: (0.27, 2.97))\n",
        "\n",
        "\n"
       ]
      },
      {
       "output_type": "stream",
       "stream": "stderr",
       "text": [
        "c:\\users\\caitlin.rivers\\downloads\\epipy-master\\epipy-master\\epipy\\or_plot.py:24: SettingWithCopyWarning: \n",
        "A value is trying to be set on a copy of a slice from a DataFrame\n",
        "\n",
        "See the the caveats in the documentation: http://pandas.pydata.org/pandas-docs/stable/indexing.html#indexing-view-versus-copy\n",
        "  df.color[(df.lower > 1) & (df.upper > 1)] = 'blue'\n",
        "c:\\users\\caitlin.rivers\\downloads\\epipy-master\\epipy-master\\epipy\\or_plot.py:25: SettingWithCopyWarning: \n",
        "A value is trying to be set on a copy of a slice from a DataFrame\n",
        "\n",
        "See the the caveats in the documentation: http://pandas.pydata.org/pandas-docs/stable/indexing.html#indexing-view-versus-copy\n",
        "  df.color[(df.lower < 1) & (df.upper < 1)] = 'red'\n"
       ]
      },
      {
       "metadata": {},
       "output_type": "display_data",
       "png": "[encoded data removed]",
       "text": [
        "<matplotlib.figure.Figure at 0xc2c2e80>"
       ]
      }
     ],
     "prompt_number": 13
    },
    {
     "cell_type": "markdown",
     "metadata": {},
     "source": [
      "### Epicurves"
     ]
    },
    {
     "cell_type": "markdown",
     "metadata": {},
     "source": [
      "Epicurves are another key epidemiological analyses. An epicurve is simply the count of new cases (incidence) over time, plotted as bars. The epicurve_plot() function accepts your data frame, the name of your date column, and a frequency argument. By frequency argument I mean whether you want a daily, monthly or yearly aggregation. \n",
      "\n",
      "One nice feature of using this function instead of simply doing a value_counts() on your date column is that the epicurve_plot function will reindex and fill the time series with zeros. In other words, using the value_counts() function would omit days when there were no new cases. This function keeps track of those days, and ensures they appear with a zero count."
     ]
    },
    {
     "cell_type": "code",
     "collapsed": false,
     "input": [
      "dailycurve = epipy.epicurve_plot(df, 'Date', 'd')"
     ],
     "language": "python",
     "metadata": {},
     "outputs": [
      {
       "metadata": {},
       "output_type": "display_data",
       "png": "[encoded data removed]",
       "text": [
        "<matplotlib.figure.Figure at 0xc303400>"
       ]
      }
     ],
     "prompt_number": 14
    },
    {
     "cell_type": "markdown",
     "metadata": {},
     "source": [
      "Here I replace the 'd' with an 'm' to produce a monthly epicurve"
     ]
    },
    {
     "cell_type": "code",
     "collapsed": false,
     "input": [
      "monthlycurve = epipy.epicurve_plot(df, 'Date', 'm')"
     ],
     "language": "python",
     "metadata": {},
     "outputs": [
      {
       "metadata": {},
       "output_type": "display_data",
       "png": "[encoded data removed]",
       "text": [
        "<matplotlib.figure.Figure at 0xc62b6d8>"
       ]
      }
     ],
     "prompt_number": 15
    },
    {
     "cell_type": "markdown",
     "metadata": {},
     "source": [
      "In the older version of epipy (obtained using pip), the epicurve_plot() function returns a tuple with your table, a figure object, and an axis object. Newer versions have split these out into three separate returned objects. The takeway here is that if you want to look at your incidence table, you need to select the first object using [0].\n",
      "\n",
      "See the zero counts for some days below?"
     ]
    },
    {
     "cell_type": "code",
     "collapsed": false,
     "input": [
      "dailycurve[0].sort_index().head(10)"
     ],
     "language": "python",
     "metadata": {},
     "outputs": [
      {
       "html": [
        "<div style=\"max-width:1500px;overflow:auto;\">\n",
        "<table border=\"1\" class=\"dataframe\">\n",
        "  <thead>\n",
        "    <tr style=\"text-align: right;\">\n",
        "      <th></th>\n",
        "      <th>cases</th>\n",
        "      <th>plotdates</th>\n",
        "    </tr>\n",
        "  </thead>\n",
        "  <tbody>\n",
        "    <tr>\n",
        "      <th>2014-01-02</th>\n",
        "      <td>1</td>\n",
        "      <td>2014-01-02</td>\n",
        "    </tr>\n",
        "    <tr>\n",
        "      <th>2014-01-03</th>\n",
        "      <td>0</td>\n",
        "      <td>2014-01-03</td>\n",
        "    </tr>\n",
        "    <tr>\n",
        "      <th>2014-01-04</th>\n",
        "      <td>0</td>\n",
        "      <td>2014-01-04</td>\n",
        "    </tr>\n",
        "    <tr>\n",
        "      <th>2014-01-05</th>\n",
        "      <td>1</td>\n",
        "      <td>2014-01-05</td>\n",
        "    </tr>\n",
        "    <tr>\n",
        "      <th>2014-01-06</th>\n",
        "      <td>0</td>\n",
        "      <td>2014-01-06</td>\n",
        "    </tr>\n",
        "    <tr>\n",
        "      <th>2014-01-07</th>\n",
        "      <td>0</td>\n",
        "      <td>2014-01-07</td>\n",
        "    </tr>\n",
        "    <tr>\n",
        "      <th>2014-01-08</th>\n",
        "      <td>0</td>\n",
        "      <td>2014-01-08</td>\n",
        "    </tr>\n",
        "    <tr>\n",
        "      <th>2014-01-09</th>\n",
        "      <td>0</td>\n",
        "      <td>2014-01-09</td>\n",
        "    </tr>\n",
        "    <tr>\n",
        "      <th>2014-01-10</th>\n",
        "      <td>0</td>\n",
        "      <td>2014-01-10</td>\n",
        "    </tr>\n",
        "    <tr>\n",
        "      <th>2014-01-11</th>\n",
        "      <td>0</td>\n",
        "      <td>2014-01-11</td>\n",
        "    </tr>\n",
        "  </tbody>\n",
        "</table>\n",
        "</div>"
       ],
       "metadata": {},
       "output_type": "pyout",
       "prompt_number": 16,
       "text": [
        "            cases  plotdates\n",
        "2014-01-02      1 2014-01-02\n",
        "2014-01-03      0 2014-01-03\n",
        "2014-01-04      0 2014-01-04\n",
        "2014-01-05      1 2014-01-05\n",
        "2014-01-06      0 2014-01-06\n",
        "2014-01-07      0 2014-01-07\n",
        "2014-01-08      0 2014-01-08\n",
        "2014-01-09      0 2014-01-09\n",
        "2014-01-10      0 2014-01-10\n",
        "2014-01-11      0 2014-01-11"
       ]
      }
     ],
     "prompt_number": 16
    },
    {
     "cell_type": "markdown",
     "metadata": {},
     "source": [
      "### Specialty functions"
     ]
    },
    {
     "cell_type": "markdown",
     "metadata": {},
     "source": [
      "Epidemiologists are often interested in how things are changed over time. For example, have patients been getting older or younger? Has the proportion of men vs women getting sick remained constant? Pandas (a package we have relied on a lot for our data analyses) has several functions for calculating rolling means, medians, etc. for numeric variables. But for categorical variables, you'll need the rolling_proportion function. Simply pass it your data frame, the date column you are using (onset date, perhaps), the name of the column you are interested in, the value from that column you are interested in, and the number of days you want each chunk to include. The function returns a table with the computed proportions, as well as a figure and axis objects."
     ]
    },
    {
     "cell_type": "code",
     "collapsed": false,
     "input": [
      "prop, fig, ax = epipy.rolling_proportion(df, 'Date', 'sex', 'Male', window=14)"
     ],
     "language": "python",
     "metadata": {},
     "outputs": [
      {
       "metadata": {},
       "output_type": "display_data",
       "png": "[encoded data removed]",
       "text": [
        "<matplotlib.figure.Figure at 0xcb16e80>"
       ]
      }
     ],
     "prompt_number": 17
    },
    {
     "cell_type": "markdown",
     "metadata": {},
     "source": [
      "Here we take a peek at the values plotted above, the average proportion of patients who are male, averaged over the last two weeks."
     ]
    },
    {
     "cell_type": "code",
     "collapsed": false,
     "input": [
      "prop.tail()"
     ],
     "language": "python",
     "metadata": {},
     "outputs": [
      {
       "metadata": {},
       "output_type": "pyout",
       "prompt_number": 18,
       "text": [
        "2014-06-07    0.4375\n",
        "2014-06-08    0.4375\n",
        "2014-06-09    0.4375\n",
        "2014-06-10    0.4375\n",
        "2014-06-11    0.3750\n",
        "Freq: D, Name: proportion, dtype: float64"
       ]
      }
     ],
     "prompt_number": 18
    },
    {
     "cell_type": "markdown",
     "metadata": {},
     "source": [
      "This is great, but daily time series are hard to work with. The pandas function resample() can help you move back and forth between using different time series frequencies. In this example I'm going to request our daily time series be aggregated to monthly, and that values within that month be aggregated to the median."
     ]
    },
    {
     "cell_type": "code",
     "collapsed": false,
     "input": [
      "prop.resample('M', how='median')"
     ],
     "language": "python",
     "metadata": {},
     "outputs": [
      {
       "metadata": {},
       "output_type": "pyout",
       "prompt_number": 19,
       "text": [
        "2014-01-31    0.366667\n",
        "2014-02-28    0.375000\n",
        "2014-03-31    0.357143\n",
        "2014-04-30    0.437500\n",
        "2014-05-31    0.466667\n",
        "2014-06-30    0.437500\n",
        "Freq: M, Name: proportion, dtype: float64"
       ]
      }
     ],
     "prompt_number": 19
    },
    {
     "cell_type": "markdown",
     "metadata": {},
     "source": [
      "There are lots of possible options beyond daily ('d') and monthly ('m'). Check the pandas documentation for the full range, but to give you an idea of the possibilities, here I turn our daily time series into three months, taking the mean over that window."
     ]
    },
    {
     "cell_type": "code",
     "collapsed": false,
     "input": [
      "prop.resample('3M', how='mean')"
     ],
     "language": "python",
     "metadata": {},
     "outputs": [
      {
       "metadata": {},
       "output_type": "pyout",
       "prompt_number": 20,
       "text": [
        "2014-01-31    0.376190\n",
        "2014-04-30    0.394288\n",
        "2014-07-31    0.480427\n",
        "Freq: 3M, Name: proportion, dtype: float64"
       ]
      }
     ],
     "prompt_number": 20
    },
    {
     "cell_type": "markdown",
     "metadata": {},
     "source": [
      "And finally, for some diseases we can track clusters of people who may have infected each other. In our example line list, we have a column named Cluster that identifies which patients belongs to each cluster."
     ]
    },
    {
     "cell_type": "code",
     "collapsed": false,
     "input": [
      "df.Cluster.value_counts()"
     ],
     "language": "python",
     "metadata": {},
     "outputs": [
      {
       "metadata": {},
       "output_type": "pyout",
       "prompt_number": 21,
       "text": [
        "ClusterU    9\n",
        "ClusterL    8\n",
        "ClusterM    8\n",
        "ClusterO    7\n",
        "ClusterN    7\n",
        "ClusterV    6\n",
        "dtype: int64"
       ]
      }
     ],
     "prompt_number": 21
    },
    {
     "cell_type": "markdown",
     "metadata": {},
     "source": [
      "We can reconstruct those clusters into transmission trees, and plot them through time using the case_tree_plot function. The function evaluates the dates each person got sick and the generation time (number of days between when one person gets sick and when the person they infect gets sick) to guess at who infected whom. The function returns a networkx graph object, and figure and axis objects."
     ]
    },
    {
     "cell_type": "code",
     "collapsed": false,
     "input": [
      "graph, fig, ax = epipy.case_tree_plot(df, cluster_id='Cluster', case_id='ID', date_col='Date', color='sex', gen_mean =6, gen_sd=6)"
     ],
     "language": "python",
     "metadata": {},
     "outputs": [
      {
       "metadata": {},
       "output_type": "display_data",
       "png": "[encoded data removed]",
       "text": [
        "<matplotlib.figure.Figure at 0xcb1cdd8>"
       ]
      }
     ],
     "prompt_number": 22
    },
    {
     "cell_type": "markdown",
     "metadata": {},
     "source": [
      "The graph object doesn't look like much..."
     ]
    },
    {
     "cell_type": "code",
     "collapsed": false,
     "input": [
      "graph"
     ],
     "language": "python",
     "metadata": {},
     "outputs": [
      {
       "metadata": {},
       "output_type": "pyout",
       "prompt_number": 23,
       "text": [
        "<networkx.classes.digraph.DiGraph at 0xe9eb6a0>"
       ]
      }
     ],
     "prompt_number": 23
    },
    {
     "cell_type": "markdown",
     "metadata": {},
     "source": [
      "...but it has a lot hidden inside."
     ]
    },
    {
     "cell_type": "code",
     "collapsed": false,
     "input": [
      "graph.node"
     ],
     "language": "python",
     "metadata": {},
     "outputs": [
      {
       "metadata": {},
       "output_type": "pyout",
       "prompt_number": 24,
       "text": [
        "{0: {'date': Timestamp('2014-03-15 00:00:00'),\n",
        "  'generation': 0,\n",
        "  'index_node': 0,\n",
        "  'plot_color': (0.2980392156862745, 0.4470588235294118, 0.6901960784313725),\n",
        "  'pltdate': 735307.0,\n",
        "  'sex': 'Female',\n",
        "  'source_node': 0},\n",
        " 1: {'date': Timestamp('2014-03-23 00:00:00'),\n",
        "  'generation': 1,\n",
        "  'index_node': 0,\n",
        "  'plot_color': (0.3333333333333333, 0.6588235294117647, 0.40784313725490196),\n",
        "  'pltdate': 735315.0,\n",
        "  'sex': 'Male',\n",
        "  'source_node': 0},\n",
        " 2: {'date': Timestamp('2014-03-28 00:00:00'),\n",
        "  'generation': 2,\n",
        "  'index_node': 0,\n",
        "  'plot_color': (0.2980392156862745, 0.4470588235294118, 0.6901960784313725),\n",
        "  'pltdate': 735320.0,\n",
        "  'sex': 'Female',\n",
        "  'source_node': 1},\n",
        " 3: {'date': Timestamp('2014-04-03 00:00:00'),\n",
        "  'generation': 2,\n",
        "  'index_node': 0,\n",
        "  'plot_color': (0.3333333333333333, 0.6588235294117647, 0.40784313725490196),\n",
        "  'pltdate': 735326.0,\n",
        "  'sex': 'Male',\n",
        "  'source_node': 1},\n",
        " 4: {'date': Timestamp('2014-04-09 00:00:00'),\n",
        "  'generation': 3,\n",
        "  'index_node': 0,\n",
        "  'plot_color': (0.2980392156862745, 0.4470588235294118, 0.6901960784313725),\n",
        "  'pltdate': 735332.0,\n",
        "  'sex': 'Female',\n",
        "  'source_node': 2},\n",
        " 5: {'date': Timestamp('2014-04-19 00:00:00'),\n",
        "  'generation': 4,\n",
        "  'index_node': 0,\n",
        "  'plot_color': (0.2980392156862745, 0.4470588235294118, 0.6901960784313725),\n",
        "  'pltdate': 735342.0,\n",
        "  'sex': 'Female',\n",
        "  'source_node': 4},\n",
        " 6: {'date': Timestamp('2014-04-23 00:00:00'),\n",
        "  'generation': 5,\n",
        "  'index_node': 0,\n",
        "  'plot_color': (0.3333333333333333, 0.6588235294117647, 0.40784313725490196),\n",
        "  'pltdate': 735346.0,\n",
        "  'sex': 'Male',\n",
        "  'source_node': 5},\n",
        " 7: {'date': Timestamp('2014-04-25 00:00:00'),\n",
        "  'generation': 5,\n",
        "  'index_node': 0,\n",
        "  'plot_color': (0.3333333333333333, 0.6588235294117647, 0.40784313725490196),\n",
        "  'pltdate': 735348.0,\n",
        "  'sex': 'Male',\n",
        "  'source_node': 5},\n",
        " 8: {'date': Timestamp('2014-03-16 00:00:00'),\n",
        "  'generation': 0,\n",
        "  'index_node': 8,\n",
        "  'plot_color': (0.2980392156862745, 0.4470588235294118, 0.6901960784313725),\n",
        "  'pltdate': 735308.0,\n",
        "  'sex': 'Female',\n",
        "  'source_node': 8},\n",
        " 9: {'date': Timestamp('2014-03-27 00:00:00'),\n",
        "  'generation': 1,\n",
        "  'index_node': 8,\n",
        "  'plot_color': (0.2980392156862745, 0.4470588235294118, 0.6901960784313725),\n",
        "  'pltdate': 735319.0,\n",
        "  'sex': 'Female',\n",
        "  'source_node': 8},\n",
        " 10: {'date': Timestamp('2014-04-04 00:00:00'),\n",
        "  'generation': 2,\n",
        "  'index_node': 8,\n",
        "  'plot_color': (0.3333333333333333, 0.6588235294117647, 0.40784313725490196),\n",
        "  'pltdate': 735327.0,\n",
        "  'sex': 'Male',\n",
        "  'source_node': 9},\n",
        " 11: {'date': Timestamp('2014-04-11 00:00:00'),\n",
        "  'generation': 3,\n",
        "  'index_node': 8,\n",
        "  'plot_color': (0.2980392156862745, 0.4470588235294118, 0.6901960784313725),\n",
        "  'pltdate': 735334.0,\n",
        "  'sex': 'Female',\n",
        "  'source_node': 10},\n",
        " 12: {'date': Timestamp('2014-04-17 00:00:00'),\n",
        "  'generation': 4,\n",
        "  'index_node': 8,\n",
        "  'plot_color': (0.3333333333333333, 0.6588235294117647, 0.40784313725490196),\n",
        "  'pltdate': 735340.0,\n",
        "  'sex': 'Male',\n",
        "  'source_node': 11},\n",
        " 13: {'date': Timestamp('2014-04-21 00:00:00'),\n",
        "  'generation': 4,\n",
        "  'index_node': 8,\n",
        "  'plot_color': (0.3333333333333333, 0.6588235294117647, 0.40784313725490196),\n",
        "  'pltdate': 735344.0,\n",
        "  'sex': 'Male',\n",
        "  'source_node': 11},\n",
        " 14: {'date': Timestamp('2014-04-29 00:00:00'),\n",
        "  'generation': 5,\n",
        "  'index_node': 8,\n",
        "  'plot_color': (0.3333333333333333, 0.6588235294117647, 0.40784313725490196),\n",
        "  'pltdate': 735352.0,\n",
        "  'sex': 'Male',\n",
        "  'source_node': 12},\n",
        " 15: {'date': Timestamp('2014-04-29 00:00:00'),\n",
        "  'generation': 5,\n",
        "  'index_node': 8,\n",
        "  'plot_color': (0.2980392156862745, 0.4470588235294118, 0.6901960784313725),\n",
        "  'pltdate': 735352.0,\n",
        "  'sex': 'Female',\n",
        "  'source_node': 12},\n",
        " 16: {'date': Timestamp('2014-05-05 00:00:00'),\n",
        "  'generation': 6,\n",
        "  'index_node': 8,\n",
        "  'plot_color': (0.2980392156862745, 0.4470588235294118, 0.6901960784313725),\n",
        "  'pltdate': 735358.0,\n",
        "  'sex': 'Female',\n",
        "  'source_node': 14},\n",
        " 17: {'date': Timestamp('2014-04-03 00:00:00'),\n",
        "  'generation': 0,\n",
        "  'index_node': 17,\n",
        "  'plot_color': (0.3333333333333333, 0.6588235294117647, 0.40784313725490196),\n",
        "  'pltdate': 735326.0,\n",
        "  'sex': 'Male',\n",
        "  'source_node': 17},\n",
        " 18: {'date': Timestamp('2014-04-06 00:00:00'),\n",
        "  'generation': 1,\n",
        "  'index_node': 17,\n",
        "  'plot_color': (0.2980392156862745, 0.4470588235294118, 0.6901960784313725),\n",
        "  'pltdate': 735329.0,\n",
        "  'sex': 'Female',\n",
        "  'source_node': 17},\n",
        " 19: {'date': Timestamp('2014-04-17 00:00:00'),\n",
        "  'generation': 2,\n",
        "  'index_node': 17,\n",
        "  'plot_color': (0.3333333333333333, 0.6588235294117647, 0.40784313725490196),\n",
        "  'pltdate': 735340.0,\n",
        "  'sex': 'Male',\n",
        "  'source_node': 18},\n",
        " 20: {'date': Timestamp('2014-04-27 00:00:00'),\n",
        "  'generation': 3,\n",
        "  'index_node': 17,\n",
        "  'plot_color': (0.2980392156862745, 0.4470588235294118, 0.6901960784313725),\n",
        "  'pltdate': 735350.0,\n",
        "  'sex': 'Female',\n",
        "  'source_node': 19},\n",
        " 21: {'date': Timestamp('2014-05-08 00:00:00'),\n",
        "  'generation': 4,\n",
        "  'index_node': 17,\n",
        "  'plot_color': (0.2980392156862745, 0.4470588235294118, 0.6901960784313725),\n",
        "  'pltdate': 735361.0,\n",
        "  'sex': 'Female',\n",
        "  'source_node': 20},\n",
        " 22: {'date': Timestamp('2014-05-15 00:00:00'),\n",
        "  'generation': 5,\n",
        "  'index_node': 17,\n",
        "  'plot_color': (0.3333333333333333, 0.6588235294117647, 0.40784313725490196),\n",
        "  'pltdate': 735368.0,\n",
        "  'sex': 'Male',\n",
        "  'source_node': 21},\n",
        " 23: {'date': Timestamp('2014-05-17 00:00:00'),\n",
        "  'generation': 5,\n",
        "  'index_node': 17,\n",
        "  'plot_color': (0.2980392156862745, 0.4470588235294118, 0.6901960784313725),\n",
        "  'pltdate': 735370.0,\n",
        "  'sex': 'Female',\n",
        "  'source_node': 21},\n",
        " 24: {'date': Timestamp('2014-01-30 00:00:00'),\n",
        "  'generation': 0,\n",
        "  'index_node': 24,\n",
        "  'plot_color': (0.3333333333333333, 0.6588235294117647, 0.40784313725490196),\n",
        "  'pltdate': 735263.0,\n",
        "  'sex': 'Male',\n",
        "  'source_node': 24},\n",
        " 25: {'date': Timestamp('2014-02-02 00:00:00'),\n",
        "  'generation': 1,\n",
        "  'index_node': 24,\n",
        "  'plot_color': (0.2980392156862745, 0.4470588235294118, 0.6901960784313725),\n",
        "  'pltdate': 735266.0,\n",
        "  'sex': 'Female',\n",
        "  'source_node': 24},\n",
        " 26: {'date': Timestamp('2014-02-10 00:00:00'),\n",
        "  'generation': 1,\n",
        "  'index_node': 24,\n",
        "  'plot_color': (0.2980392156862745, 0.4470588235294118, 0.6901960784313725),\n",
        "  'pltdate': 735274.0,\n",
        "  'sex': 'Female',\n",
        "  'source_node': 24},\n",
        " 27: {'date': Timestamp('2014-02-14 00:00:00'),\n",
        "  'generation': 2,\n",
        "  'index_node': 24,\n",
        "  'plot_color': (0.3333333333333333, 0.6588235294117647, 0.40784313725490196),\n",
        "  'pltdate': 735278.0,\n",
        "  'sex': 'Male',\n",
        "  'source_node': 25},\n",
        " 28: {'date': Timestamp('2014-02-21 00:00:00'),\n",
        "  'generation': 2,\n",
        "  'index_node': 24,\n",
        "  'plot_color': (0.2980392156862745, 0.4470588235294118, 0.6901960784313725),\n",
        "  'pltdate': 735285.0,\n",
        "  'sex': 'Female',\n",
        "  'source_node': 26},\n",
        " 29: {'date': Timestamp('2014-03-01 00:00:00'),\n",
        "  'generation': 3,\n",
        "  'index_node': 24,\n",
        "  'plot_color': (0.3333333333333333, 0.6588235294117647, 0.40784313725490196),\n",
        "  'pltdate': 735293.0,\n",
        "  'sex': 'Male',\n",
        "  'source_node': 28},\n",
        " 30: {'date': Timestamp('2014-03-08 00:00:00'),\n",
        "  'generation': 4,\n",
        "  'index_node': 24,\n",
        "  'plot_color': (0.2980392156862745, 0.4470588235294118, 0.6901960784313725),\n",
        "  'pltdate': 735300.0,\n",
        "  'sex': 'Female',\n",
        "  'source_node': 29},\n",
        " 31: {'date': Timestamp('2014-01-02 00:00:00'),\n",
        "  'generation': 0,\n",
        "  'index_node': 31,\n",
        "  'plot_color': (0.2980392156862745, 0.4470588235294118, 0.6901960784313725),\n",
        "  'pltdate': 735235.0,\n",
        "  'sex': 'Female',\n",
        "  'source_node': 31},\n",
        " 32: {'date': Timestamp('2014-01-05 00:00:00'),\n",
        "  'generation': 1,\n",
        "  'index_node': 31,\n",
        "  'plot_color': (0.3333333333333333, 0.6588235294117647, 0.40784313725490196),\n",
        "  'pltdate': 735238.0,\n",
        "  'sex': 'Male',\n",
        "  'source_node': 31},\n",
        " 33: {'date': Timestamp('2014-01-14 00:00:00'),\n",
        "  'generation': 1,\n",
        "  'index_node': 31,\n",
        "  'plot_color': (0.3333333333333333, 0.6588235294117647, 0.40784313725490196),\n",
        "  'pltdate': 735247.0,\n",
        "  'sex': 'Male',\n",
        "  'source_node': 31},\n",
        " 34: {'date': Timestamp('2014-01-15 00:00:00'),\n",
        "  'generation': 2,\n",
        "  'index_node': 31,\n",
        "  'plot_color': (0.2980392156862745, 0.4470588235294118, 0.6901960784313725),\n",
        "  'pltdate': 735248.0,\n",
        "  'sex': 'Female',\n",
        "  'source_node': 32},\n",
        " 35: {'date': Timestamp('2014-01-26 00:00:00'),\n",
        "  'generation': 2,\n",
        "  'index_node': 31,\n",
        "  'plot_color': (0.2980392156862745, 0.4470588235294118, 0.6901960784313725),\n",
        "  'pltdate': 735259.0,\n",
        "  'sex': 'Female',\n",
        "  'source_node': 33},\n",
        " 36: {'date': Timestamp('2014-01-27 00:00:00'),\n",
        "  'generation': 3,\n",
        "  'index_node': 31,\n",
        "  'plot_color': (0.2980392156862745, 0.4470588235294118, 0.6901960784313725),\n",
        "  'pltdate': 735260.0,\n",
        "  'sex': 'Female',\n",
        "  'source_node': 34},\n",
        " 37: {'date': Timestamp('2014-04-30 00:00:00'),\n",
        "  'generation': 0,\n",
        "  'index_node': 37,\n",
        "  'plot_color': (0.3333333333333333, 0.6588235294117647, 0.40784313725490196),\n",
        "  'pltdate': 735353.0,\n",
        "  'sex': 'Male',\n",
        "  'source_node': 37},\n",
        " 38: {'date': Timestamp('2014-05-02 00:00:00'),\n",
        "  'generation': 1,\n",
        "  'index_node': 37,\n",
        "  'plot_color': (0.2980392156862745, 0.4470588235294118, 0.6901960784313725),\n",
        "  'pltdate': 735355.0,\n",
        "  'sex': 'Female',\n",
        "  'source_node': 37},\n",
        " 39: {'date': Timestamp('2014-05-12 00:00:00'),\n",
        "  'generation': 1,\n",
        "  'index_node': 37,\n",
        "  'plot_color': (0.3333333333333333, 0.6588235294117647, 0.40784313725490196),\n",
        "  'pltdate': 735365.0,\n",
        "  'sex': 'Male',\n",
        "  'source_node': 37},\n",
        " 40: {'date': Timestamp('2014-05-20 00:00:00'),\n",
        "  'generation': 2,\n",
        "  'index_node': 37,\n",
        "  'plot_color': (0.2980392156862745, 0.4470588235294118, 0.6901960784313725),\n",
        "  'pltdate': 735373.0,\n",
        "  'sex': 'Female',\n",
        "  'source_node': 39},\n",
        " 41: {'date': Timestamp('2014-05-29 00:00:00'),\n",
        "  'generation': 3,\n",
        "  'index_node': 37,\n",
        "  'plot_color': (0.2980392156862745, 0.4470588235294118, 0.6901960784313725),\n",
        "  'pltdate': 735382.0,\n",
        "  'sex': 'Female',\n",
        "  'source_node': 40},\n",
        " 42: {'date': Timestamp('2014-05-29 00:00:00'),\n",
        "  'generation': 3,\n",
        "  'index_node': 37,\n",
        "  'plot_color': (0.2980392156862745, 0.4470588235294118, 0.6901960784313725),\n",
        "  'pltdate': 735382.0,\n",
        "  'sex': 'Female',\n",
        "  'source_node': 40},\n",
        " 43: {'date': Timestamp('2014-06-04 00:00:00'),\n",
        "  'generation': 4,\n",
        "  'index_node': 37,\n",
        "  'plot_color': (0.3333333333333333, 0.6588235294117647, 0.40784313725490196),\n",
        "  'pltdate': 735388.0,\n",
        "  'sex': 'Male',\n",
        "  'source_node': 41},\n",
        " 44: {'date': Timestamp('2014-06-11 00:00:00'),\n",
        "  'generation': 5,\n",
        "  'index_node': 37,\n",
        "  'plot_color': (0.2980392156862745, 0.4470588235294118, 0.6901960784313725),\n",
        "  'pltdate': 735395.0,\n",
        "  'sex': 'Female',\n",
        "  'source_node': 43}}"
       ]
      }
     ],
     "prompt_number": 24
    },
    {
     "cell_type": "markdown",
     "metadata": {},
     "source": [
      "If we pass the graph object to the reproduction_number function, we can take a look at how many patients pass their infection to 0 other people, 1 other person, 2 other people, etc. This could be considered the \"true\" reproduction number. This function returns a table of value counts for each reproduction numbre, and fig and ax objects."
     ]
    },
    {
     "cell_type": "code",
     "collapsed": false,
     "input": [
      "R, fig, ax = epipy.reproduction_number(graph, index_cases=True)"
     ],
     "language": "python",
     "metadata": {},
     "outputs": [
      {
       "output_type": "stream",
       "stream": "stdout",
       "text": [
        "Summary of reproduction numbers\n",
        "count    45.000000\n",
        "mean      1.000000\n",
        "std       0.904534\n",
        "min       0.000000\n",
        "25%       0.000000\n",
        "50%       1.000000\n",
        "75%       2.000000\n",
        "max       3.000000\n",
        "dtype: float64\n",
        "\n",
        "\n"
       ]
      },
      {
       "metadata": {},
       "output_type": "display_data",
       "png": "[encoded data removed]",
       "text": [
        "<matplotlib.figure.Figure at 0xcc230f0>"
       ]
      }
     ],
     "prompt_number": 25
    },
    {
     "cell_type": "code",
     "collapsed": false,
     "input": [
      "R.value_counts()"
     ],
     "language": "python",
     "metadata": {},
     "outputs": [
      {
       "metadata": {},
       "output_type": "pyout",
       "prompt_number": 26,
       "text": [
        "1    18\n",
        "0    15\n",
        "2     9\n",
        "3     3\n",
        "dtype: int64"
       ]
      }
     ],
     "prompt_number": 26
    },
    {
     "cell_type": "code",
     "collapsed": false,
     "input": [
      "R.describe()"
     ],
     "language": "python",
     "metadata": {},
     "outputs": [
      {
       "metadata": {},
       "output_type": "pyout",
       "prompt_number": 27,
       "text": [
        "count    45.000000\n",
        "mean      1.000000\n",
        "std       0.904534\n",
        "min       0.000000\n",
        "25%       0.000000\n",
        "50%       1.000000\n",
        "75%       2.000000\n",
        "max       3.000000\n",
        "dtype: float64"
       ]
      }
     ],
     "prompt_number": 27
    },
    {
     "cell_type": "markdown",
     "metadata": {},
     "source": [
      "Alternatively, we can pass our graph object to the generation_analysis function to evaluate whether case attributes (e.g. sex) change as the infection passes through more and more people. This might be useful in a zoonoses (a disease that passes between animals and humans), because sometimes those diseases have striking epidemiology. For example, lumberjacks who acquire a disease in the course of their work might be primarily male at generation 0, because most lumberjacks are men. But that sex bias may evaporate in later generations, as the contact network becomes less biased. If we wanted to look at case outcome (death, survival) instead of sex, we could see if people who acquired their disease from animals are more likely to die, or if the severity of the disease weakens generation after generation."
     ]
    },
    {
     "cell_type": "code",
     "collapsed": false,
     "input": [
      "fig, ax, table = epipy.generation_analysis(graph, attribute='sex')"
     ],
     "language": "python",
     "metadata": {},
     "outputs": [
      {
       "output_type": "stream",
       "stream": "stdout",
       "text": [
        "sex by generation\n",
        "sex         Female  Male  All\n",
        "generation                   \n",
        "0                3     3    6\n",
        "1                5     4    9\n",
        "2                5     4    9\n",
        "3                6     1    7\n",
        "4                3     3    6\n",
        "5                3     4    7\n",
        "6                1     0    1\n",
        "All             26    19   45 \n",
        "\n"
       ]
      },
      {
       "metadata": {},
       "output_type": "display_data",
       "png": "[encoded data removed]",
       "text": [
        "<matplotlib.figure.Figure at 0x434a7b8>"
       ]
      }
     ],
     "prompt_number": 28
    },
    {
     "cell_type": "code",
     "collapsed": false,
     "input": [],
     "language": "python",
     "metadata": {},
     "outputs": [],
     "prompt_number": 28
    }
   ],
   "metadata": {}
  }
 ]
}