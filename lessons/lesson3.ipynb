{
 "metadata": {
  "name": "",
  "signature": "sha256:ce6c9d593b03e4d2569deb0ee74fa04fdae7c63b161835eba8d516456c03b4df"
 },
 "nbformat": 3,
 "nbformat_minor": 0,
 "worksheets": [
  {
   "cells": [
    {
     "cell_type": "markdown",
     "metadata": {},
     "source": [
      "### Reminder"
     ]
    },
    {
     "cell_type": "markdown",
     "metadata": {},
     "source": [
      "We have been working with data frames, which is a structure for storing data. Today we're going to step away from that and learn about \"regular\" programming. The two styles can be combined, but with one key difference: most data frame operations are done to the whole data frame (remember how we've talked about doing e.g. column-wide algebra). With \"regular\" programming, operations are usually done to each piece of data individually. Keep that in mind as we go through the examples."
     ]
    },
    {
     "cell_type": "markdown",
     "metadata": {},
     "source": [
      "Resource: http://learnpythonthehardway.org/book/"
     ]
    },
    {
     "cell_type": "code",
     "collapsed": false,
     "input": [
      "import pandas as pd"
     ],
     "language": "python",
     "metadata": {},
     "outputs": []
    },
    {
     "cell_type": "markdown",
     "metadata": {},
     "source": [
      "### for loops"
     ]
    },
    {
     "cell_type": "markdown",
     "metadata": {},
     "source": [
      "This is the basic construction of a \"for loop\". The important parts are:\n",
      "- the syntax (*for* something *in* something)\n",
      "- what you call the *something* does not matter\n",
      "- first line must end in a colon\n",
      "- second line and all subsequent lines in the for loop must begin with either a tab or 4 spaces\n",
      "- it becomes very important that Python is zero-indexed (which means the first number is 0, not 1).\n",
      "- spaces *between* lines don't matter\n"
     ]
    },
    {
     "cell_type": "code",
     "collapsed": false,
     "input": [
      "range(5)"
     ],
     "language": "python",
     "metadata": {},
     "outputs": [
      {
       "metadata": {},
       "output_type": "pyout",
       "prompt_number": 158,
       "text": [
        "[0, 1, 2, 3, 4]"
       ]
      }
     ],
     "prompt_number": 158
    },
    {
     "cell_type": "code",
     "collapsed": false,
     "input": [
      "for i in range(5):\n",
      "    print i"
     ],
     "language": "python",
     "metadata": {},
     "outputs": [
      {
       "output_type": "stream",
       "stream": "stdout",
       "text": [
        "0\n",
        "1\n",
        "2\n",
        "3\n",
        "4\n"
       ]
      }
     ],
     "prompt_number": 159
    },
    {
     "cell_type": "code",
     "collapsed": false,
     "input": [
      "for number in np.arange(0, 10, 2):\n",
      "    \n",
      "    print number, number*2, number^2\n",
      "    print '\\n'"
     ],
     "language": "python",
     "metadata": {},
     "outputs": [
      {
       "output_type": "stream",
       "stream": "stdout",
       "text": [
        "0 0 2\n",
        "\n",
        "\n",
        "2 4 0\n",
        "\n",
        "\n",
        "4 8 6\n",
        "\n",
        "\n",
        "6 12 4\n",
        "\n",
        "\n",
        "8 16 10\n",
        "\n",
        "\n"
       ]
      }
     ],
     "prompt_number": 161
    },
    {
     "cell_type": "markdown",
     "metadata": {},
     "source": [
      "### if-then statements"
     ]
    },
    {
     "cell_type": "markdown",
     "metadata": {},
     "source": [
      "We call these structures if-then statements, but the actual pairing is if-else. There are three options:\n",
      "- if\n",
      "- elif\n",
      "- else\n",
      "\n",
      "*If* can be used by itself. If+elif can be used together, if+elif+else can be used together, and if+else can be used together. Together they make a hierarchy, like a decision tree. \n",
      "\n",
      " - These statements are always used in conjunction with for loops.\n",
      " - The structure is similar to for loops, with a colon at the end of each line and either a tab or 4 spaces "
     ]
    },
    {
     "cell_type": "code",
     "collapsed": false,
     "input": [
      "store_inventory = ['dog', 'cat', 'hampster', 'cash', 'water', 'toys']\n",
      "pets = ['dog', 'cat', 'hampster']"
     ],
     "language": "python",
     "metadata": {},
     "outputs": []
    },
    {
     "cell_type": "code",
     "collapsed": false,
     "input": [
      "for item in store_inventory:\n",
      "    \n",
      "    if item in pets:\n",
      "        print item, 'is a pet'\n",
      "        \n",
      "    else:\n",
      "        print item, 'is NOT a pet'"
     ],
     "language": "python",
     "metadata": {},
     "outputs": [
      {
       "output_type": "stream",
       "stream": "stdout",
       "text": [
        "dog is a pet\n",
        "cat is a pet\n",
        "hampster is a pet\n",
        "cash is NOT a pet\n",
        "water is NOT a pet\n",
        "toys is NOT a pet\n"
       ]
      }
     ],
     "prompt_number": 162
    },
    {
     "cell_type": "code",
     "collapsed": false,
     "input": [
      "pet_supplies = ['water', 'toys']"
     ],
     "language": "python",
     "metadata": {},
     "outputs": []
    },
    {
     "cell_type": "markdown",
     "metadata": {},
     "source": [
      "Here we will compare lists, but you can also do < or > if you are working with numbers, compare lengths of lists, or anything at all that you can think of."
     ]
    },
    {
     "cell_type": "code",
     "collapsed": false,
     "input": [
      "for item in store_inventory:\n",
      "    \n",
      "    if item in pets:\n",
      "        print item, 'is a pet'\n",
      "        \n",
      "    elif item in pet_supplies:\n",
      "        print item, 'is a supply'\n",
      "        \n",
      "    else:\n",
      "        print item, 'is neither a pet nor a supply'"
     ],
     "language": "python",
     "metadata": {},
     "outputs": [
      {
       "output_type": "stream",
       "stream": "stdout",
       "text": [
        "dog is a pet\n",
        "cat is a pet\n",
        "hampster is a pet\n",
        "cash is neither a pet nor a supply\n",
        "water is a supply\n",
        "toys is a supply\n"
       ]
      }
     ],
     "prompt_number": 163
    },
    {
     "cell_type": "code",
     "collapsed": false,
     "input": [
      "my_favorite_pets = []\n",
      "\n",
      "for i in store_inventory:\n",
      "    \n",
      "    if i == 'dog' or i == 'cat':\n",
      "        my_favorite_pets.append(i)"
     ],
     "language": "python",
     "metadata": {},
     "outputs": [],
     "prompt_number": 166
    },
    {
     "cell_type": "code",
     "collapsed": false,
     "input": [
      "my_favorite_pets"
     ],
     "language": "python",
     "metadata": {},
     "outputs": [
      {
       "metadata": {},
       "output_type": "pyout",
       "prompt_number": 167,
       "text": [
        "['dog', 'cat']"
       ]
      }
     ],
     "prompt_number": 167
    },
    {
     "cell_type": "markdown",
     "metadata": {},
     "source": [
      "### functions"
     ]
    },
    {
     "cell_type": "markdown",
     "metadata": {},
     "source": [
      "Functions are reusable pieces of code that do the same thing every time you call them. \n",
      "- Functions always start with def and end with (): \n",
      "- Each subsequent line must be indented. \n",
      "- You must use return to get things out of the function."
     ]
    },
    {
     "cell_type": "code",
     "collapsed": false,
     "input": [
      "x = 2"
     ],
     "language": "python",
     "metadata": {},
     "outputs": [],
     "prompt_number": 168
    },
    {
     "cell_type": "code",
     "collapsed": false,
     "input": [
      "def multiply_by_2(number):\n",
      "    new_number = number * 2\n",
      "    \n",
      "    return new_number"
     ],
     "language": "python",
     "metadata": {},
     "outputs": [],
     "prompt_number": 183
    },
    {
     "cell_type": "markdown",
     "metadata": {},
     "source": [
      "The cool thing about functions is they are abstracted, so you can use them over and over again."
     ]
    },
    {
     "cell_type": "code",
     "collapsed": false,
     "input": [
      "4 *2 "
     ],
     "language": "python",
     "metadata": {},
     "outputs": [
      {
       "metadata": {},
       "output_type": "pyout",
       "prompt_number": 184,
       "text": [
        "8"
       ]
      }
     ],
     "prompt_number": 184
    },
    {
     "cell_type": "code",
     "collapsed": false,
     "input": [
      "multiply_by_2(4)"
     ],
     "language": "python",
     "metadata": {},
     "outputs": [
      {
       "metadata": {},
       "output_type": "pyout",
       "prompt_number": 187,
       "text": [
        "8"
       ]
      }
     ],
     "prompt_number": 187
    },
    {
     "cell_type": "code",
     "collapsed": false,
     "input": [
      "multiply_by_two(6)"
     ],
     "language": "python",
     "metadata": {},
     "outputs": []
    },
    {
     "cell_type": "markdown",
     "metadata": {},
     "source": [
      "Wait...what happens here?"
     ]
    },
    {
     "cell_type": "code",
     "collapsed": false,
     "input": [
      "range(5)"
     ],
     "language": "python",
     "metadata": {},
     "outputs": [
      {
       "metadata": {},
       "output_type": "pyout",
       "prompt_number": 175,
       "text": [
        "[0, 1, 2, 3, 4]"
       ]
      }
     ],
     "prompt_number": 175
    },
    {
     "cell_type": "code",
     "collapsed": false,
     "input": [
      "for i in range(5):\n",
      "    multiply_by_two(i)"
     ],
     "language": "python",
     "metadata": {},
     "outputs": [],
     "prompt_number": 181
    },
    {
     "cell_type": "markdown",
     "metadata": {},
     "source": [
      "Things inside functions need to be more explicit. We will add a print statement."
     ]
    },
    {
     "cell_type": "code",
     "collapsed": false,
     "input": [
      "our_doubled_numbers = []\n",
      "for i in range(5):\n",
      "    print i, multiply_by_two(i)"
     ],
     "language": "python",
     "metadata": {},
     "outputs": [
      {
       "output_type": "stream",
       "stream": "stdout",
       "text": [
        "0 0\n",
        "1 2\n",
        "2 4\n",
        "3 6\n",
        "4 8\n"
       ]
      }
     ],
     "prompt_number": 182
    },
    {
     "cell_type": "markdown",
     "metadata": {},
     "source": [
      "Here I am assigning the output of my function to a new variable, x. Then I am appending x to a list to keep track of it."
     ]
    },
    {
     "cell_type": "code",
     "collapsed": false,
     "input": [
      "new_numbers = []\n",
      "for i in range(5):\n",
      "    x = multiply_by_two(i)\n",
      "    new_numbers.append(x)\n",
      "new_numbers"
     ],
     "language": "python",
     "metadata": {},
     "outputs": [
      {
       "metadata": {},
       "output_type": "pyout",
       "prompt_number": 188,
       "text": [
        "[0, 2, 4, 6, 8]"
       ]
      }
     ],
     "prompt_number": 188
    },
    {
     "cell_type": "markdown",
     "metadata": {},
     "source": [
      "You can have as many inputs as you want in your function."
     ]
    },
    {
     "cell_type": "code",
     "collapsed": false,
     "input": [
      "def multiply_x_by_y(number, multiplier):\n",
      "    new_number = number * multiplier\n",
      "    \n",
      "    return new_number"
     ],
     "language": "python",
     "metadata": {},
     "outputs": []
    },
    {
     "cell_type": "code",
     "collapsed": false,
     "input": [
      "multiply_x_by_y(3, 5)"
     ],
     "language": "python",
     "metadata": {},
     "outputs": [
      {
       "metadata": {},
       "output_type": "pyout",
       "prompt_number": 189,
       "text": [
        "15"
       ]
      }
     ],
     "prompt_number": 189
    },
    {
     "cell_type": "markdown",
     "metadata": {},
     "source": [
      "### dictionaries"
     ]
    },
    {
     "cell_type": "markdown",
     "metadata": {},
     "source": [
      "We have the following information. Let's think of how to store it:\n",
      "\n",
      "- Caitlin is 64 inches tall and has curly hair. She likes to eat grapes and celementines.\n",
      "- Laura is 65 inches tall and has wavy hair. She likes to eat vegetables."
     ]
    },
    {
     "cell_type": "code",
     "collapsed": false,
     "input": [
      "caitlin = {'name':'caitlin', 'height':64, 'hair':'curly', 'fruit':['grapes', 'clementines']}\n",
      "laura = {'name':'laura', 'height':65, 'hair':'wavy', 'vegetables':['carrots', 'celery']}"
     ],
     "language": "python",
     "metadata": {},
     "outputs": [],
     "prompt_number": 190
    },
    {
     "cell_type": "markdown",
     "metadata": {},
     "source": [
      "- dictionaries use curly brackets {}. \n",
      "- They use key-value pairs, in the format key:value. \n",
      "- Keys must be strings or ints\n",
      "- values can be anything, including other data structures\n",
      "- order doesn't matter"
     ]
    },
    {
     "cell_type": "code",
     "collapsed": false,
     "input": [
      "caitlin"
     ],
     "language": "python",
     "metadata": {},
     "outputs": [
      {
       "metadata": {},
       "output_type": "pyout",
       "prompt_number": 191,
       "text": [
        "{'fruit': ['grapes', 'clementines'],\n",
        " 'hair': 'curly',\n",
        " 'height': 64,\n",
        " 'name': 'caitlin'}"
       ]
      }
     ],
     "prompt_number": 191
    },
    {
     "cell_type": "code",
     "collapsed": false,
     "input": [
      "laura"
     ],
     "language": "python",
     "metadata": {},
     "outputs": [
      {
       "metadata": {},
       "output_type": "pyout",
       "prompt_number": 192,
       "text": [
        "{'hair': 'wavy',\n",
        " 'height': 65,\n",
        " 'name': 'laura',\n",
        " 'vegetables': ['carrots', 'celery']}"
       ]
      }
     ],
     "prompt_number": 192
    },
    {
     "cell_type": "code",
     "collapsed": false,
     "input": [
      "caitlin['name']"
     ],
     "language": "python",
     "metadata": {},
     "outputs": [
      {
       "metadata": {},
       "output_type": "pyout",
       "prompt_number": 193,
       "text": [
        "'caitlin'"
       ]
      }
     ],
     "prompt_number": 193
    },
    {
     "cell_type": "code",
     "collapsed": false,
     "input": [
      "laura['name']"
     ],
     "language": "python",
     "metadata": {},
     "outputs": [
      {
       "metadata": {},
       "output_type": "pyout",
       "prompt_number": 194,
       "text": [
        "'laura'"
       ]
      }
     ],
     "prompt_number": 194
    },
    {
     "cell_type": "code",
     "collapsed": false,
     "input": [
      "caitlin['fruit']"
     ],
     "language": "python",
     "metadata": {},
     "outputs": [
      {
       "metadata": {},
       "output_type": "pyout",
       "prompt_number": 195,
       "text": [
        "['grapes', 'clementines']"
       ]
      }
     ],
     "prompt_number": 195
    },
    {
     "cell_type": "code",
     "collapsed": false,
     "input": [
      "laura['vegetables']"
     ],
     "language": "python",
     "metadata": {},
     "outputs": [
      {
       "metadata": {},
       "output_type": "pyout",
       "prompt_number": 196,
       "text": [
        "['carrots', 'celery']"
       ]
      }
     ],
     "prompt_number": 196
    },
    {
     "cell_type": "code",
     "collapsed": false,
     "input": [
      "for key, value in caitlin:\n",
      "    print key, value"
     ],
     "language": "python",
     "metadata": {},
     "outputs": [
      {
       "ename": "ValueError",
       "evalue": "too many values to unpack",
       "output_type": "pyerr",
       "traceback": [
        "\u001b[1;31m---------------------------------------------------------------------------\u001b[0m\n\u001b[1;31mValueError\u001b[0m                                Traceback (most recent call last)",
        "\u001b[1;32m<ipython-input-197-2f65f69964bc>\u001b[0m in \u001b[0;36m<module>\u001b[1;34m()\u001b[0m\n\u001b[1;32m----> 1\u001b[1;33m \u001b[1;32mfor\u001b[0m \u001b[0mkey\u001b[0m\u001b[1;33m,\u001b[0m \u001b[0mvalue\u001b[0m \u001b[1;32min\u001b[0m \u001b[0mcaitlin\u001b[0m\u001b[1;33m:\u001b[0m\u001b[1;33m\u001b[0m\u001b[0m\n\u001b[0m\u001b[0;32m      2\u001b[0m     \u001b[1;32mprint\u001b[0m \u001b[0mkey\u001b[0m\u001b[1;33m,\u001b[0m \u001b[0mvalue\u001b[0m\u001b[1;33m\u001b[0m\u001b[0m\n",
        "\u001b[1;31mValueError\u001b[0m: too many values to unpack"
       ]
      }
     ],
     "prompt_number": 197
    },
    {
     "cell_type": "code",
     "collapsed": false,
     "input": [
      "for key, value in caitlin.iteritems():\n",
      "    print key, '&&&&', value\n",
      "    \n",
      "    if key == 'height':\n",
      "        print value * 2.54"
     ],
     "language": "python",
     "metadata": {},
     "outputs": [
      {
       "output_type": "stream",
       "stream": "stdout",
       "text": [
        "hair &&&& curly\n",
        "fruit &&&& ['grapes', 'clementines']\n",
        "name &&&& caitlin\n",
        "height &&&& 64\n",
        "162.56\n"
       ]
      }
     ],
     "prompt_number": 199
    },
    {
     "cell_type": "markdown",
     "metadata": {},
     "source": [
      "Okay this is cool but not super useful. A better way is to make a nested dictionary (eek). Note we are renaming fruits and vegetables to produce so we can have matching keys."
     ]
    },
    {
     "cell_type": "code",
     "collapsed": false,
     "input": [
      "people = {'caitlin':{'height':64, 'hair':'curly', 'produce':['grapes', 'clementines']}, \n",
      "          'laura':{'height':65, 'hair':'wavy', 'produce':['carrots', 'celery']}}"
     ],
     "language": "python",
     "metadata": {},
     "outputs": [],
     "prompt_number": 200
    },
    {
     "cell_type": "code",
     "collapsed": false,
     "input": [
      "people"
     ],
     "language": "python",
     "metadata": {},
     "outputs": [
      {
       "metadata": {},
       "output_type": "pyout",
       "prompt_number": 203,
       "text": [
        "{'caitlin': {'hair': 'curly',\n",
        "  'height': 64,\n",
        "  'produce': ['grapes', 'clementines']},\n",
        " 'laura': {'hair': 'wavy', 'height': 65, 'produce': ['carrots', 'celery']}}"
       ]
      }
     ],
     "prompt_number": 203
    },
    {
     "cell_type": "code",
     "collapsed": false,
     "input": [
      "people['caitlin']"
     ],
     "language": "python",
     "metadata": {},
     "outputs": [
      {
       "metadata": {},
       "output_type": "pyout",
       "prompt_number": 204,
       "text": [
        "{'hair': 'curly', 'height': 64, 'produce': ['grapes', 'clementines']}"
       ]
      }
     ],
     "prompt_number": 204
    },
    {
     "cell_type": "code",
     "collapsed": false,
     "input": [
      "people['caitlin']['height']"
     ],
     "language": "python",
     "metadata": {},
     "outputs": [
      {
       "metadata": {},
       "output_type": "pyout",
       "prompt_number": 205,
       "text": [
        "64"
       ]
      }
     ],
     "prompt_number": 205
    },
    {
     "cell_type": "code",
     "collapsed": false,
     "input": [
      "def make_statements(name):\n",
      "    print('{} has hair that is {}. She is {} inches tall and likes to eat {}.'\\\n",
      "          .format(name, people[name]['hair'], people[name]['height'], people[name]['produce']))"
     ],
     "language": "python",
     "metadata": {},
     "outputs": [],
     "prompt_number": 218
    },
    {
     "cell_type": "code",
     "collapsed": false,
     "input": [
      "make_statements('caitlin')"
     ],
     "language": "python",
     "metadata": {},
     "outputs": [
      {
       "output_type": "stream",
       "stream": "stdout",
       "text": [
        "caitlin has hair that is curly. She is 64 inches tall and likes to eat ['grapes', 'clementines'].\n"
       ]
      }
     ],
     "prompt_number": 219
    },
    {
     "cell_type": "code",
     "collapsed": false,
     "input": [
      "make_statements('laura')"
     ],
     "language": "python",
     "metadata": {},
     "outputs": []
    },
    {
     "cell_type": "markdown",
     "metadata": {},
     "source": [
      "Conveniently, this is also how we structure data frames."
     ]
    },
    {
     "cell_type": "code",
     "collapsed": false,
     "input": [
      "df = pd.DataFrame(people)"
     ],
     "language": "python",
     "metadata": {},
     "outputs": [],
     "prompt_number": 209
    },
    {
     "cell_type": "code",
     "collapsed": false,
     "input": [
      "df"
     ],
     "language": "python",
     "metadata": {},
     "outputs": [
      {
       "html": [
        "<div style=\"max-width:1500px;overflow:auto;\">\n",
        "<table border=\"1\" class=\"dataframe\">\n",
        "  <thead>\n",
        "    <tr style=\"text-align: right;\">\n",
        "      <th></th>\n",
        "      <th>caitlin</th>\n",
        "      <th>laura</th>\n",
        "    </tr>\n",
        "  </thead>\n",
        "  <tbody>\n",
        "    <tr>\n",
        "      <th>hair</th>\n",
        "      <td>curly</td>\n",
        "      <td>wavy</td>\n",
        "    </tr>\n",
        "    <tr>\n",
        "      <th>height</th>\n",
        "      <td>64</td>\n",
        "      <td>65</td>\n",
        "    </tr>\n",
        "    <tr>\n",
        "      <th>produce</th>\n",
        "      <td>[grapes, clementines]</td>\n",
        "      <td>[carrots, celery]</td>\n",
        "    </tr>\n",
        "  </tbody>\n",
        "</table>\n",
        "</div>"
       ],
       "metadata": {},
       "output_type": "pyout",
       "prompt_number": 210,
       "text": [
        "                       caitlin              laura\n",
        "hair                     curly               wavy\n",
        "height                      64                 65\n",
        "produce  [grapes, clementines]  [carrots, celery]"
       ]
      }
     ],
     "prompt_number": 210
    },
    {
     "cell_type": "code",
     "collapsed": false,
     "input": [
      "dfT = df.T\n",
      "dfT"
     ],
     "language": "python",
     "metadata": {},
     "outputs": [
      {
       "html": [
        "<div style=\"max-width:1500px;overflow:auto;\">\n",
        "<table border=\"1\" class=\"dataframe\">\n",
        "  <thead>\n",
        "    <tr style=\"text-align: right;\">\n",
        "      <th></th>\n",
        "      <th>hair</th>\n",
        "      <th>height</th>\n",
        "      <th>produce</th>\n",
        "    </tr>\n",
        "  </thead>\n",
        "  <tbody>\n",
        "    <tr>\n",
        "      <th>caitlin</th>\n",
        "      <td>curly</td>\n",
        "      <td>64</td>\n",
        "      <td>[grapes, clementines]</td>\n",
        "    </tr>\n",
        "    <tr>\n",
        "      <th>laura</th>\n",
        "      <td>wavy</td>\n",
        "      <td>65</td>\n",
        "      <td>[carrots, celery]</td>\n",
        "    </tr>\n",
        "  </tbody>\n",
        "</table>\n",
        "</div>"
       ],
       "metadata": {},
       "output_type": "pyout",
       "prompt_number": 212,
       "text": [
        "          hair height                produce\n",
        "caitlin  curly     64  [grapes, clementines]\n",
        "laura     wavy     65      [carrots, celery]"
       ]
      }
     ],
     "prompt_number": 212
    },
    {
     "cell_type": "code",
     "collapsed": false,
     "input": [
      "dfT.height = dfT.height*2.54\n",
      "dfT.height"
     ],
     "language": "python",
     "metadata": {},
     "outputs": [
      {
       "metadata": {},
       "output_type": "pyout",
       "prompt_number": 214,
       "text": [
        "caitlin    412.9024\n",
        "laura       419.354\n",
        "Name: height, dtype: object"
       ]
      }
     ],
     "prompt_number": 214
    },
    {
     "cell_type": "markdown",
     "metadata": {},
     "source": [
      "and we can go back the other way too..."
     ]
    },
    {
     "cell_type": "code",
     "collapsed": false,
     "input": [
      "df"
     ],
     "language": "python",
     "metadata": {},
     "outputs": [
      {
       "html": [
        "<div style=\"max-width:1500px;overflow:auto;\">\n",
        "<table border=\"1\" class=\"dataframe\">\n",
        "  <thead>\n",
        "    <tr style=\"text-align: right;\">\n",
        "      <th></th>\n",
        "      <th>caitlin</th>\n",
        "      <th>laura</th>\n",
        "    </tr>\n",
        "  </thead>\n",
        "  <tbody>\n",
        "    <tr>\n",
        "      <th>hair</th>\n",
        "      <td>curly</td>\n",
        "      <td>wavy</td>\n",
        "    </tr>\n",
        "    <tr>\n",
        "      <th>height</th>\n",
        "      <td>412.9024</td>\n",
        "      <td>419.354</td>\n",
        "    </tr>\n",
        "    <tr>\n",
        "      <th>produce</th>\n",
        "      <td>[grapes, clementines]</td>\n",
        "      <td>[carrots, celery]</td>\n",
        "    </tr>\n",
        "  </tbody>\n",
        "</table>\n",
        "</div>"
       ],
       "metadata": {},
       "output_type": "pyout",
       "prompt_number": 215,
       "text": [
        "                       caitlin              laura\n",
        "hair                     curly               wavy\n",
        "height                412.9024            419.354\n",
        "produce  [grapes, clementines]  [carrots, celery]"
       ]
      }
     ],
     "prompt_number": 215
    },
    {
     "cell_type": "code",
     "collapsed": false,
     "input": [
      "new_dictionary = dfT.to_dict()"
     ],
     "language": "python",
     "metadata": {},
     "outputs": [],
     "prompt_number": 216
    },
    {
     "cell_type": "code",
     "collapsed": false,
     "input": [
      "new_dictionary"
     ],
     "language": "python",
     "metadata": {},
     "outputs": [
      {
       "metadata": {},
       "output_type": "pyout",
       "prompt_number": 217,
       "text": [
        "{'hair': {'caitlin': 'curly', 'laura': 'wavy'},\n",
        " 'height': {'caitlin': 412.9024, 'laura': 419.354},\n",
        " 'produce': {'caitlin': ['grapes', 'clementines'],\n",
        "  'laura': ['carrots', 'celery']}}"
       ]
      }
     ],
     "prompt_number": 217
    },
    {
     "cell_type": "code",
     "collapsed": false,
     "input": [],
     "language": "python",
     "metadata": {},
     "outputs": []
    }
   ],
   "metadata": {}
  }
 ]
}