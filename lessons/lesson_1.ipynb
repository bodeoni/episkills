{
 "metadata": {
  "kernelspec": {
   "display_name": "Python 2",
   "language": "python",
   "name": "python2"
  },
  "language_info": {
   "codemirror_mode": {
    "name": "ipython",
    "version": 2
   },
   "file_extension": ".py",
   "mimetype": "text/x-python",
   "name": "python",
   "nbconvert_exporter": "python",
   "pygments_lexer": "ipython2",
   "version": "2.7.10"
  },
  "name": "",
  "signature": "sha256:c4f4560b9077360324810b1763f97f9123b68904bb54644f9ffad0e0f4cb9b15"
 },
 "nbformat": 3,
 "nbformat_minor": 0,
 "worksheets": [
  {
   "cells": [
    {
     "cell_type": "markdown",
     "metadata": {},
     "source": [
      "# Python for data analysis\n",
      "Caitlin Rivers\n",
      "\n",
      "### Why learn Python\n",
      "- Get the computer to do things for you!\n",
      "- Reusable. Perform the same functions, the same way, every time with no additional effort\n",
      "- Powerful and flexible. \n",
      "    - Used for scientific computing, video games, apps like Dropbox, reddit and Youtube.\n",
      "    - Integrates with Excel, SAS, R, etc.\n",
      "- Easy(ish) to read, write and learn (unlike R)\n",
      "- Can bring together scientific computing and other functions like software development and the internet.\n",
      "- Well developed and sleek development and sharing environments\n",
      "\n",
      "### How to learn Python\n",
      "1. Accept that the beginning is hard\n",
      "2. The first month is all memorization\n",
      "3. Learn to read documentation\n",
      "4. Use it as often as possible, even if you feel inefficient.\n",
      "\n",
      "### Goals\n",
      "Learn enough to:\n",
      "1. Approach your data\n",
      "2. Learn on your own\n",
      "\n",
      "### Topics covered\n",
      "- Data cleaning and manipulation\n",
      "- Basic data analysis\n",
      "- Control structures and core Python\n",
      "- Visualization\n",
      "- Future intermediate and advanced courses in statistics, visualization and machine learning possible.\n",
      "\n",
      "### Admin\n",
      "- Class notes will be posted online.\n",
      "- Office hours will be after every class, 1200-1300. Additional times possible upon requested.\n",
      "- Email or attend office hours with questions (no dropins, please).\n",
      "- Homework \"due\" before the start of each class via email.\n",
      "-----"
     ]
    },
    {
     "cell_type": "markdown",
     "metadata": {},
     "source": [
      "# I. IPython Notebook\n",
      "\n",
      "The IPython notebook relies heavily on keyboard shortcuts. Most options are available in the dropdown menu, but learning the keybindings is ESSENTIAL. Here are a few to get you started.\n",
      "\n",
      "1. Open Help -> Keyboard shortcuts\n",
      "2. Shift + enter to execute a cell\n",
      "3. Ctrl+m, m to make a note\n",
      "4. Ctrl+m, a for above, and ctrl+m, b for below.\n",
      "5. Ctrl+s to save.\n",
      "6. Tab and tab+shift to access help"
     ]
    },
    {
     "cell_type": "heading",
     "level": 1,
     "metadata": {},
     "source": [
      "II. Getting started"
     ]
    },
    {
     "cell_type": "markdown",
     "metadata": {},
     "source": [
      "These three lines should be at the top of every notebook."
     ]
    },
    {
     "cell_type": "code",
     "collapsed": false,
     "input": [
      "import pandas as pd #load the core data analysis package we will use for almost everything.\n",
      "import numpy as np  #another helpful data package\n",
      "%pylab inline"
     ],
     "language": "python",
     "metadata": {},
     "outputs": [
      {
       "output_type": "stream",
       "stream": "stdout",
       "text": [
        "Populating the interactive namespace from numpy and matplotlib\n"
       ]
      }
     ],
     "prompt_number": 1
    },
    {
     "cell_type": "markdown",
     "metadata": {},
     "source": [
      "Read in data. Note assigning an object or operation a new name, and paths."
     ]
    },
    {
     "cell_type": "code",
     "collapsed": false,
     "input": [
      "data = pd.read_csv('C:/Users/caitlin.rivers/Downloads/cases.csv')"
     ],
     "language": "python",
     "metadata": {},
     "outputs": [],
     "prompt_number": 2
    },
    {
     "cell_type": "markdown",
     "metadata": {},
     "source": [
      "Take a peek at the top. See how tab complete works?"
     ]
    },
    {
     "cell_type": "code",
     "collapsed": false,
     "input": [
      "data.head(2)"
     ],
     "language": "python",
     "metadata": {},
     "outputs": [
      {
       "html": [
        "<div style=\"max-width:1500px;overflow:auto;\">\n",
        "<table border=\"1\" class=\"dataframe\">\n",
        "  <thead>\n",
        "    <tr style=\"text-align: right;\">\n",
        "      <th></th>\n",
        "      <th>number</th>\n",
        "      <th>FT</th>\n",
        "      <th>KSA_case</th>\n",
        "      <th>code</th>\n",
        "      <th>gender</th>\n",
        "      <th>age</th>\n",
        "      <th>country</th>\n",
        "      <th>province</th>\n",
        "      <th>city</th>\n",
        "      <th>district</th>\n",
        "      <th>...</th>\n",
        "      <th>notes</th>\n",
        "      <th>citation</th>\n",
        "      <th>citation2</th>\n",
        "      <th>citation3</th>\n",
        "      <th>citation4</th>\n",
        "      <th>citation5</th>\n",
        "      <th>sequence</th>\n",
        "      <th>accession</th>\n",
        "      <th>patient</th>\n",
        "      <th>speculation</th>\n",
        "    </tr>\n",
        "  </thead>\n",
        "  <tbody>\n",
        "    <tr>\n",
        "      <th>0</th>\n",
        "      <td>1</td>\n",
        "      <td>2</td>\n",
        "      <td>NaN</td>\n",
        "      <td>25M</td>\n",
        "      <td>M</td>\n",
        "      <td>25</td>\n",
        "      <td>Jordan</td>\n",
        "      <td>NaN</td>\n",
        "      <td>Zarqa</td>\n",
        "      <td>NaN</td>\n",
        "      <td>...</td>\n",
        "      <td>NaN</td>\n",
        "      <td>http://applications.emro.who.int/emhj/v19/Supp...</td>\n",
        "      <td>NaN</td>\n",
        "      <td>NaN</td>\n",
        "      <td>NaN</td>\n",
        "      <td>NaN</td>\n",
        "      <td>NaN</td>\n",
        "      <td>NaN</td>\n",
        "      <td>1</td>\n",
        "      <td>NaN</td>\n",
        "    </tr>\n",
        "    <tr>\n",
        "      <th>1</th>\n",
        "      <td>2</td>\n",
        "      <td>NaN</td>\n",
        "      <td>NaN</td>\n",
        "      <td>30M</td>\n",
        "      <td>M</td>\n",
        "      <td>30</td>\n",
        "      <td>Jordan</td>\n",
        "      <td>NaN</td>\n",
        "      <td>Zarqa</td>\n",
        "      <td>NaN</td>\n",
        "      <td>...</td>\n",
        "      <td>probable</td>\n",
        "      <td>http://applications.emro.who.int/emhj/v19/Supp...</td>\n",
        "      <td>NaN</td>\n",
        "      <td>NaN</td>\n",
        "      <td>NaN</td>\n",
        "      <td>NaN</td>\n",
        "      <td>NaN</td>\n",
        "      <td>NaN</td>\n",
        "      <td>2</td>\n",
        "      <td>NaN</td>\n",
        "    </tr>\n",
        "  </tbody>\n",
        "</table>\n",
        "<p>2 rows \u00d7 44 columns</p>\n",
        "</div>"
       ],
       "metadata": {},
       "output_type": "pyout",
       "prompt_number": 5,
       "text": [
        "  number   FT KSA_case code gender age country province   city district  \\\n",
        "0      1    2      NaN  25M      M  25  Jordan      NaN  Zarqa      NaN   \n",
        "1      2  NaN      NaN  30M      M  30  Jordan      NaN  Zarqa      NaN   \n",
        "\n",
        "      ...         notes                                           citation  \\\n",
        "0     ...           NaN  http://applications.emro.who.int/emhj/v19/Supp...   \n",
        "1     ...      probable  http://applications.emro.who.int/emhj/v19/Supp...   \n",
        "\n",
        "  citation2 citation3 citation4 citation5 sequence accession patient  \\\n",
        "0       NaN       NaN       NaN       NaN      NaN       NaN       1   \n",
        "1       NaN       NaN       NaN       NaN      NaN       NaN       2   \n",
        "\n",
        "  speculation  \n",
        "0         NaN  \n",
        "1         NaN  \n",
        "\n",
        "[2 rows x 44 columns]"
       ]
      }
     ],
     "prompt_number": 5
    },
    {
     "cell_type": "markdown",
     "metadata": {},
     "source": [
      "What if we want the first records? Python is zero-indexed, which means counting starts at 0 instead of 1."
     ]
    },
    {
     "cell_type": "code",
     "collapsed": true,
     "input": [
      "data.ix[0]"
     ],
     "language": "python",
     "metadata": {},
     "outputs": [
      {
       "metadata": {},
       "output_type": "pyout",
       "prompt_number": 7,
       "text": [
        "number                                                               1\n",
        "FT                                                                   2\n",
        "KSA_case                                                           NaN\n",
        "code                                                               25M\n",
        "gender                                                               M\n",
        "age                                                                 25\n",
        "country                                                         Jordan\n",
        "province                                                           NaN\n",
        "city                                                             Zarqa\n",
        "district                                                           NaN\n",
        "prior_travel                                                       NaN\n",
        "hospital                                                           NaN\n",
        "exposure                                                           NaN\n",
        "onset                                                        3/21/2012\n",
        "hospitalized                                                  4/4/2012\n",
        "sampled                                                            NaN\n",
        "reported                                                           NaN\n",
        "death                                                        4/25/2012\n",
        "discharged                                                         NaN\n",
        "comorbidity                                                        NaN\n",
        "severity                                                         fatal\n",
        "outcome                                                          fatal\n",
        "clinical                                                         fatal\n",
        "old_cluster                                                          A\n",
        "cluster                                                              A\n",
        "Cauchemez cluster                                                    4\n",
        "animal_contact                                                   FALSE\n",
        "camel_contact                                                      NaN\n",
        "HCW                                                              FALSE\n",
        "contact_with                                                       NaN\n",
        "contact                                                            NaN\n",
        "secondary                                                          NaN\n",
        "suspected                                                          NaN\n",
        "inferred                                                           NaN\n",
        "notes                                                              NaN\n",
        "citation             http://applications.emro.who.int/emhj/v19/Supp...\n",
        "citation2                                                          NaN\n",
        "citation3                                                          NaN\n",
        "citation4                                                          NaN\n",
        "citation5                                                          NaN\n",
        "sequence                                                           NaN\n",
        "accession                                                          NaN\n",
        "patient                                                              1\n",
        "speculation                                                        NaN\n",
        "Name: 0, dtype: object"
       ]
      }
     ],
     "prompt_number": 7
    },
    {
     "cell_type": "markdown",
     "metadata": {},
     "source": [
      "Look at the columns. This is a list."
     ]
    },
    {
     "cell_type": "code",
     "collapsed": true,
     "input": [
      "data.columns"
     ],
     "language": "python",
     "metadata": {},
     "outputs": [
      {
       "metadata": {},
       "output_type": "pyout",
       "prompt_number": 13,
       "text": [
        "Index([u'number', u'FT', u'KSA_case', u'code', u'gender', u'age', u'country',\n",
        "       u'province', u'city', u'district', u'prior_travel', u'hospital',\n",
        "       u'exposure', u'onset', u'hospitalized', u'sampled', u'reported',\n",
        "       u'death', u'discharged', u'comorbidity', u'severity', u'outcome',\n",
        "       u'clinical', u'old_cluster', u'cluster', u'Cauchemez cluster',\n",
        "       u'animal_contact', u'camel_contact', u'HCW', u'contact_with',\n",
        "       u'contact', u'secondary', u'suspected', u'inferred', u'notes',\n",
        "       u'citation', u'citation2', u'citation3', u'citation4', u'citation5',\n",
        "       u'sequence', u'accession', u'patient', u'speculation'],\n",
        "      dtype='object')"
       ]
      }
     ],
     "prompt_number": 13
    },
    {
     "cell_type": "code",
     "collapsed": false,
     "input": [
      "caitlins_list = ['cat', 'dog', 1]"
     ],
     "language": "python",
     "metadata": {},
     "outputs": [],
     "prompt_number": 16
    },
    {
     "cell_type": "code",
     "collapsed": false,
     "input": [
      "caitlins_list"
     ],
     "language": "python",
     "metadata": {},
     "outputs": [
      {
       "metadata": {},
       "output_type": "pyout",
       "prompt_number": 17,
       "text": [
        "['cat', 'dog', 1]"
       ]
      }
     ],
     "prompt_number": 17
    },
    {
     "cell_type": "markdown",
     "metadata": {},
     "source": [
      "How many rows?"
     ]
    },
    {
     "cell_type": "code",
     "collapsed": false,
     "input": [
      "len(data)"
     ],
     "language": "python",
     "metadata": {},
     "outputs": [
      {
       "metadata": {},
       "output_type": "pyout",
       "prompt_number": 18,
       "text": [
        "1291"
       ]
      }
     ],
     "prompt_number": 18
    },
    {
     "cell_type": "code",
     "collapsed": false,
     "input": [
      "len(data.columns)"
     ],
     "language": "python",
     "metadata": {},
     "outputs": [
      {
       "metadata": {},
       "output_type": "pyout",
       "prompt_number": 19,
       "text": [
        "44"
       ]
      }
     ],
     "prompt_number": 19
    },
    {
     "cell_type": "markdown",
     "metadata": {},
     "source": [
      "Breakdown of male and female?"
     ]
    },
    {
     "cell_type": "code",
     "collapsed": false,
     "input": [
      "data.gender.value_counts()"
     ],
     "language": "python",
     "metadata": {},
     "outputs": [
      {
       "metadata": {},
       "output_type": "pyout",
       "prompt_number": 21,
       "text": [
        "M     846\n",
        "F     422\n",
        "?      17\n",
        "M?      1\n",
        "dtype: int64"
       ]
      }
     ],
     "prompt_number": 21
    },
    {
     "cell_type": "markdown",
     "metadata": {},
     "source": [
      "Uh oh, some values are irregular. Let's replace them. "
     ]
    },
    {
     "cell_type": "code",
     "collapsed": false,
     "input": [
      "data.gender = data.gender.replace(['?', 'M?'], np.nan)"
     ],
     "language": "python",
     "metadata": {},
     "outputs": [],
     "prompt_number": 23
    },
    {
     "cell_type": "code",
     "collapsed": false,
     "input": [
      "data.to_csv('C:/Users/caitlin.rivers/Downloads/clean_mers_data.csv')"
     ],
     "language": "python",
     "metadata": {},
     "outputs": [],
     "prompt_number": 24
    },
    {
     "cell_type": "markdown",
     "metadata": {},
     "source": [
      "How's it look now?"
     ]
    },
    {
     "cell_type": "code",
     "collapsed": false,
     "input": [
      "data.gender.value_counts()"
     ],
     "language": "python",
     "metadata": {},
     "outputs": [
      {
       "metadata": {},
       "output_type": "pyout",
       "prompt_number": 25,
       "text": [
        "M    846\n",
        "F    422\n",
        "dtype: int64"
       ]
      }
     ],
     "prompt_number": 25
    },
    {
     "cell_type": "markdown",
     "metadata": {},
     "source": [
      "Fractions are better."
     ]
    },
    {
     "cell_type": "code",
     "collapsed": false,
     "input": [
      "data.gender.value_counts(normalize=True, dropna=False)"
     ],
     "language": "python",
     "metadata": {},
     "outputs": [
      {
       "metadata": {},
       "output_type": "pyout",
       "prompt_number": 27,
       "text": [
        "M      0.655306\n",
        "F      0.326878\n",
        "NaN    0.017816\n",
        "dtype: float64"
       ]
      }
     ],
     "prompt_number": 27
    },
    {
     "cell_type": "markdown",
     "metadata": {},
     "source": [
      "What about age?"
     ]
    },
    {
     "cell_type": "code",
     "collapsed": false,
     "input": [
      "data.age.head()"
     ],
     "language": "python",
     "metadata": {},
     "outputs": [
      {
       "metadata": {},
       "output_type": "pyout",
       "prompt_number": 29,
       "text": [
        "0    25\n",
        "1    30\n",
        "2    40\n",
        "3    60\n",
        "4    29\n",
        "Name: age, dtype: object"
       ]
      }
     ],
     "prompt_number": 29
    },
    {
     "cell_type": "code",
     "collapsed": false,
     "input": [
      "data.age.describe()"
     ],
     "language": "python",
     "metadata": {},
     "outputs": [
      {
       "metadata": {},
       "output_type": "pyout",
       "prompt_number": 30,
       "text": [
        "count     1285\n",
        "unique      95\n",
        "top         45\n",
        "freq        38\n",
        "Name: age, dtype: object"
       ]
      }
     ],
     "prompt_number": 30
    },
    {
     "cell_type": "markdown",
     "metadata": {},
     "source": [
      "Hmm, not numbers. There are different types of objects."
     ]
    },
    {
     "cell_type": "code",
     "collapsed": false,
     "input": [
      "data.age = data.age.convert_objects(convert_numeric=True)"
     ],
     "language": "python",
     "metadata": {},
     "outputs": [],
     "prompt_number": 31
    },
    {
     "cell_type": "markdown",
     "metadata": {},
     "source": [
      "So what's the scoop?"
     ]
    },
    {
     "cell_type": "code",
     "collapsed": false,
     "input": [
      "data.age.describe()"
     ],
     "language": "python",
     "metadata": {},
     "outputs": [
      {
       "metadata": {},
       "output_type": "pyout",
       "prompt_number": 32,
       "text": [
        "count    1277.000000\n",
        "mean       50.977291\n",
        "std        18.012934\n",
        "min         0.000000\n",
        "25%        37.000000\n",
        "50%        51.000000\n",
        "75%        65.000000\n",
        "max        99.000000\n",
        "Name: age, dtype: float64"
       ]
      }
     ],
     "prompt_number": 32
    },
    {
     "cell_type": "code",
     "collapsed": false,
     "input": [
      "data.age.median()"
     ],
     "language": "python",
     "metadata": {},
     "outputs": [
      {
       "metadata": {},
       "output_type": "pyout",
       "prompt_number": 33,
       "text": [
        "51.0"
       ]
      }
     ],
     "prompt_number": 33
    },
    {
     "cell_type": "code",
     "collapsed": false,
     "input": [
      "data.age.mean()"
     ],
     "language": "python",
     "metadata": {},
     "outputs": [
      {
       "metadata": {},
       "output_type": "pyout",
       "prompt_number": 34,
       "text": [
        "50.97729052466719"
       ]
      }
     ],
     "prompt_number": 34
    },
    {
     "cell_type": "markdown",
     "metadata": {},
     "source": [
      "Check out the distribution"
     ]
    },
    {
     "cell_type": "code",
     "collapsed": false,
     "input": [
      "data.age.hist(bins=50)"
     ],
     "language": "python",
     "metadata": {},
     "outputs": [
      {
       "metadata": {},
       "output_type": "pyout",
       "prompt_number": 36,
       "text": [
        "<matplotlib.axes._subplots.AxesSubplot at 0x9c4ac18>"
       ]
      },
      {
       "metadata": {},
       "output_type": "display_data",
       "png": "[encoded data removed]",
       "text": [
        "<matplotlib.figure.Figure at 0x9de9390>"
       ]
      }
     ],
     "prompt_number": 36
    },
    {
     "cell_type": "markdown",
     "metadata": {},
     "source": [
      "Is the age distribution different for men and women?"
     ]
    },
    {
     "cell_type": "code",
     "collapsed": false,
     "input": [
      "data.age.hist(by=data.gender)"
     ],
     "language": "python",
     "metadata": {},
     "outputs": [
      {
       "metadata": {},
       "output_type": "pyout",
       "prompt_number": 37,
       "text": [
        "array([<matplotlib.axes._subplots.AxesSubplot object at 0x000000000A0C7EF0>,\n",
        "       <matplotlib.axes._subplots.AxesSubplot object at 0x000000000A2081D0>], dtype=object)"
       ]
      },
      {
       "metadata": {},
       "output_type": "display_data",
       "png": "[encoded data removed]",
       "text": [
        "<matplotlib.figure.Figure at 0x9de9208>"
       ]
      }
     ],
     "prompt_number": 37
    },
    {
     "cell_type": "markdown",
     "metadata": {},
     "source": [
      "Actually I'm only interested in patients from one country."
     ]
    },
    {
     "cell_type": "code",
     "collapsed": false,
     "input": [
      "data.country.value_counts()"
     ],
     "language": "python",
     "metadata": {},
     "outputs": [
      {
       "metadata": {},
       "output_type": "pyout",
       "prompt_number": 38,
       "text": [
        "KSA            959\n",
        "South Korea    186\n",
        "UAE             77\n",
        "Jordan          20\n",
        "Qatar           15\n",
        "Oman             9\n",
        "Iran             8\n",
        "Kuwait           3\n",
        "UK               2\n",
        "Tunisia          2\n",
        "Italy            2\n",
        "France           1\n",
        "Lebanon          1\n",
        "Yemen            1\n",
        "dtype: int64"
       ]
      }
     ],
     "prompt_number": 38
    },
    {
     "cell_type": "markdown",
     "metadata": {},
     "source": [
      "Let's pull those out."
     ]
    },
    {
     "cell_type": "code",
     "collapsed": false,
     "input": [
      "southkorea = data[data.country == 'South Korea']"
     ],
     "language": "python",
     "metadata": {},
     "outputs": [],
     "prompt_number": 39
    },
    {
     "cell_type": "code",
     "collapsed": false,
     "input": [
      "southkorea.head()"
     ],
     "language": "python",
     "metadata": {},
     "outputs": [
      {
       "html": [
        "<div style=\"max-width:1500px;overflow:auto;\">\n",
        "<table border=\"1\" class=\"dataframe\">\n",
        "  <thead>\n",
        "    <tr style=\"text-align: right;\">\n",
        "      <th></th>\n",
        "      <th>number</th>\n",
        "      <th>FT</th>\n",
        "      <th>KSA_case</th>\n",
        "      <th>code</th>\n",
        "      <th>gender</th>\n",
        "      <th>age</th>\n",
        "      <th>country</th>\n",
        "      <th>province</th>\n",
        "      <th>city</th>\n",
        "      <th>district</th>\n",
        "      <th>...</th>\n",
        "      <th>notes</th>\n",
        "      <th>citation</th>\n",
        "      <th>citation2</th>\n",
        "      <th>citation3</th>\n",
        "      <th>citation4</th>\n",
        "      <th>citation5</th>\n",
        "      <th>sequence</th>\n",
        "      <th>accession</th>\n",
        "      <th>patient</th>\n",
        "      <th>speculation</th>\n",
        "    </tr>\n",
        "  </thead>\n",
        "  <tbody>\n",
        "    <tr>\n",
        "      <th>1047</th>\n",
        "      <td>1051</td>\n",
        "      <td>1149</td>\n",
        "      <td>SK1:W1</td>\n",
        "      <td>68M</td>\n",
        "      <td>M</td>\n",
        "      <td>68</td>\n",
        "      <td>South Korea</td>\n",
        "      <td>NaN</td>\n",
        "      <td>Pyeongtaek</td>\n",
        "      <td>NaN</td>\n",
        "      <td>...</td>\n",
        "      <td>68 year-old male with the following travel his...</td>\n",
        "      <td>http://www.who.int/csr/don/24-may-2015-mers-ko...</td>\n",
        "      <td>http://www.koreaherald.com/view.php?ud=2015060...</td>\n",
        "      <td>http://www.thenational.ae/world/east-asia/sout...</td>\n",
        "      <td>http://www.who.int/csr/don/30-may-2015-mers-ko...</td>\n",
        "      <td>http://www.eurosurveillance.org/images/dynamic...</td>\n",
        "      <td>NaN</td>\n",
        "      <td>NaN</td>\n",
        "      <td>NaN</td>\n",
        "      <td>NaN</td>\n",
        "    </tr>\n",
        "    <tr>\n",
        "      <th>1048</th>\n",
        "      <td>1052</td>\n",
        "      <td>1152</td>\n",
        "      <td>SK3:W3</td>\n",
        "      <td>76M</td>\n",
        "      <td>M</td>\n",
        "      <td>76</td>\n",
        "      <td>South Korea</td>\n",
        "      <td>NaN</td>\n",
        "      <td>Pyeongtaek</td>\n",
        "      <td>NaN</td>\n",
        "      <td>...</td>\n",
        "      <td>76 year-old male who shared a hospital room wi...</td>\n",
        "      <td>http://www.who.int/csr/don/30-may-2015-mers-ko...</td>\n",
        "      <td>http://www.eurosurveillance.org/images/dynamic...</td>\n",
        "      <td>http://www.who.int/emergencies/mers-cov/MERS-C...</td>\n",
        "      <td>http://www.who.int/csr/don/06-june-2015-mers-k...</td>\n",
        "      <td>http://www.eurosurveillance.org/images/dynamic...</td>\n",
        "      <td>NaN</td>\n",
        "      <td>NaN</td>\n",
        "      <td>NaN</td>\n",
        "      <td>NaN</td>\n",
        "    </tr>\n",
        "    <tr>\n",
        "      <th>1049</th>\n",
        "      <td>1053</td>\n",
        "      <td>1151</td>\n",
        "      <td>SK2:W2</td>\n",
        "      <td>63F</td>\n",
        "      <td>F</td>\n",
        "      <td>63</td>\n",
        "      <td>South Korea</td>\n",
        "      <td>NaN</td>\n",
        "      <td>Pyeongtaek</td>\n",
        "      <td>NaN</td>\n",
        "      <td>...</td>\n",
        "      <td>64 [NB 63 in who spreadsheet]year-old female w...</td>\n",
        "      <td>http://www.who.int/csr/don/24-may-2015-mers-ko...</td>\n",
        "      <td>http://www.who.int/emergencies/mers-cov/MERS-C...</td>\n",
        "      <td>http://promedmail.org/direct.php?id=3430149</td>\n",
        "      <td>http://www.who.int/csr/don/30-may-2015-mers-ko...</td>\n",
        "      <td>http://www.eurosurveillance.org/images/dynamic...</td>\n",
        "      <td>NaN</td>\n",
        "      <td>NaN</td>\n",
        "      <td>NaN</td>\n",
        "      <td>NaN</td>\n",
        "    </tr>\n",
        "    <tr>\n",
        "      <th>1051</th>\n",
        "      <td>1055</td>\n",
        "      <td>1158</td>\n",
        "      <td>SK4:W4</td>\n",
        "      <td>46F</td>\n",
        "      <td>F</td>\n",
        "      <td>46</td>\n",
        "      <td>South Korea</td>\n",
        "      <td>NaN</td>\n",
        "      <td>Pyeongtaek</td>\n",
        "      <td>NaN</td>\n",
        "      <td>...</td>\n",
        "      <td>46 year-old female who is the daughter of the ...</td>\n",
        "      <td>http://www.who.int/csr/don/30-may-2015-mers-ko...</td>\n",
        "      <td>http://www.koreaherald.com/view.php?ud=2015052...</td>\n",
        "      <td>http://www.koreaherald.com/view.php?ud=2015052...</td>\n",
        "      <td>http://promedmail.org/direct.php?id=3442296</td>\n",
        "      <td>http://www.eurosurveillance.org/images/dynamic...</td>\n",
        "      <td>NaN</td>\n",
        "      <td>NaN</td>\n",
        "      <td>NaN</td>\n",
        "      <td>NaN</td>\n",
        "    </tr>\n",
        "    <tr>\n",
        "      <th>1052</th>\n",
        "      <td>1056</td>\n",
        "      <td>1160</td>\n",
        "      <td>SK5:W5</td>\n",
        "      <td>50M</td>\n",
        "      <td>M</td>\n",
        "      <td>50</td>\n",
        "      <td>South Korea</td>\n",
        "      <td>NaN</td>\n",
        "      <td>Seoul</td>\n",
        "      <td>NaN</td>\n",
        "      <td>...</td>\n",
        "      <td>50 year-old, male health professional who trea...</td>\n",
        "      <td>http://www.who.int/csr/don/30-may-2015-mers-ko...</td>\n",
        "      <td>http://www.who.int/emergencies/mers-cov/MERS-C...</td>\n",
        "      <td>http://promedmail.org/direct.php?id=3430149</td>\n",
        "      <td>NaN</td>\n",
        "      <td>NaN</td>\n",
        "      <td>NaN</td>\n",
        "      <td>NaN</td>\n",
        "      <td>NaN</td>\n",
        "      <td>NaN</td>\n",
        "    </tr>\n",
        "  </tbody>\n",
        "</table>\n",
        "<p>5 rows \u00d7 44 columns</p>\n",
        "</div>"
       ],
       "metadata": {},
       "output_type": "pyout",
       "prompt_number": 42,
       "text": [
        "     number    FT KSA_case code gender  age      country province        city  \\\n",
        "1047   1051  1149   SK1:W1  68M      M   68  South Korea      NaN  Pyeongtaek   \n",
        "1048   1052  1152   SK3:W3  76M      M   76  South Korea      NaN  Pyeongtaek   \n",
        "1049   1053  1151   SK2:W2  63F      F   63  South Korea      NaN  Pyeongtaek   \n",
        "1051   1055  1158   SK4:W4  46F      F   46  South Korea      NaN  Pyeongtaek   \n",
        "1052   1056  1160   SK5:W5  50M      M   50  South Korea      NaN       Seoul   \n",
        "\n",
        "     district     ...                                                  notes  \\\n",
        "1047      NaN     ...      68 year-old male with the following travel his...   \n",
        "1048      NaN     ...      76 year-old male who shared a hospital room wi...   \n",
        "1049      NaN     ...      64 [NB 63 in who spreadsheet]year-old female w...   \n",
        "1051      NaN     ...      46 year-old female who is the daughter of the ...   \n",
        "1052      NaN     ...      50 year-old, male health professional who trea...   \n",
        "\n",
        "                                               citation  \\\n",
        "1047  http://www.who.int/csr/don/24-may-2015-mers-ko...   \n",
        "1048  http://www.who.int/csr/don/30-may-2015-mers-ko...   \n",
        "1049  http://www.who.int/csr/don/24-may-2015-mers-ko...   \n",
        "1051  http://www.who.int/csr/don/30-may-2015-mers-ko...   \n",
        "1052  http://www.who.int/csr/don/30-may-2015-mers-ko...   \n",
        "\n",
        "                                              citation2  \\\n",
        "1047  http://www.koreaherald.com/view.php?ud=2015060...   \n",
        "1048  http://www.eurosurveillance.org/images/dynamic...   \n",
        "1049  http://www.who.int/emergencies/mers-cov/MERS-C...   \n",
        "1051  http://www.koreaherald.com/view.php?ud=2015052...   \n",
        "1052  http://www.who.int/emergencies/mers-cov/MERS-C...   \n",
        "\n",
        "                                              citation3  \\\n",
        "1047  http://www.thenational.ae/world/east-asia/sout...   \n",
        "1048  http://www.who.int/emergencies/mers-cov/MERS-C...   \n",
        "1049        http://promedmail.org/direct.php?id=3430149   \n",
        "1051  http://www.koreaherald.com/view.php?ud=2015052...   \n",
        "1052        http://promedmail.org/direct.php?id=3430149   \n",
        "\n",
        "                                              citation4  \\\n",
        "1047  http://www.who.int/csr/don/30-may-2015-mers-ko...   \n",
        "1048  http://www.who.int/csr/don/06-june-2015-mers-k...   \n",
        "1049  http://www.who.int/csr/don/30-may-2015-mers-ko...   \n",
        "1051        http://promedmail.org/direct.php?id=3442296   \n",
        "1052                                                NaN   \n",
        "\n",
        "                                              citation5 sequence accession  \\\n",
        "1047  http://www.eurosurveillance.org/images/dynamic...      NaN       NaN   \n",
        "1048  http://www.eurosurveillance.org/images/dynamic...      NaN       NaN   \n",
        "1049  http://www.eurosurveillance.org/images/dynamic...      NaN       NaN   \n",
        "1051  http://www.eurosurveillance.org/images/dynamic...      NaN       NaN   \n",
        "1052                                                NaN      NaN       NaN   \n",
        "\n",
        "     patient speculation  \n",
        "1047     NaN         NaN  \n",
        "1048     NaN         NaN  \n",
        "1049     NaN         NaN  \n",
        "1051     NaN         NaN  \n",
        "1052     NaN         NaN  \n",
        "\n",
        "[5 rows x 44 columns]"
       ]
      }
     ],
     "prompt_number": 42
    },
    {
     "cell_type": "code",
     "collapsed": false,
     "input": [
      "southkorea[['gender', 'age', 'city']][:5]"
     ],
     "language": "python",
     "metadata": {},
     "outputs": [
      {
       "html": [
        "<div style=\"max-width:1500px;overflow:auto;\">\n",
        "<table border=\"1\" class=\"dataframe\">\n",
        "  <thead>\n",
        "    <tr style=\"text-align: right;\">\n",
        "      <th></th>\n",
        "      <th>gender</th>\n",
        "      <th>age</th>\n",
        "      <th>city</th>\n",
        "    </tr>\n",
        "  </thead>\n",
        "  <tbody>\n",
        "    <tr>\n",
        "      <th>1047</th>\n",
        "      <td>M</td>\n",
        "      <td>68</td>\n",
        "      <td>Pyeongtaek</td>\n",
        "    </tr>\n",
        "    <tr>\n",
        "      <th>1048</th>\n",
        "      <td>M</td>\n",
        "      <td>76</td>\n",
        "      <td>Pyeongtaek</td>\n",
        "    </tr>\n",
        "    <tr>\n",
        "      <th>1049</th>\n",
        "      <td>F</td>\n",
        "      <td>63</td>\n",
        "      <td>Pyeongtaek</td>\n",
        "    </tr>\n",
        "    <tr>\n",
        "      <th>1051</th>\n",
        "      <td>F</td>\n",
        "      <td>46</td>\n",
        "      <td>Pyeongtaek</td>\n",
        "    </tr>\n",
        "    <tr>\n",
        "      <th>1052</th>\n",
        "      <td>M</td>\n",
        "      <td>50</td>\n",
        "      <td>Seoul</td>\n",
        "    </tr>\n",
        "  </tbody>\n",
        "</table>\n",
        "</div>"
       ],
       "metadata": {},
       "output_type": "pyout",
       "prompt_number": 61,
       "text": [
        "     gender  age        city\n",
        "1047      M   68  Pyeongtaek\n",
        "1048      M   76  Pyeongtaek\n",
        "1049      F   63  Pyeongtaek\n",
        "1051      F   46  Pyeongtaek\n",
        "1052      M   50       Seoul"
       ]
      }
     ],
     "prompt_number": 61
    },
    {
     "cell_type": "code",
     "collapsed": false,
     "input": [
      "skgb = southkorea.groupby(['gender', 'city'])"
     ],
     "language": "python",
     "metadata": {},
     "outputs": [],
     "prompt_number": 46
    },
    {
     "cell_type": "code",
     "collapsed": false,
     "input": [
      "skgb.age.median().plot(kind='bar')"
     ],
     "language": "python",
     "metadata": {},
     "outputs": [
      {
       "metadata": {},
       "output_type": "pyout",
       "prompt_number": 49,
       "text": [
        "<matplotlib.axes._subplots.AxesSubplot at 0xbc743c8>"
       ]
      },
      {
       "metadata": {},
       "output_type": "display_data",
       "png": "[encoded data removed]",
       "text": [
        "<matplotlib.figure.Figure at 0xbcde978>"
       ]
      }
     ],
     "prompt_number": 49
    },
    {
     "cell_type": "code",
     "collapsed": false,
     "input": [
      "data['incidence'] = data.age/30"
     ],
     "language": "python",
     "metadata": {},
     "outputs": [],
     "prompt_number": 50
    },
    {
     "cell_type": "code",
     "collapsed": false,
     "input": [
      "data['random_number'] = 10"
     ],
     "language": "python",
     "metadata": {},
     "outputs": [],
     "prompt_number": 52
    },
    {
     "cell_type": "code",
     "collapsed": false,
     "input": [
      "data['math'] = data['age'] + data['random_number']"
     ],
     "language": "python",
     "metadata": {},
     "outputs": [],
     "prompt_number": 56
    },
    {
     "cell_type": "code",
     "collapsed": false,
     "input": [
      "data.math.describe()"
     ],
     "language": "python",
     "metadata": {},
     "outputs": [
      {
       "metadata": {},
       "output_type": "pyout",
       "prompt_number": 57,
       "text": [
        "count    1277.000000\n",
        "mean       60.977291\n",
        "std        18.012934\n",
        "min        10.000000\n",
        "25%        47.000000\n",
        "50%        61.000000\n",
        "75%        75.000000\n",
        "max       109.000000\n",
        "Name: math, dtype: float64"
       ]
      }
     ],
     "prompt_number": 57
    },
    {
     "cell_type": "code",
     "collapsed": false,
     "input": [
      "fig, ax = plt.subplots()\n",
      "data.math.plot(ax=ax)\n",
      "fig.savefig('C:/Users/caitlin.rivers/')"
     ],
     "language": "python",
     "metadata": {},
     "outputs": [
      {
       "metadata": {},
       "output_type": "pyout",
       "prompt_number": 60,
       "text": [
        "<matplotlib.axes._subplots.AxesSubplot at 0xc8183c8>"
       ]
      },
      {
       "metadata": {},
       "output_type": "display_data",
       "png": "[encoded data removed]",
       "text": [
        "<matplotlib.figure.Figure at 0xc23d080>"
       ]
      }
     ],
     "prompt_number": 60
    },
    {
     "cell_type": "code",
     "collapsed": false,
     "input": [
      "excel_data = pd.read_csv(infer_datetime_format=True, parse_dates)"
     ],
     "language": "python",
     "metadata": {},
     "outputs": []
    },
    {
     "cell_type": "code",
     "collapsed": false,
     "input": [
      "data.to_csv('C:/Users/caitlin.rivers/Downloads/my_clean_data.csv')"
     ],
     "language": "python",
     "metadata": {},
     "outputs": []
    },
    {
     "cell_type": "markdown",
     "metadata": {},
     "source": [
      "# III. Homework\n",
      "1. Install (show):\n",
      "    - pandas\n",
      "    - numpy\n",
      "    - seaborn\n",
      "    - epipy (?)\n",
      "2. Produce descriptive statistics in an ipython notebook on your own data set. If something doesn't work or you get stuck, make a note of it so we can talk about it in class. Then skip it and move on, don't stew over it.\n",
      "3. Send me the html or ipynb or something that shows what you did."
     ]
    },
    {
     "cell_type": "code",
     "collapsed": true,
     "input": [],
     "language": "python",
     "metadata": {},
     "outputs": [],
     "prompt_number": null
    }
   ],
   "metadata": {}
  }
 ]
}