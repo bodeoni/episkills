{
 "metadata": {
  "name": "",
  "signature": "sha256:e84e57889637dd138adaa0222510c019330e34f0d641d61e0eda7eaf61a68bba"
 },
 "nbformat": 3,
 "nbformat_minor": 0,
 "worksheets": [
  {
   "cells": [
    {
     "cell_type": "markdown",
     "metadata": {},
     "source": [
      "#Python for Data analysis\n",
      "\n",
      "###Lesson 2"
     ]
    },
    {
     "cell_type": "markdown",
     "metadata": {},
     "source": [
      "What we did last time:\n",
      "- Getting a handle on your data\n",
      "- Replacing values\n",
      "- Summary statistics, with some stratification"
     ]
    },
    {
     "cell_type": "markdown",
     "metadata": {},
     "source": [
      "What we will do today:\n",
      "- More advanced versions of all of those things"
     ]
    },
    {
     "cell_type": "markdown",
     "metadata": {},
     "source": [
      "What we will do next time:\n",
      "- Traditional programming in Python\n",
      "- Control flows, functions"
     ]
    },
    {
     "cell_type": "markdown",
     "metadata": {},
     "source": [
      "Always import the packages you will rely on first. Pandas and %pylab inline is a must. Numpy and seaborn are helpful."
     ]
    },
    {
     "cell_type": "code",
     "collapsed": false,
     "input": [
      "import pandas as pd #core data analysis package\n",
      "import numpy as np #also a useful data analysis package\n",
      "import seaborn as sns #make your plots pretty\n",
      "#make your plots appear on screen\n",
      "%pylab inline "
     ],
     "language": "python",
     "metadata": {},
     "outputs": [
      {
       "output_type": "stream",
       "stream": "stdout",
       "text": [
        "Populating the interactive namespace from numpy and matplotlib\n"
       ]
      }
     ],
     "prompt_number": 1
    },
    {
     "cell_type": "code",
     "collapsed": false,
     "input": [
      "data = pd.read_csv('C:/Users/caitlin.rivers/Downloads/cases.csv')"
     ],
     "language": "python",
     "metadata": {},
     "outputs": [],
     "prompt_number": 3
    },
    {
     "cell_type": "markdown",
     "metadata": {},
     "source": [
      "Like last time, we need to convert age from a string to a number. Normally you would just re-run your code (or pull up cleaned data that you saved previously), but I'm starting a new notebook to keep it clean."
     ]
    },
    {
     "cell_type": "code",
     "collapsed": false,
     "input": [
      "data.age = data.age.convert_objects(convert_numeric=True)\n",
      "data.gender = data.gender.replace(['?', 'M?'], np.nan)"
     ],
     "language": "python",
     "metadata": {},
     "outputs": [],
     "prompt_number": 4
    },
    {
     "cell_type": "markdown",
     "metadata": {},
     "source": [
      "# I. Fancy data manipulation"
     ]
    },
    {
     "cell_type": "markdown",
     "metadata": {},
     "source": [
      "Make a list of where you want your breaks to be. Note it's a list (square brackets) and each category is a string (quotes)."
     ]
    },
    {
     "cell_type": "code",
     "collapsed": false,
     "input": [
      "labels = ['0-50', '51- 99']"
     ],
     "language": "python",
     "metadata": {},
     "outputs": [],
     "prompt_number": 8
    },
    {
     "cell_type": "code",
     "collapsed": false,
     "input": [
      "labels = ['0-9', '10-19', '20-29', '30-39', '40-49', '50-59', '60-69', '70-79', '80-89', '90+']"
     ],
     "language": "python",
     "metadata": {},
     "outputs": [],
     "prompt_number": 9
    },
    {
     "cell_type": "markdown",
     "metadata": {},
     "source": [
      "Second, we generate a range that matches those breaks."
     ]
    },
    {
     "cell_type": "code",
     "collapsed": false,
     "input": [
      "range(0, 101,10)"
     ],
     "language": "python",
     "metadata": {},
     "outputs": [
      {
       "metadata": {},
       "output_type": "pyout",
       "prompt_number": 10,
       "text": [
        "[0, 10, 20, 30, 40, 50, 60, 70, 80, 90, 100]"
       ]
      }
     ],
     "prompt_number": 10
    },
    {
     "cell_type": "markdown",
     "metadata": {},
     "source": [
      "Make a new column for age group. Use pandas' cut function to make breaks. Attach labels."
     ]
    },
    {
     "cell_type": "code",
     "collapsed": false,
     "input": [
      "data['age_group'] = pd.cut(data.age, range(0, 101, 10), right=False, labels=labels)"
     ],
     "language": "python",
     "metadata": {},
     "outputs": [],
     "prompt_number": 15
    },
    {
     "cell_type": "markdown",
     "metadata": {},
     "source": [
      "See if it worked."
     ]
    },
    {
     "cell_type": "code",
     "collapsed": false,
     "input": [
      "data[['age', 'age_group']][:5]"
     ],
     "language": "python",
     "metadata": {},
     "outputs": [
      {
       "html": [
        "<div style=\"max-width:1500px;overflow:auto;\">\n",
        "<table border=\"1\" class=\"dataframe\">\n",
        "  <thead>\n",
        "    <tr style=\"text-align: right;\">\n",
        "      <th></th>\n",
        "      <th>age</th>\n",
        "      <th>age_group</th>\n",
        "    </tr>\n",
        "  </thead>\n",
        "  <tbody>\n",
        "    <tr>\n",
        "      <th>0</th>\n",
        "      <td>25</td>\n",
        "      <td>20-29</td>\n",
        "    </tr>\n",
        "    <tr>\n",
        "      <th>1</th>\n",
        "      <td>30</td>\n",
        "      <td>30-39</td>\n",
        "    </tr>\n",
        "    <tr>\n",
        "      <th>2</th>\n",
        "      <td>40</td>\n",
        "      <td>40-49</td>\n",
        "    </tr>\n",
        "    <tr>\n",
        "      <th>3</th>\n",
        "      <td>60</td>\n",
        "      <td>60-69</td>\n",
        "    </tr>\n",
        "    <tr>\n",
        "      <th>4</th>\n",
        "      <td>29</td>\n",
        "      <td>20-29</td>\n",
        "    </tr>\n",
        "  </tbody>\n",
        "</table>\n",
        "</div>"
       ],
       "metadata": {},
       "output_type": "pyout",
       "prompt_number": 16,
       "text": [
        "   age age_group\n",
        "0   25     20-29\n",
        "1   30     30-39\n",
        "2   40     40-49\n",
        "3   60     60-69\n",
        "4   29     20-29"
       ]
      }
     ],
     "prompt_number": 16
    },
    {
     "cell_type": "markdown",
     "metadata": {},
     "source": [
      "Cool, so how many people are in each age group?"
     ]
    },
    {
     "cell_type": "code",
     "collapsed": false,
     "input": [
      "age_group_counts = data.age_group.value_counts(sort=False)"
     ],
     "language": "python",
     "metadata": {},
     "outputs": [],
     "prompt_number": 17
    },
    {
     "cell_type": "code",
     "collapsed": false,
     "input": [
      "age_group_counts"
     ],
     "language": "python",
     "metadata": {},
     "outputs": [
      {
       "metadata": {},
       "output_type": "pyout",
       "prompt_number": 18,
       "text": [
        "0-9        9\n",
        "10-19     29\n",
        "20-29    128\n",
        "30-39    209\n",
        "40-49    220\n",
        "50-59    250\n",
        "60-69    198\n",
        "70-79    161\n",
        "80-89     62\n",
        "90+       11\n",
        "dtype: int64"
       ]
      }
     ],
     "prompt_number": 18
    },
    {
     "cell_type": "markdown",
     "metadata": {},
     "source": [
      "This would be better as a plot."
     ]
    },
    {
     "cell_type": "code",
     "collapsed": false,
     "input": [
      "age_group_counts.plot(kind='bar')"
     ],
     "language": "python",
     "metadata": {},
     "outputs": [
      {
       "metadata": {},
       "output_type": "pyout",
       "prompt_number": 205,
       "text": [
        "<matplotlib.axes._subplots.AxesSubplot at 0x125f8b00>"
       ]
      },
      {
       "metadata": {},
       "output_type": "display_data",
       "png": "[encoded data removed]",
       "text": [
        "<matplotlib.figure.Figure at 0x125f8cf8>"
       ]
      }
     ],
     "prompt_number": 205
    },
    {
     "cell_type": "code",
     "collapsed": false,
     "input": [
      "data.age_group.value_counts(sort=False).plot(kind='bar')"
     ],
     "language": "python",
     "metadata": {},
     "outputs": [
      {
       "metadata": {},
       "output_type": "pyout",
       "prompt_number": 20,
       "text": [
        "<matplotlib.axes._subplots.AxesSubplot at 0xbc30860>"
       ]
      },
      {
       "metadata": {},
       "output_type": "display_data",
       "png": "[encoded data removed]",
       "text": [
        "<matplotlib.figure.Figure at 0xa257588>"
       ]
      }
     ],
     "prompt_number": 20
    },
    {
     "cell_type": "markdown",
     "metadata": {},
     "source": [
      "Or a boxplot could be useful."
     ]
    },
    {
     "cell_type": "code",
     "collapsed": false,
     "input": [
      "data.age.plot(kind='box', )"
     ],
     "language": "python",
     "metadata": {},
     "outputs": [
      {
       "metadata": {},
       "output_type": "pyout",
       "prompt_number": 209,
       "text": [
        "<matplotlib.axes._subplots.AxesSubplot at 0x12aa8160>"
       ]
      },
      {
       "metadata": {},
       "output_type": "display_data",
       "png": "[encoded data removed]",
       "text": [
        "<matplotlib.figure.Figure at 0x129437f0>"
       ]
      }
     ],
     "prompt_number": 209
    },
    {
     "cell_type": "markdown",
     "metadata": {},
     "source": [
      "You can do column-wise math...addition, subtraction, etc."
     ]
    },
    {
     "cell_type": "code",
     "collapsed": false,
     "input": [
      "data.age/100"
     ],
     "language": "python",
     "metadata": {},
     "outputs": [
      {
       "metadata": {},
       "output_type": "pyout",
       "prompt_number": 25,
       "text": [
        "0       0.25\n",
        "1       0.30\n",
        "2       0.40\n",
        "3       0.60\n",
        "4       0.29\n",
        "5       0.33\n",
        "6       0.28\n",
        "7       0.45\n",
        "8       0.46\n",
        "9       0.25\n",
        "10      0.53\n",
        "11      0.28\n",
        "12      0.60\n",
        "13      0.60\n",
        "14      0.49\n",
        "15      0.45\n",
        "16      0.45\n",
        "17      0.70\n",
        "18      0.31\n",
        "19      0.39\n",
        "20      0.16\n",
        "21      0.60\n",
        "22      0.39\n",
        "23      0.30\n",
        "24      0.61\n",
        "25      0.69\n",
        "26      0.51\n",
        "27      0.39\n",
        "28      0.40\n",
        "29      0.73\n",
        "        ... \n",
        "1261    0.77\n",
        "1262    0.60\n",
        "1263    0.61\n",
        "1264    0.70\n",
        "1265    0.75\n",
        "1266    0.74\n",
        "1267    0.51\n",
        "1268    0.50\n",
        "1269    0.30\n",
        "1270    0.54\n",
        "1271    0.41\n",
        "1272    0.11\n",
        "1273    0.54\n",
        "1274    0.26\n",
        "1275    0.27\n",
        "1276    0.40\n",
        "1277    0.65\n",
        "1278    0.56\n",
        "1279    0.60\n",
        "1280    0.76\n",
        "1281    0.24\n",
        "1282    0.35\n",
        "1283    0.24\n",
        "1284    0.25\n",
        "1285    0.50\n",
        "1286    0.36\n",
        "1287    0.77\n",
        "1288    0.60\n",
        "1289    0.93\n",
        "1290    0.32\n",
        "Name: age, dtype: float64"
       ]
      }
     ],
     "prompt_number": 25
    },
    {
     "cell_type": "markdown",
     "metadata": {},
     "source": [
      "There are lots of ways to do fancy pivot tables and aggregations. You don't really need to memorize it, just remember that this is a possibility."
     ]
    },
    {
     "cell_type": "code",
     "collapsed": false,
     "input": [
      "country_table = data.groupby('country').agg({'age': [np.min, np.mean, np.median], 'HCW':np.count_nonzero})"
     ],
     "language": "python",
     "metadata": {},
     "outputs": [],
     "prompt_number": 32
    },
    {
     "cell_type": "code",
     "collapsed": false,
     "input": [
      "country_table"
     ],
     "language": "python",
     "metadata": {},
     "outputs": [
      {
       "html": [
        "<div style=\"max-width:1500px;overflow:auto;\">\n",
        "<table border=\"1\" class=\"dataframe\">\n",
        "  <thead>\n",
        "    <tr>\n",
        "      <th></th>\n",
        "      <th colspan=\"3\" halign=\"left\">age</th>\n",
        "      <th>HCW</th>\n",
        "    </tr>\n",
        "    <tr>\n",
        "      <th></th>\n",
        "      <th>amin</th>\n",
        "      <th>mean</th>\n",
        "      <th>median</th>\n",
        "      <th>count_nonzero</th>\n",
        "    </tr>\n",
        "    <tr>\n",
        "      <th>country</th>\n",
        "      <th></th>\n",
        "      <th></th>\n",
        "      <th></th>\n",
        "      <th></th>\n",
        "    </tr>\n",
        "  </thead>\n",
        "  <tbody>\n",
        "    <tr>\n",
        "      <th>France</th>\n",
        "      <td>51</td>\n",
        "      <td>51.000000</td>\n",
        "      <td>51.0</td>\n",
        "      <td>1</td>\n",
        "    </tr>\n",
        "    <tr>\n",
        "      <th>Iran</th>\n",
        "      <td>35</td>\n",
        "      <td>51.500000</td>\n",
        "      <td>51.0</td>\n",
        "      <td>8</td>\n",
        "    </tr>\n",
        "    <tr>\n",
        "      <th>Italy</th>\n",
        "      <td>2</td>\n",
        "      <td>22.000000</td>\n",
        "      <td>22.0</td>\n",
        "      <td>2</td>\n",
        "    </tr>\n",
        "    <tr>\n",
        "      <th>Jordan</th>\n",
        "      <td>25</td>\n",
        "      <td>41.300000</td>\n",
        "      <td>42.5</td>\n",
        "      <td>20</td>\n",
        "    </tr>\n",
        "    <tr>\n",
        "      <th>KSA</th>\n",
        "      <td>0</td>\n",
        "      <td>51.171908</td>\n",
        "      <td>52.0</td>\n",
        "      <td>959</td>\n",
        "    </tr>\n",
        "    <tr>\n",
        "      <th>Kuwait</th>\n",
        "      <td>47</td>\n",
        "      <td>53.000000</td>\n",
        "      <td>52.0</td>\n",
        "      <td>3</td>\n",
        "    </tr>\n",
        "    <tr>\n",
        "      <th>Lebanon</th>\n",
        "      <td>60</td>\n",
        "      <td>60.000000</td>\n",
        "      <td>60.0</td>\n",
        "      <td>1</td>\n",
        "    </tr>\n",
        "    <tr>\n",
        "      <th>Oman</th>\n",
        "      <td>31</td>\n",
        "      <td>55.333333</td>\n",
        "      <td>59.0</td>\n",
        "      <td>9</td>\n",
        "    </tr>\n",
        "    <tr>\n",
        "      <th>Qatar</th>\n",
        "      <td>23</td>\n",
        "      <td>51.866667</td>\n",
        "      <td>55.0</td>\n",
        "      <td>15</td>\n",
        "    </tr>\n",
        "    <tr>\n",
        "      <th>South Korea</th>\n",
        "      <td>16</td>\n",
        "      <td>54.190217</td>\n",
        "      <td>55.0</td>\n",
        "      <td>186</td>\n",
        "    </tr>\n",
        "    <tr>\n",
        "      <th>Tunisia</th>\n",
        "      <td>34</td>\n",
        "      <td>34.500000</td>\n",
        "      <td>34.5</td>\n",
        "      <td>2</td>\n",
        "    </tr>\n",
        "    <tr>\n",
        "      <th>UAE</th>\n",
        "      <td>4</td>\n",
        "      <td>44.181818</td>\n",
        "      <td>42.0</td>\n",
        "      <td>77</td>\n",
        "    </tr>\n",
        "    <tr>\n",
        "      <th>UK</th>\n",
        "      <td>30</td>\n",
        "      <td>34.500000</td>\n",
        "      <td>34.5</td>\n",
        "      <td>2</td>\n",
        "    </tr>\n",
        "    <tr>\n",
        "      <th>Yemen</th>\n",
        "      <td>44</td>\n",
        "      <td>44.000000</td>\n",
        "      <td>44.0</td>\n",
        "      <td>1</td>\n",
        "    </tr>\n",
        "  </tbody>\n",
        "</table>\n",
        "</div>"
       ],
       "metadata": {},
       "output_type": "pyout",
       "prompt_number": 33,
       "text": [
        "             age                             HCW\n",
        "            amin       mean median count_nonzero\n",
        "country                                         \n",
        "France        51  51.000000   51.0             1\n",
        "Iran          35  51.500000   51.0             8\n",
        "Italy          2  22.000000   22.0             2\n",
        "Jordan        25  41.300000   42.5            20\n",
        "KSA            0  51.171908   52.0           959\n",
        "Kuwait        47  53.000000   52.0             3\n",
        "Lebanon       60  60.000000   60.0             1\n",
        "Oman          31  55.333333   59.0             9\n",
        "Qatar         23  51.866667   55.0            15\n",
        "South Korea   16  54.190217   55.0           186\n",
        "Tunisia       34  34.500000   34.5             2\n",
        "UAE            4  44.181818   42.0            77\n",
        "UK            30  34.500000   34.5             2\n",
        "Yemen         44  44.000000   44.0             1"
       ]
      }
     ],
     "prompt_number": 33
    },
    {
     "cell_type": "markdown",
     "metadata": {},
     "source": [
      "Transposing is a cool feature...turn your rows into columns with a single letter."
     ]
    },
    {
     "cell_type": "code",
     "collapsed": false,
     "input": [
      "country_table.T"
     ],
     "language": "python",
     "metadata": {},
     "outputs": [
      {
       "html": [
        "<div style=\"max-width:1500px;overflow:auto;\">\n",
        "<table border=\"1\" class=\"dataframe\">\n",
        "  <thead>\n",
        "    <tr style=\"text-align: right;\">\n",
        "      <th></th>\n",
        "      <th>country</th>\n",
        "      <th>France</th>\n",
        "      <th>Iran</th>\n",
        "      <th>Italy</th>\n",
        "      <th>Jordan</th>\n",
        "      <th>KSA</th>\n",
        "      <th>Kuwait</th>\n",
        "      <th>Lebanon</th>\n",
        "      <th>Oman</th>\n",
        "      <th>Qatar</th>\n",
        "      <th>South Korea</th>\n",
        "      <th>Tunisia</th>\n",
        "      <th>UAE</th>\n",
        "      <th>UK</th>\n",
        "      <th>Yemen</th>\n",
        "    </tr>\n",
        "  </thead>\n",
        "  <tbody>\n",
        "    <tr>\n",
        "      <th>gender</th>\n",
        "      <th>count_nonzero</th>\n",
        "      <td>1</td>\n",
        "      <td>8.0</td>\n",
        "      <td>2</td>\n",
        "      <td>20.0</td>\n",
        "      <td>959.000000</td>\n",
        "      <td>3</td>\n",
        "      <td>1</td>\n",
        "      <td>9.000000</td>\n",
        "      <td>15.000000</td>\n",
        "      <td>186.000000</td>\n",
        "      <td>2.0</td>\n",
        "      <td>77.000000</td>\n",
        "      <td>2.0</td>\n",
        "      <td>1</td>\n",
        "    </tr>\n",
        "    <tr>\n",
        "      <th rowspan=\"3\" valign=\"top\">age</th>\n",
        "      <th>size</th>\n",
        "      <td>1</td>\n",
        "      <td>8.0</td>\n",
        "      <td>2</td>\n",
        "      <td>20.0</td>\n",
        "      <td>959.000000</td>\n",
        "      <td>3</td>\n",
        "      <td>1</td>\n",
        "      <td>9.000000</td>\n",
        "      <td>15.000000</td>\n",
        "      <td>186.000000</td>\n",
        "      <td>2.0</td>\n",
        "      <td>77.000000</td>\n",
        "      <td>2.0</td>\n",
        "      <td>1</td>\n",
        "    </tr>\n",
        "    <tr>\n",
        "      <th>mean</th>\n",
        "      <td>51</td>\n",
        "      <td>51.5</td>\n",
        "      <td>22</td>\n",
        "      <td>41.3</td>\n",
        "      <td>51.115957</td>\n",
        "      <td>53</td>\n",
        "      <td>60</td>\n",
        "      <td>55.333333</td>\n",
        "      <td>51.866667</td>\n",
        "      <td>54.190217</td>\n",
        "      <td>34.5</td>\n",
        "      <td>44.181818</td>\n",
        "      <td>34.5</td>\n",
        "      <td>44</td>\n",
        "    </tr>\n",
        "    <tr>\n",
        "      <th>median</th>\n",
        "      <td>51</td>\n",
        "      <td>51.0</td>\n",
        "      <td>22</td>\n",
        "      <td>42.5</td>\n",
        "      <td>52.000000</td>\n",
        "      <td>52</td>\n",
        "      <td>60</td>\n",
        "      <td>59.000000</td>\n",
        "      <td>55.000000</td>\n",
        "      <td>55.000000</td>\n",
        "      <td>34.5</td>\n",
        "      <td>42.000000</td>\n",
        "      <td>34.5</td>\n",
        "      <td>44</td>\n",
        "    </tr>\n",
        "  </tbody>\n",
        "</table>\n",
        "</div>"
       ],
       "metadata": {},
       "output_type": "pyout",
       "prompt_number": 196,
       "text": [
        "country               France  Iran  Italy  Jordan         KSA  Kuwait  \\\n",
        "gender count_nonzero       1   8.0      2    20.0  959.000000       3   \n",
        "age    size                1   8.0      2    20.0  959.000000       3   \n",
        "       mean               51  51.5     22    41.3   51.115957      53   \n",
        "       median             51  51.0     22    42.5   52.000000      52   \n",
        "\n",
        "country               Lebanon       Oman      Qatar  South Korea  Tunisia  \\\n",
        "gender count_nonzero        1   9.000000  15.000000   186.000000      2.0   \n",
        "age    size                 1   9.000000  15.000000   186.000000      2.0   \n",
        "       mean                60  55.333333  51.866667    54.190217     34.5   \n",
        "       median              60  59.000000  55.000000    55.000000     34.5   \n",
        "\n",
        "country                     UAE    UK  Yemen  \n",
        "gender count_nonzero  77.000000   2.0      1  \n",
        "age    size           77.000000   2.0      1  \n",
        "       mean           44.181818  34.5     44  \n",
        "       median         42.000000  34.5     44  "
       ]
      }
     ],
     "prompt_number": 196
    },
    {
     "cell_type": "markdown",
     "metadata": {},
     "source": [
      "Pivot tables are another great way to make fancy tables. If you can't make groupby work for your issue, you probably need a pivot table."
     ]
    },
    {
     "cell_type": "code",
     "collapsed": false,
     "input": [
      "gender_grouped = data.pivot_table(index=['country'],\n",
      "                           columns=['gender'],\n",
      "                           values='age',\n",
      "                           fill_value=np.nan)"
     ],
     "language": "python",
     "metadata": {},
     "outputs": [],
     "prompt_number": 40
    },
    {
     "cell_type": "markdown",
     "metadata": {},
     "source": [
      "Nice!"
     ]
    },
    {
     "cell_type": "code",
     "collapsed": false,
     "input": [
      "gender_grouped.T.head()"
     ],
     "language": "python",
     "metadata": {},
     "outputs": [
      {
       "html": [
        "<div style=\"max-width:1500px;overflow:auto;\">\n",
        "<table border=\"1\" class=\"dataframe\">\n",
        "  <thead>\n",
        "    <tr style=\"text-align: right;\">\n",
        "      <th>country</th>\n",
        "      <th>France</th>\n",
        "      <th>Iran</th>\n",
        "      <th>Italy</th>\n",
        "      <th>Jordan</th>\n",
        "      <th>KSA</th>\n",
        "      <th>Kuwait</th>\n",
        "      <th>Lebanon</th>\n",
        "      <th>Oman</th>\n",
        "      <th>Qatar</th>\n",
        "      <th>South Korea</th>\n",
        "      <th>Tunisia</th>\n",
        "      <th>UAE</th>\n",
        "      <th>UK</th>\n",
        "      <th>Yemen</th>\n",
        "    </tr>\n",
        "    <tr>\n",
        "      <th>gender</th>\n",
        "      <th></th>\n",
        "      <th></th>\n",
        "      <th></th>\n",
        "      <th></th>\n",
        "      <th></th>\n",
        "      <th></th>\n",
        "      <th></th>\n",
        "      <th></th>\n",
        "      <th></th>\n",
        "      <th></th>\n",
        "      <th></th>\n",
        "      <th></th>\n",
        "      <th></th>\n",
        "      <th></th>\n",
        "    </tr>\n",
        "  </thead>\n",
        "  <tbody>\n",
        "    <tr>\n",
        "      <th>F</th>\n",
        "      <td>NaN</td>\n",
        "      <td>51.0</td>\n",
        "      <td>22</td>\n",
        "      <td>42.666667</td>\n",
        "      <td>48.590323</td>\n",
        "      <td>NaN</td>\n",
        "      <td>NaN</td>\n",
        "      <td>31.000</td>\n",
        "      <td>56.000000</td>\n",
        "      <td>54.578947</td>\n",
        "      <td>35</td>\n",
        "      <td>44.789474</td>\n",
        "      <td>30</td>\n",
        "      <td>NaN</td>\n",
        "    </tr>\n",
        "    <tr>\n",
        "      <th>M</th>\n",
        "      <td>51</td>\n",
        "      <td>52.5</td>\n",
        "      <td>NaN</td>\n",
        "      <td>41.058824</td>\n",
        "      <td>52.465710</td>\n",
        "      <td>53</td>\n",
        "      <td>60</td>\n",
        "      <td>58.375</td>\n",
        "      <td>51.571429</td>\n",
        "      <td>53.916667</td>\n",
        "      <td>34</td>\n",
        "      <td>43.982759</td>\n",
        "      <td>39</td>\n",
        "      <td>44</td>\n",
        "    </tr>\n",
        "  </tbody>\n",
        "</table>\n",
        "</div>"
       ],
       "metadata": {},
       "output_type": "pyout",
       "prompt_number": 44,
       "text": [
        "country  France  Iran  Italy     Jordan        KSA  Kuwait  Lebanon    Oman  \\\n",
        "gender                                                                        \n",
        "F           NaN  51.0     22  42.666667  48.590323     NaN      NaN  31.000   \n",
        "M            51  52.5    NaN  41.058824  52.465710      53       60  58.375   \n",
        "\n",
        "country      Qatar  South Korea  Tunisia        UAE  UK  Yemen  \n",
        "gender                                                          \n",
        "F        56.000000    54.578947       35  44.789474  30    NaN  \n",
        "M        51.571429    53.916667       34  43.982759  39     44  "
       ]
      }
     ],
     "prompt_number": 44
    },
    {
     "cell_type": "markdown",
     "metadata": {},
     "source": [
      "If we plot this, it looks...okay."
     ]
    },
    {
     "cell_type": "code",
     "collapsed": false,
     "input": [
      "gender_grouped.T.plot(kind='bar')"
     ],
     "language": "python",
     "metadata": {},
     "outputs": [
      {
       "metadata": {},
       "output_type": "pyout",
       "prompt_number": 43,
       "text": [
        "<matplotlib.axes._subplots.AxesSubplot at 0xc607f98>"
       ]
      },
      {
       "metadata": {},
       "output_type": "display_data",
       "png": "[encoded data removed]",
       "text": [
        "<matplotlib.figure.Figure at 0xc733710>"
       ]
      }
     ],
     "prompt_number": 43
    },
    {
     "cell_type": "markdown",
     "metadata": {},
     "source": [
      "It might be better to look at the difference in age means. To do that we will make a new column, age_diff. We do column-wise math again, subtracting M from F."
     ]
    },
    {
     "cell_type": "code",
     "collapsed": false,
     "input": [
      "gender_grouped['age_diff'] = gender_grouped['M'] - gender_grouped['F']"
     ],
     "language": "python",
     "metadata": {},
     "outputs": [],
     "prompt_number": 45
    },
    {
     "cell_type": "markdown",
     "metadata": {},
     "source": [
      "Now we can plot the difference and it looks much better. Note the use of barh here instead of bar for a horizontal layout, and the order() argument to make things tidier."
     ]
    },
    {
     "cell_type": "code",
     "collapsed": false,
     "input": [
      "gender_grouped['age_diff'].order().plot(kind='barh')"
     ],
     "language": "python",
     "metadata": {},
     "outputs": [
      {
       "metadata": {},
       "output_type": "pyout",
       "prompt_number": 46,
       "text": [
        "<matplotlib.axes._subplots.AxesSubplot at 0xc6d29b0>"
       ]
      },
      {
       "metadata": {},
       "output_type": "display_data",
       "png": "[encoded data removed]",
       "text": [
        "<matplotlib.figure.Figure at 0x3c3f048>"
       ]
      }
     ],
     "prompt_number": 46
    },
    {
     "cell_type": "markdown",
     "metadata": {},
     "source": [
      "# II. Comparing data sets"
     ]
    },
    {
     "cell_type": "markdown",
     "metadata": {},
     "source": [
      "Here I am sampling our data set to pretend like we got new cases for a disease we are already tracking."
     ]
    },
    {
     "cell_type": "code",
     "collapsed": false,
     "input": [
      "old_list = data.sample(n=500)\n",
      "new_list= data.sample(50)"
     ],
     "language": "python",
     "metadata": {},
     "outputs": [],
     "prompt_number": 93
    },
    {
     "cell_type": "code",
     "collapsed": false,
     "input": [
      "print len(old_list), len(new_list)"
     ],
     "language": "python",
     "metadata": {},
     "outputs": [
      {
       "output_type": "stream",
       "stream": "stdout",
       "text": [
        "500 50\n"
       ]
      }
     ],
     "prompt_number": 94
    },
    {
     "cell_type": "code",
     "collapsed": false,
     "input": [
      "new_list.head()"
     ],
     "language": "python",
     "metadata": {},
     "outputs": [
      {
       "html": [
        "<div style=\"max-width:1500px;overflow:auto;\">\n",
        "<table border=\"1\" class=\"dataframe\">\n",
        "  <thead>\n",
        "    <tr style=\"text-align: right;\">\n",
        "      <th></th>\n",
        "      <th>number</th>\n",
        "      <th>FT</th>\n",
        "      <th>KSA_case</th>\n",
        "      <th>code</th>\n",
        "      <th>gender</th>\n",
        "      <th>age</th>\n",
        "      <th>country</th>\n",
        "      <th>province</th>\n",
        "      <th>city</th>\n",
        "      <th>district</th>\n",
        "      <th>...</th>\n",
        "      <th>citation</th>\n",
        "      <th>citation2</th>\n",
        "      <th>citation3</th>\n",
        "      <th>citation4</th>\n",
        "      <th>citation5</th>\n",
        "      <th>sequence</th>\n",
        "      <th>accession</th>\n",
        "      <th>patient</th>\n",
        "      <th>speculation</th>\n",
        "      <th>age_group</th>\n",
        "    </tr>\n",
        "  </thead>\n",
        "  <tbody>\n",
        "    <tr>\n",
        "      <th>400</th>\n",
        "      <td>403</td>\n",
        "      <td>380</td>\n",
        "      <td>NaN</td>\n",
        "      <td>38F</td>\n",
        "      <td>M</td>\n",
        "      <td>38</td>\n",
        "      <td>KSA</td>\n",
        "      <td>NaN</td>\n",
        "      <td>Jeddah</td>\n",
        "      <td>NaN</td>\n",
        "      <td>...</td>\n",
        "      <td>http://www.moh.gov.sa/en/CoronaNew/PressReleas...</td>\n",
        "      <td>NaN</td>\n",
        "      <td>NaN</td>\n",
        "      <td>NaN</td>\n",
        "      <td>NaN</td>\n",
        "      <td>NaN</td>\n",
        "      <td>NaN</td>\n",
        "      <td>NaN</td>\n",
        "      <td>NaN</td>\n",
        "      <td>30-39</td>\n",
        "    </tr>\n",
        "    <tr>\n",
        "      <th>506</th>\n",
        "      <td>509</td>\n",
        "      <td>492</td>\n",
        "      <td>NaN</td>\n",
        "      <td>47M</td>\n",
        "      <td>M</td>\n",
        "      <td>47</td>\n",
        "      <td>KSA</td>\n",
        "      <td>NaN</td>\n",
        "      <td>Jeddah</td>\n",
        "      <td>NaN</td>\n",
        "      <td>...</td>\n",
        "      <td>http://www.moh.gov.sa/en/CoronaNew/PressReleas...</td>\n",
        "      <td>NaN</td>\n",
        "      <td>NaN</td>\n",
        "      <td>NaN</td>\n",
        "      <td>NaN</td>\n",
        "      <td>NaN</td>\n",
        "      <td>NaN</td>\n",
        "      <td>NaN</td>\n",
        "      <td>NaN</td>\n",
        "      <td>40-49</td>\n",
        "    </tr>\n",
        "    <tr>\n",
        "      <th>1001</th>\n",
        "      <td>1005</td>\n",
        "      <td>1113</td>\n",
        "      <td>NaN</td>\n",
        "      <td>54M</td>\n",
        "      <td>M</td>\n",
        "      <td>54</td>\n",
        "      <td>KSA</td>\n",
        "      <td>NaN</td>\n",
        "      <td>Al-Hofuf</td>\n",
        "      <td>NaN</td>\n",
        "      <td>...</td>\n",
        "      <td>http://www.who.int/csr/don/9-april-2015-mers-s...</td>\n",
        "      <td>http://www.moh.gov.sa/en/CCC/PressReleases/Pag...</td>\n",
        "      <td>NaN</td>\n",
        "      <td>NaN</td>\n",
        "      <td>NaN</td>\n",
        "      <td>NaN</td>\n",
        "      <td>NaN</td>\n",
        "      <td>NaN</td>\n",
        "      <td>NaN</td>\n",
        "      <td>50-59</td>\n",
        "    </tr>\n",
        "    <tr>\n",
        "      <th>981</th>\n",
        "      <td>985</td>\n",
        "      <td>1109</td>\n",
        "      <td>NaN</td>\n",
        "      <td>60M</td>\n",
        "      <td>M</td>\n",
        "      <td>60</td>\n",
        "      <td>KSA</td>\n",
        "      <td>NaN</td>\n",
        "      <td>Taimah</td>\n",
        "      <td>NaN</td>\n",
        "      <td>...</td>\n",
        "      <td>http://www.who.int/csr/don/26-march-2015-mers-...</td>\n",
        "      <td>http://www.moh.gov.sa/en/CCC/PressReleases/Pag...</td>\n",
        "      <td>NaN</td>\n",
        "      <td>NaN</td>\n",
        "      <td>NaN</td>\n",
        "      <td>NaN</td>\n",
        "      <td>NaN</td>\n",
        "      <td>NaN</td>\n",
        "      <td>NaN</td>\n",
        "      <td>60-69</td>\n",
        "    </tr>\n",
        "    <tr>\n",
        "      <th>277</th>\n",
        "      <td>280</td>\n",
        "      <td>263</td>\n",
        "      <td>NaN</td>\n",
        "      <td>52M</td>\n",
        "      <td>M</td>\n",
        "      <td>52</td>\n",
        "      <td>KSA</td>\n",
        "      <td>NaN</td>\n",
        "      <td>Jeddah</td>\n",
        "      <td>NaN</td>\n",
        "      <td>...</td>\n",
        "      <td>http://www.promedmail.org/direct.php?id=201404...</td>\n",
        "      <td>NaN</td>\n",
        "      <td>NaN</td>\n",
        "      <td>NaN</td>\n",
        "      <td>NaN</td>\n",
        "      <td>NaN</td>\n",
        "      <td>NaN</td>\n",
        "      <td>NaN</td>\n",
        "      <td>NaN</td>\n",
        "      <td>50-59</td>\n",
        "    </tr>\n",
        "  </tbody>\n",
        "</table>\n",
        "<p>5 rows \u00d7 45 columns</p>\n",
        "</div>"
       ],
       "metadata": {},
       "output_type": "pyout",
       "prompt_number": 95,
       "text": [
        "     number    FT KSA_case code gender  age country province      city  \\\n",
        "400     403   380      NaN  38F      M   38     KSA      NaN    Jeddah   \n",
        "506     509   492      NaN  47M      M   47     KSA      NaN    Jeddah   \n",
        "1001   1005  1113      NaN  54M      M   54     KSA      NaN  Al-Hofuf   \n",
        "981     985  1109      NaN  60M      M   60     KSA      NaN    Taimah   \n",
        "277     280   263      NaN  52M      M   52     KSA      NaN    Jeddah   \n",
        "\n",
        "     district    ...                                              citation  \\\n",
        "400       NaN    ...     http://www.moh.gov.sa/en/CoronaNew/PressReleas...   \n",
        "506       NaN    ...     http://www.moh.gov.sa/en/CoronaNew/PressReleas...   \n",
        "1001      NaN    ...     http://www.who.int/csr/don/9-april-2015-mers-s...   \n",
        "981       NaN    ...     http://www.who.int/csr/don/26-march-2015-mers-...   \n",
        "277       NaN    ...     http://www.promedmail.org/direct.php?id=201404...   \n",
        "\n",
        "                                              citation2 citation3 citation4  \\\n",
        "400                                                 NaN       NaN       NaN   \n",
        "506                                                 NaN       NaN       NaN   \n",
        "1001  http://www.moh.gov.sa/en/CCC/PressReleases/Pag...       NaN       NaN   \n",
        "981   http://www.moh.gov.sa/en/CCC/PressReleases/Pag...       NaN       NaN   \n",
        "277                                                 NaN       NaN       NaN   \n",
        "\n",
        "     citation5 sequence accession patient speculation age_group  \n",
        "400        NaN      NaN       NaN     NaN         NaN     30-39  \n",
        "506        NaN      NaN       NaN     NaN         NaN     40-49  \n",
        "1001       NaN      NaN       NaN     NaN         NaN     50-59  \n",
        "981        NaN      NaN       NaN     NaN         NaN     60-69  \n",
        "277        NaN      NaN       NaN     NaN         NaN     50-59  \n",
        "\n",
        "[5 rows x 45 columns]"
       ]
      }
     ],
     "prompt_number": 95
    },
    {
     "cell_type": "markdown",
     "metadata": {},
     "source": [
      "Okay here is the magic..I want to find case ids in the new list that also appear in the old list. I just use the isin() method, and feed it a list of the identifiers I want to compare against. It returns True and False."
     ]
    },
    {
     "cell_type": "code",
     "collapsed": false,
     "input": [
      "new_list.number.isin(old_flu.number)[:10]"
     ],
     "language": "python",
     "metadata": {},
     "outputs": [
      {
       "metadata": {},
       "output_type": "pyout",
       "prompt_number": 137,
       "text": [
        "400      True\n",
        "506     False\n",
        "1001     True\n",
        "981     False\n",
        "277     False\n",
        "376      True\n",
        "215      True\n",
        "974      True\n",
        "1111    False\n",
        "223      True\n",
        "Name: number, dtype: bool"
       ]
      }
     ],
     "prompt_number": 137
    },
    {
     "cell_type": "markdown",
     "metadata": {},
     "source": [
      "It looks like there are some! (This number will change each time we run this code because I am sampling randomly.)"
     ]
    },
    {
     "cell_type": "code",
     "collapsed": false,
     "input": [
      "new_list.number.isin(old_list.number).value_counts()"
     ],
     "language": "python",
     "metadata": {},
     "outputs": [
      {
       "metadata": {},
       "output_type": "pyout",
       "prompt_number": 97,
       "text": [
        "False    26\n",
        "True     24\n",
        "dtype: int64"
       ]
      }
     ],
     "prompt_number": 97
    },
    {
     "cell_type": "markdown",
     "metadata": {},
     "source": [
      "I want to create a new data set that has just new cases that appear in the old data set."
     ]
    },
    {
     "cell_type": "code",
     "collapsed": false,
     "input": [
      "matches = new_list[new_list.number.isin(old_list.number)]"
     ],
     "language": "python",
     "metadata": {},
     "outputs": [],
     "prompt_number": 138
    },
    {
     "cell_type": "code",
     "collapsed": false,
     "input": [
      "matches.head()"
     ],
     "language": "python",
     "metadata": {},
     "outputs": [
      {
       "html": [
        "<div style=\"max-width:1500px;overflow:auto;\">\n",
        "<table border=\"1\" class=\"dataframe\">\n",
        "  <thead>\n",
        "    <tr style=\"text-align: right;\">\n",
        "      <th></th>\n",
        "      <th>number</th>\n",
        "      <th>FT</th>\n",
        "      <th>KSA_case</th>\n",
        "      <th>code</th>\n",
        "      <th>gender</th>\n",
        "      <th>age</th>\n",
        "      <th>country</th>\n",
        "      <th>province</th>\n",
        "      <th>city</th>\n",
        "      <th>district</th>\n",
        "      <th>...</th>\n",
        "      <th>citation</th>\n",
        "      <th>citation2</th>\n",
        "      <th>citation3</th>\n",
        "      <th>citation4</th>\n",
        "      <th>citation5</th>\n",
        "      <th>sequence</th>\n",
        "      <th>accession</th>\n",
        "      <th>patient</th>\n",
        "      <th>speculation</th>\n",
        "      <th>age_group</th>\n",
        "    </tr>\n",
        "  </thead>\n",
        "  <tbody>\n",
        "    <tr>\n",
        "      <th>400</th>\n",
        "      <td>403</td>\n",
        "      <td>380</td>\n",
        "      <td>NaN</td>\n",
        "      <td>38F</td>\n",
        "      <td>M</td>\n",
        "      <td>38</td>\n",
        "      <td>KSA</td>\n",
        "      <td>NaN</td>\n",
        "      <td>Jeddah</td>\n",
        "      <td>NaN</td>\n",
        "      <td>...</td>\n",
        "      <td>http://www.moh.gov.sa/en/CoronaNew/PressReleas...</td>\n",
        "      <td>NaN</td>\n",
        "      <td>NaN</td>\n",
        "      <td>NaN</td>\n",
        "      <td>NaN</td>\n",
        "      <td>NaN</td>\n",
        "      <td>NaN</td>\n",
        "      <td>NaN</td>\n",
        "      <td>NaN</td>\n",
        "      <td>30-39</td>\n",
        "    </tr>\n",
        "    <tr>\n",
        "      <th>506</th>\n",
        "      <td>509</td>\n",
        "      <td>492</td>\n",
        "      <td>NaN</td>\n",
        "      <td>47M</td>\n",
        "      <td>M</td>\n",
        "      <td>47</td>\n",
        "      <td>KSA</td>\n",
        "      <td>NaN</td>\n",
        "      <td>Jeddah</td>\n",
        "      <td>NaN</td>\n",
        "      <td>...</td>\n",
        "      <td>http://www.moh.gov.sa/en/CoronaNew/PressReleas...</td>\n",
        "      <td>NaN</td>\n",
        "      <td>NaN</td>\n",
        "      <td>NaN</td>\n",
        "      <td>NaN</td>\n",
        "      <td>NaN</td>\n",
        "      <td>NaN</td>\n",
        "      <td>NaN</td>\n",
        "      <td>NaN</td>\n",
        "      <td>40-49</td>\n",
        "    </tr>\n",
        "    <tr>\n",
        "      <th>1001</th>\n",
        "      <td>1005</td>\n",
        "      <td>1113</td>\n",
        "      <td>NaN</td>\n",
        "      <td>54M</td>\n",
        "      <td>M</td>\n",
        "      <td>54</td>\n",
        "      <td>KSA</td>\n",
        "      <td>NaN</td>\n",
        "      <td>Al-Hofuf</td>\n",
        "      <td>NaN</td>\n",
        "      <td>...</td>\n",
        "      <td>http://www.who.int/csr/don/9-april-2015-mers-s...</td>\n",
        "      <td>http://www.moh.gov.sa/en/CCC/PressReleases/Pag...</td>\n",
        "      <td>NaN</td>\n",
        "      <td>NaN</td>\n",
        "      <td>NaN</td>\n",
        "      <td>NaN</td>\n",
        "      <td>NaN</td>\n",
        "      <td>NaN</td>\n",
        "      <td>NaN</td>\n",
        "      <td>50-59</td>\n",
        "    </tr>\n",
        "    <tr>\n",
        "      <th>981</th>\n",
        "      <td>985</td>\n",
        "      <td>1109</td>\n",
        "      <td>NaN</td>\n",
        "      <td>60M</td>\n",
        "      <td>M</td>\n",
        "      <td>60</td>\n",
        "      <td>KSA</td>\n",
        "      <td>NaN</td>\n",
        "      <td>Taimah</td>\n",
        "      <td>NaN</td>\n",
        "      <td>...</td>\n",
        "      <td>http://www.who.int/csr/don/26-march-2015-mers-...</td>\n",
        "      <td>http://www.moh.gov.sa/en/CCC/PressReleases/Pag...</td>\n",
        "      <td>NaN</td>\n",
        "      <td>NaN</td>\n",
        "      <td>NaN</td>\n",
        "      <td>NaN</td>\n",
        "      <td>NaN</td>\n",
        "      <td>NaN</td>\n",
        "      <td>NaN</td>\n",
        "      <td>60-69</td>\n",
        "    </tr>\n",
        "    <tr>\n",
        "      <th>277</th>\n",
        "      <td>280</td>\n",
        "      <td>263</td>\n",
        "      <td>NaN</td>\n",
        "      <td>52M</td>\n",
        "      <td>M</td>\n",
        "      <td>52</td>\n",
        "      <td>KSA</td>\n",
        "      <td>NaN</td>\n",
        "      <td>Jeddah</td>\n",
        "      <td>NaN</td>\n",
        "      <td>...</td>\n",
        "      <td>http://www.promedmail.org/direct.php?id=201404...</td>\n",
        "      <td>NaN</td>\n",
        "      <td>NaN</td>\n",
        "      <td>NaN</td>\n",
        "      <td>NaN</td>\n",
        "      <td>NaN</td>\n",
        "      <td>NaN</td>\n",
        "      <td>NaN</td>\n",
        "      <td>NaN</td>\n",
        "      <td>50-59</td>\n",
        "    </tr>\n",
        "  </tbody>\n",
        "</table>\n",
        "<p>5 rows \u00d7 45 columns</p>\n",
        "</div>"
       ],
       "metadata": {},
       "output_type": "pyout",
       "prompt_number": 139,
       "text": [
        "     number    FT KSA_case code gender  age country province      city  \\\n",
        "400     403   380      NaN  38F      M   38     KSA      NaN    Jeddah   \n",
        "506     509   492      NaN  47M      M   47     KSA      NaN    Jeddah   \n",
        "1001   1005  1113      NaN  54M      M   54     KSA      NaN  Al-Hofuf   \n",
        "981     985  1109      NaN  60M      M   60     KSA      NaN    Taimah   \n",
        "277     280   263      NaN  52M      M   52     KSA      NaN    Jeddah   \n",
        "\n",
        "     district    ...                                              citation  \\\n",
        "400       NaN    ...     http://www.moh.gov.sa/en/CoronaNew/PressReleas...   \n",
        "506       NaN    ...     http://www.moh.gov.sa/en/CoronaNew/PressReleas...   \n",
        "1001      NaN    ...     http://www.who.int/csr/don/9-april-2015-mers-s...   \n",
        "981       NaN    ...     http://www.who.int/csr/don/26-march-2015-mers-...   \n",
        "277       NaN    ...     http://www.promedmail.org/direct.php?id=201404...   \n",
        "\n",
        "                                              citation2 citation3 citation4  \\\n",
        "400                                                 NaN       NaN       NaN   \n",
        "506                                                 NaN       NaN       NaN   \n",
        "1001  http://www.moh.gov.sa/en/CCC/PressReleases/Pag...       NaN       NaN   \n",
        "981   http://www.moh.gov.sa/en/CCC/PressReleases/Pag...       NaN       NaN   \n",
        "277                                                 NaN       NaN       NaN   \n",
        "\n",
        "     citation5 sequence accession patient speculation age_group  \n",
        "400        NaN      NaN       NaN     NaN         NaN     30-39  \n",
        "506        NaN      NaN       NaN     NaN         NaN     40-49  \n",
        "1001       NaN      NaN       NaN     NaN         NaN     50-59  \n",
        "981        NaN      NaN       NaN     NaN         NaN     60-69  \n",
        "277        NaN      NaN       NaN     NaN         NaN     50-59  \n",
        "\n",
        "[5 rows x 45 columns]"
       ]
      }
     ],
     "prompt_number": 139
    },
    {
     "cell_type": "code",
     "collapsed": false,
     "input": [
      "len(matches)"
     ],
     "language": "python",
     "metadata": {},
     "outputs": [
      {
       "metadata": {},
       "output_type": "pyout",
       "prompt_number": 140,
       "text": [
        "24"
       ]
      }
     ],
     "prompt_number": 140
    },
    {
     "cell_type": "markdown",
     "metadata": {},
     "source": [
      "Or maybe I want to create a data set of cases that DON'T appear in the old set."
     ]
    },
    {
     "cell_type": "code",
     "collapsed": false,
     "input": [
      "novel = new_list[new_list.number.isin(old_list.number) == False]"
     ],
     "language": "python",
     "metadata": {},
     "outputs": [],
     "prompt_number": 141
    },
    {
     "cell_type": "code",
     "collapsed": false,
     "input": [
      "len(novel)"
     ],
     "language": "python",
     "metadata": {},
     "outputs": [
      {
       "metadata": {},
       "output_type": "pyout",
       "prompt_number": 142,
       "text": [
        "26"
       ]
      }
     ],
     "prompt_number": 142
    },
    {
     "cell_type": "markdown",
     "metadata": {},
     "source": [
      "**This can work on ANY kind of identifier, including strings.**"
     ]
    },
    {
     "cell_type": "markdown",
     "metadata": {},
     "source": [
      "# III. More data cleaning"
     ]
    },
    {
     "cell_type": "markdown",
     "metadata": {},
     "source": [
      "Let's pretend that 99 is used as a null value, or that we don't believe anyone older than 90 should be in our data set."
     ]
    },
    {
     "cell_type": "code",
     "collapsed": false,
     "input": [
      "data.age.max()"
     ],
     "language": "python",
     "metadata": {},
     "outputs": [
      {
       "metadata": {},
       "output_type": "pyout",
       "prompt_number": 101,
       "text": [
        "99.0"
       ]
      }
     ],
     "prompt_number": 101
    },
    {
     "cell_type": "markdown",
     "metadata": {},
     "source": [
      "We can select out records that meet our criteria, and set them to null values."
     ]
    },
    {
     "cell_type": "code",
     "collapsed": false,
     "input": [
      "data.age[data.age > 90] = np.nan"
     ],
     "language": "python",
     "metadata": {},
     "outputs": [],
     "prompt_number": 143
    },
    {
     "cell_type": "code",
     "collapsed": false,
     "input": [
      "data.age.max()"
     ],
     "language": "python",
     "metadata": {},
     "outputs": [
      {
       "metadata": {},
       "output_type": "pyout",
       "prompt_number": 103,
       "text": [
        "90.0"
       ]
      }
     ],
     "prompt_number": 103
    },
    {
     "cell_type": "markdown",
     "metadata": {},
     "source": [
      "Wait I changed my mind, I want to use -9999 as my null value. Here I use the fillna() method to replace np.nan values with my new number."
     ]
    },
    {
     "cell_type": "code",
     "collapsed": false,
     "input": [
      "data.age = data.age.fillna(method='ffill')"
     ],
     "language": "python",
     "metadata": {},
     "outputs": [],
     "prompt_number": 203
    },
    {
     "cell_type": "code",
     "collapsed": false,
     "input": [
      "data.age.min()"
     ],
     "language": "python",
     "metadata": {},
     "outputs": [
      {
       "metadata": {},
       "output_type": "pyout",
       "prompt_number": 204,
       "text": [
        "-9999.0"
       ]
      }
     ],
     "prompt_number": 204
    },
    {
     "cell_type": "markdown",
     "metadata": {},
     "source": [
      "We can also create more complex selection criteria."
     ]
    },
    {
     "cell_type": "code",
     "collapsed": false,
     "input": [
      "data.age[(data.age < 10) & (data.country == 'KSA')] = 'missing'"
     ],
     "language": "python",
     "metadata": {},
     "outputs": [],
     "prompt_number": 144
    },
    {
     "cell_type": "code",
     "collapsed": false,
     "input": [
      "data.age.unique()"
     ],
     "language": "python",
     "metadata": {},
     "outputs": [
      {
       "metadata": {},
       "output_type": "pyout",
       "prompt_number": 148,
       "text": [
        "array([25.0, 30.0, 40.0, 60.0, 29.0, 33.0, 28.0, 45.0, 46.0, 53.0, 49.0,\n",
        "       70.0, 31.0, 39.0, 16.0, 61.0, 69.0, 51.0, 73.0, 56.0, 58.0, 55.0,\n",
        "       59.0, 24.0, 87.0, 77.0, 62.0, nan, 50.0, 52.0, 48.0, 43.0, 81.0,\n",
        "       64.0, 66.0, 34.0, 35.0, 63.0, 85.0, 76.0, 21.0, 2.0, 42.0, 14.0,\n",
        "       83.0, 75.0, 68.0, 'missing', 41.0, 32.0, 12.0, 15.0, 82.0, 26.0,\n",
        "       67.0, 54.0, 38.0, 19.0, 79.0, 47.0, 18.0, 74.0, 22.0, 78.0, 23.0,\n",
        "       72.0, 65.0, 37.0, 8.0, 57.0, 27.0, 86.0, 71.0, 90.0, 44.0, 13.0,\n",
        "       88.0, 17.0, 89.0, 11.0, 80.0, 4.0, 36.0, 10.0, 84.0, 20.0], dtype=object)"
       ]
      }
     ],
     "prompt_number": 148
    },
    {
     "cell_type": "markdown",
     "metadata": {},
     "source": [
      "Another nifty function is splitting up columns into two different columns"
     ]
    },
    {
     "cell_type": "code",
     "collapsed": false,
     "input": [
      "data.code.head()"
     ],
     "language": "python",
     "metadata": {},
     "outputs": [
      {
       "metadata": {},
       "output_type": "pyout",
       "prompt_number": 105,
       "text": [
        "0    25M\n",
        "1    30M\n",
        "2    40F\n",
        "3    60M\n",
        "4    29M\n",
        "Name: code, dtype: object"
       ]
      }
     ],
     "prompt_number": 105
    },
    {
     "cell_type": "markdown",
     "metadata": {},
     "source": [
      "Combining apply and lambda is a powerful (but sometimes tough) way to do this. Pandas does most things column-wise. Apply is used to do things row-wise. Here we make sure to use the dropna() method to remove our null values, since our operation will only work on strings. The patient's age is the first two characters of the string, so we select those and put them in a new column. Then we do the same for sex."
     ]
    },
    {
     "cell_type": "code",
     "collapsed": false,
     "input": [
      "data['new_age'] = data.code.dropna().apply(lambda x: x[0:2])"
     ],
     "language": "python",
     "metadata": {},
     "outputs": [],
     "prompt_number": 47
    },
    {
     "cell_type": "code",
     "collapsed": false,
     "input": [
      "data['sex'] = data.code.dropna().apply(lambda x: x[-1])"
     ],
     "language": "python",
     "metadata": {},
     "outputs": [],
     "prompt_number": 48
    },
    {
     "cell_type": "markdown",
     "metadata": {},
     "source": [
      "Look, it worked!"
     ]
    },
    {
     "cell_type": "code",
     "collapsed": false,
     "input": [
      "data[['code', 'new_age', 'sex']].head()"
     ],
     "language": "python",
     "metadata": {},
     "outputs": [
      {
       "html": [
        "<div style=\"max-width:1500px;overflow:auto;\">\n",
        "<table border=\"1\" class=\"dataframe\">\n",
        "  <thead>\n",
        "    <tr style=\"text-align: right;\">\n",
        "      <th></th>\n",
        "      <th>code</th>\n",
        "      <th>new_age</th>\n",
        "      <th>sex</th>\n",
        "    </tr>\n",
        "  </thead>\n",
        "  <tbody>\n",
        "    <tr>\n",
        "      <th>0</th>\n",
        "      <td>25M</td>\n",
        "      <td>25</td>\n",
        "      <td>M</td>\n",
        "    </tr>\n",
        "    <tr>\n",
        "      <th>1</th>\n",
        "      <td>30M</td>\n",
        "      <td>30</td>\n",
        "      <td>M</td>\n",
        "    </tr>\n",
        "    <tr>\n",
        "      <th>2</th>\n",
        "      <td>40F</td>\n",
        "      <td>40</td>\n",
        "      <td>F</td>\n",
        "    </tr>\n",
        "    <tr>\n",
        "      <th>3</th>\n",
        "      <td>60M</td>\n",
        "      <td>60</td>\n",
        "      <td>M</td>\n",
        "    </tr>\n",
        "    <tr>\n",
        "      <th>4</th>\n",
        "      <td>29M</td>\n",
        "      <td>29</td>\n",
        "      <td>M</td>\n",
        "    </tr>\n",
        "  </tbody>\n",
        "</table>\n",
        "</div>"
       ],
       "metadata": {},
       "output_type": "pyout",
       "prompt_number": 49,
       "text": [
        "  code new_age sex\n",
        "0  25M      25   M\n",
        "1  30M      30   M\n",
        "2  40F      40   F\n",
        "3  60M      60   M\n",
        "4  29M      29   M"
       ]
      }
     ],
     "prompt_number": 49
    },
    {
     "cell_type": "markdown",
     "metadata": {},
     "source": [
      "Another thing you might want to do is split up names into first name and surname. We don't have names in our data set, so we'll use the country column to exemplify that (keep an eye on South Korea)."
     ]
    },
    {
     "cell_type": "code",
     "collapsed": false,
     "input": [
      "data.country.unique()"
     ],
     "language": "python",
     "metadata": {},
     "outputs": [
      {
       "metadata": {},
       "output_type": "pyout",
       "prompt_number": 125,
       "text": [
        "array(['Jordan', 'KSA', 'Qatar', 'UK', 'UAE', 'France', 'Tunisia', 'Italy',\n",
        "       nan, 'Oman', 'Kuwait', 'Yemen', 'Lebanon', 'Iran', 'South Korea'], dtype=object)"
       ]
      }
     ],
     "prompt_number": 125
    },
    {
     "cell_type": "markdown",
     "metadata": {},
     "source": [
      "We use the .split() method to split the string, and insert a space to tell the computer we want to split on a space."
     ]
    },
    {
     "cell_type": "code",
     "collapsed": false,
     "input": [
      "data.country.dropna().apply(lambda x: x.split(' '))[-10:]"
     ],
     "language": "python",
     "metadata": {},
     "outputs": [
      {
       "metadata": {},
       "output_type": "pyout",
       "prompt_number": 51,
       "text": [
        "1281    [South, Korea]\n",
        "1282             [KSA]\n",
        "1283    [South, Korea]\n",
        "1284    [South, Korea]\n",
        "1285    [South, Korea]\n",
        "1286             [KSA]\n",
        "1287             [KSA]\n",
        "1288             [KSA]\n",
        "1289             [KSA]\n",
        "1290             [KSA]\n",
        "Name: country, dtype: object"
       ]
      }
     ],
     "prompt_number": 51
    },
    {
     "cell_type": "markdown",
     "metadata": {},
     "source": [
      "The we use our bracket selections, e.g. [-1] to say we want the last word in the string set."
     ]
    },
    {
     "cell_type": "code",
     "collapsed": false,
     "input": [
      "data.country.dropna().apply(lambda x: x.split(' ')[-1])[-10:]"
     ],
     "language": "python",
     "metadata": {},
     "outputs": [
      {
       "metadata": {},
       "output_type": "pyout",
       "prompt_number": 136,
       "text": [
        "1281    Korea\n",
        "1282      KSA\n",
        "1283    Korea\n",
        "1284    Korea\n",
        "1285    Korea\n",
        "1286      KSA\n",
        "1287      KSA\n",
        "1288      KSA\n",
        "1289      KSA\n",
        "1290      KSA\n",
        "Name: country, dtype: object"
       ]
      }
     ],
     "prompt_number": 136
    },
    {
     "cell_type": "markdown",
     "metadata": {},
     "source": [
      "# IV. Homework"
     ]
    },
    {
     "cell_type": "markdown",
     "metadata": {},
     "source": [
      "Answer the questions in lesson2_homework. I'll post the answers after class #3."
     ]
    }
   ],
   "metadata": {}
  }
 ]
}